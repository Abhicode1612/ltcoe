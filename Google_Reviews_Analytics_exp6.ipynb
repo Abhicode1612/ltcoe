{
  "nbformat": 4,
  "nbformat_minor": 0,
  "metadata": {
    "colab": {
      "provenance": []
    },
    "kernelspec": {
      "name": "python3",
      "display_name": "Python 3"
    },
    "language_info": {
      "name": "python"
    }
  },
  "cells": [
    {
      "cell_type": "markdown",
      "source": [
        "# **Google Reviews Analytics :Topic Modeling of Dominoz Reviews using LDA**"
      ],
      "metadata": {
        "id": "nVTQmbbBrsvQ"
      }
    },
    {
      "cell_type": "markdown",
      "source": [
        "Steps of LDA (Latent Dirichlet Allocation):\n",
        "\n",
        "1.Choose the number of topics (k) you want to extract from the corpus.\n",
        "\n",
        "2.Preprocess the reviews corpus by removing stop words, punctuations, and converting words to their root forms using stemming or lemmatization.\n",
        "\n",
        "3.Create a vocabulary list of all unique words in the corpus.\n",
        "\n",
        "4.Convert each review in the corpus into a bag-of-words representation, where each word is represented by its index in the vocabulary list and the count of that word in the review.\n",
        "\n",
        "5.Initialize the model by randomly assigning each word in each review  to one of the k topics.\n",
        "\n",
        "6.For each review 'r' in the corpus, iterate through each word w in the review and calculate the probability distribution over the k topics, given the current assignments of all other words in the document to their topics and the current topic-word distribution.\n",
        "\n",
        "7.Sample a new topic assignment for word w based on the probability distribution calculated in step 6.\n",
        "\n",
        "8.Repeat steps 6 and 7 for all reviewss in the corpus until convergence is achieved.\n",
        "\n",
        "9.Output the topic-word distribution and document-topic distribution as the final result.\n"
      ],
      "metadata": {
        "id": "cZLhrFRPrzTh"
      }
    },
    {
      "cell_type": "code",
      "source": [
        "!pip install nltk"
      ],
      "metadata": {
        "colab": {
          "base_uri": "https://localhost:8080/"
        },
        "id": "eeEAKLH1tC60",
        "outputId": "17b6b9ba-91f4-4bde-a8fb-b00e96cf8467"
      },
      "execution_count": null,
      "outputs": [
        {
          "output_type": "stream",
          "name": "stdout",
          "text": [
            "Looking in indexes: https://pypi.org/simple, https://us-python.pkg.dev/colab-wheels/public/simple/\n",
            "Requirement already satisfied: nltk in /usr/local/lib/python3.8/dist-packages (3.7)\n",
            "Requirement already satisfied: joblib in /usr/local/lib/python3.8/dist-packages (from nltk) (1.2.0)\n",
            "Requirement already satisfied: click in /usr/local/lib/python3.8/dist-packages (from nltk) (7.1.2)\n",
            "Requirement already satisfied: regex>=2021.8.3 in /usr/local/lib/python3.8/dist-packages (from nltk) (2022.6.2)\n",
            "Requirement already satisfied: tqdm in /usr/local/lib/python3.8/dist-packages (from nltk) (4.64.1)\n"
          ]
        }
      ]
    },
    {
      "cell_type": "code",
      "source": [
        "import nltk\n",
        "nltk.download('stopwords')"
      ],
      "metadata": {
        "id": "2deSjw4jtTJ1",
        "colab": {
          "base_uri": "https://localhost:8080/"
        },
        "outputId": "c83ace50-db0d-41ca-f046-aa08272c623f"
      },
      "execution_count": null,
      "outputs": [
        {
          "output_type": "stream",
          "name": "stderr",
          "text": [
            "[nltk_data] Downloading package stopwords to /root/nltk_data...\n",
            "[nltk_data]   Unzipping corpora/stopwords.zip.\n"
          ]
        },
        {
          "output_type": "execute_result",
          "data": {
            "text/plain": [
              "True"
            ]
          },
          "metadata": {},
          "execution_count": 2
        }
      ]
    },
    {
      "cell_type": "code",
      "source": [
        "import nltk\n",
        "from nltk.corpus import stopwords  \n",
        "from nltk.stem import WordNetLemmatizer  \n",
        "from sklearn.feature_extraction.text import TfidfVectorizer\n",
        "stop_words=set(nltk.corpus.stopwords.words('english'))"
      ],
      "metadata": {
        "id": "tnoF6JkusxBu"
      },
      "execution_count": null,
      "outputs": []
    },
    {
      "cell_type": "code",
      "source": [
        "import pandas as pd\n",
        "df = pd.read_csv('/content/google_reviews.csv')\n",
        "df"
      ],
      "metadata": {
        "colab": {
          "base_uri": "https://localhost:8080/",
          "height": 815
        },
        "id": "fAs5nxMPThKX",
        "outputId": "e9ec8194-bf0e-4f19-857d-8858e6ea0c41"
      },
      "execution_count": null,
      "outputs": [
        {
          "output_type": "execute_result",
          "data": {
            "text/plain": [
              "                                                  Text\n",
              "0    Service is not good as wanted. Very limited st...\n",
              "1    Dominos has become every ones choice because o...\n",
              "2    As u know dominos is favorite for all of us.\\n...\n",
              "3    Small place,\\nGood staff\\nGot my order very qu...\n",
              "4    Less Crowded. A small place with limited Seats...\n",
              "..                                                 ...\n",
              "315                   Too little space to stand or sit\n",
              "316                         Nice place for having food\n",
              "317                           Good place to have pizza\n",
              "318                       Seating space is very small.\n",
              "319                        Not a dine in place anymore\n",
              "\n",
              "[320 rows x 1 columns]"
            ],
            "text/html": [
              "\n",
              "  <div id=\"df-ef6e9aee-3484-41ea-94a2-a16feab3114d\">\n",
              "    <div class=\"colab-df-container\">\n",
              "      <div>\n",
              "<style scoped>\n",
              "    .dataframe tbody tr th:only-of-type {\n",
              "        vertical-align: middle;\n",
              "    }\n",
              "\n",
              "    .dataframe tbody tr th {\n",
              "        vertical-align: top;\n",
              "    }\n",
              "\n",
              "    .dataframe thead th {\n",
              "        text-align: right;\n",
              "    }\n",
              "</style>\n",
              "<table border=\"1\" class=\"dataframe\">\n",
              "  <thead>\n",
              "    <tr style=\"text-align: right;\">\n",
              "      <th></th>\n",
              "      <th>Text</th>\n",
              "    </tr>\n",
              "  </thead>\n",
              "  <tbody>\n",
              "    <tr>\n",
              "      <th>0</th>\n",
              "      <td>Service is not good as wanted. Very limited st...</td>\n",
              "    </tr>\n",
              "    <tr>\n",
              "      <th>1</th>\n",
              "      <td>Dominos has become every ones choice because o...</td>\n",
              "    </tr>\n",
              "    <tr>\n",
              "      <th>2</th>\n",
              "      <td>As u know dominos is favorite for all of us.\\n...</td>\n",
              "    </tr>\n",
              "    <tr>\n",
              "      <th>3</th>\n",
              "      <td>Small place,\\nGood staff\\nGot my order very qu...</td>\n",
              "    </tr>\n",
              "    <tr>\n",
              "      <th>4</th>\n",
              "      <td>Less Crowded. A small place with limited Seats...</td>\n",
              "    </tr>\n",
              "    <tr>\n",
              "      <th>...</th>\n",
              "      <td>...</td>\n",
              "    </tr>\n",
              "    <tr>\n",
              "      <th>315</th>\n",
              "      <td>Too little space to stand or sit</td>\n",
              "    </tr>\n",
              "    <tr>\n",
              "      <th>316</th>\n",
              "      <td>Nice place for having food</td>\n",
              "    </tr>\n",
              "    <tr>\n",
              "      <th>317</th>\n",
              "      <td>Good place to have pizza</td>\n",
              "    </tr>\n",
              "    <tr>\n",
              "      <th>318</th>\n",
              "      <td>Seating space is very small.</td>\n",
              "    </tr>\n",
              "    <tr>\n",
              "      <th>319</th>\n",
              "      <td>Not a dine in place anymore</td>\n",
              "    </tr>\n",
              "  </tbody>\n",
              "</table>\n",
              "<p>320 rows × 1 columns</p>\n",
              "</div>\n",
              "      <button class=\"colab-df-convert\" onclick=\"convertToInteractive('df-ef6e9aee-3484-41ea-94a2-a16feab3114d')\"\n",
              "              title=\"Convert this dataframe to an interactive table.\"\n",
              "              style=\"display:none;\">\n",
              "        \n",
              "  <svg xmlns=\"http://www.w3.org/2000/svg\" height=\"24px\"viewBox=\"0 0 24 24\"\n",
              "       width=\"24px\">\n",
              "    <path d=\"M0 0h24v24H0V0z\" fill=\"none\"/>\n",
              "    <path d=\"M18.56 5.44l.94 2.06.94-2.06 2.06-.94-2.06-.94-.94-2.06-.94 2.06-2.06.94zm-11 1L8.5 8.5l.94-2.06 2.06-.94-2.06-.94L8.5 2.5l-.94 2.06-2.06.94zm10 10l.94 2.06.94-2.06 2.06-.94-2.06-.94-.94-2.06-.94 2.06-2.06.94z\"/><path d=\"M17.41 7.96l-1.37-1.37c-.4-.4-.92-.59-1.43-.59-.52 0-1.04.2-1.43.59L10.3 9.45l-7.72 7.72c-.78.78-.78 2.05 0 2.83L4 21.41c.39.39.9.59 1.41.59.51 0 1.02-.2 1.41-.59l7.78-7.78 2.81-2.81c.8-.78.8-2.07 0-2.86zM5.41 20L4 18.59l7.72-7.72 1.47 1.35L5.41 20z\"/>\n",
              "  </svg>\n",
              "      </button>\n",
              "      \n",
              "  <style>\n",
              "    .colab-df-container {\n",
              "      display:flex;\n",
              "      flex-wrap:wrap;\n",
              "      gap: 12px;\n",
              "    }\n",
              "\n",
              "    .colab-df-convert {\n",
              "      background-color: #E8F0FE;\n",
              "      border: none;\n",
              "      border-radius: 50%;\n",
              "      cursor: pointer;\n",
              "      display: none;\n",
              "      fill: #1967D2;\n",
              "      height: 32px;\n",
              "      padding: 0 0 0 0;\n",
              "      width: 32px;\n",
              "    }\n",
              "\n",
              "    .colab-df-convert:hover {\n",
              "      background-color: #E2EBFA;\n",
              "      box-shadow: 0px 1px 2px rgba(60, 64, 67, 0.3), 0px 1px 3px 1px rgba(60, 64, 67, 0.15);\n",
              "      fill: #174EA6;\n",
              "    }\n",
              "\n",
              "    [theme=dark] .colab-df-convert {\n",
              "      background-color: #3B4455;\n",
              "      fill: #D2E3FC;\n",
              "    }\n",
              "\n",
              "    [theme=dark] .colab-df-convert:hover {\n",
              "      background-color: #434B5C;\n",
              "      box-shadow: 0px 1px 3px 1px rgba(0, 0, 0, 0.15);\n",
              "      filter: drop-shadow(0px 1px 2px rgba(0, 0, 0, 0.3));\n",
              "      fill: #FFFFFF;\n",
              "    }\n",
              "  </style>\n",
              "\n",
              "      <script>\n",
              "        const buttonEl =\n",
              "          document.querySelector('#df-ef6e9aee-3484-41ea-94a2-a16feab3114d button.colab-df-convert');\n",
              "        buttonEl.style.display =\n",
              "          google.colab.kernel.accessAllowed ? 'block' : 'none';\n",
              "\n",
              "        async function convertToInteractive(key) {\n",
              "          const element = document.querySelector('#df-ef6e9aee-3484-41ea-94a2-a16feab3114d');\n",
              "          const dataTable =\n",
              "            await google.colab.kernel.invokeFunction('convertToInteractive',\n",
              "                                                     [key], {});\n",
              "          if (!dataTable) return;\n",
              "\n",
              "          const docLinkHtml = 'Like what you see? Visit the ' +\n",
              "            '<a target=\"_blank\" href=https://colab.research.google.com/notebooks/data_table.ipynb>data table notebook</a>'\n",
              "            + ' to learn more about interactive tables.';\n",
              "          element.innerHTML = '';\n",
              "          dataTable['output_type'] = 'display_data';\n",
              "          await google.colab.output.renderOutput(dataTable, element);\n",
              "          const docLink = document.createElement('div');\n",
              "          docLink.innerHTML = docLinkHtml;\n",
              "          element.appendChild(docLink);\n",
              "        }\n",
              "      </script>\n",
              "    </div>\n",
              "  </div>\n",
              "  "
            ]
          },
          "metadata": {},
          "execution_count": 6
        }
      ]
    },
    {
      "cell_type": "code",
      "source": [
        "from nltk import word_tokenize"
      ],
      "metadata": {
        "id": "FshDEeVpVmu7"
      },
      "execution_count": null,
      "outputs": []
    },
    {
      "cell_type": "code",
      "source": [
        "import nltk; \n",
        "from nltk.corpus import sentiwordnet as swn\n",
        "from nltk.tag import pos_tag,map_tag\n",
        "from nltk.stem import WordNetLemmatizer\n",
        "from nltk.stem import PorterStemmer\n",
        "from nltk.corpus import stopwords"
      ],
      "metadata": {
        "id": "qteNgXRLV2O1"
      },
      "execution_count": null,
      "outputs": []
    },
    {
      "cell_type": "code",
      "source": [
        "import nltk\n",
        "nltk.download('omw-1.4')\n",
        "  "
      ],
      "metadata": {
        "colab": {
          "base_uri": "https://localhost:8080/"
        },
        "id": "4DhqX471WJ2P",
        "outputId": "f802df01-e713-49a6-fcb3-0921268fba5c"
      },
      "execution_count": null,
      "outputs": [
        {
          "output_type": "stream",
          "name": "stderr",
          "text": [
            "[nltk_data] Downloading package omw-1.4 to /root/nltk_data...\n"
          ]
        },
        {
          "output_type": "execute_result",
          "data": {
            "text/plain": [
              "True"
            ]
          },
          "metadata": {},
          "execution_count": 13
        }
      ]
    },
    {
      "cell_type": "code",
      "source": [
        "def clean_text(review):\n",
        "      le=WordNetLemmatizer()\n",
        "      word_tokens=word_tokenize(review)\n",
        "      tokens=[le.lemmatize(w) for w in word_tokens if w not in stop_words and len(w)>3]\n",
        "      cleaned_text=\" \".join(tokens)\n",
        "      return cleaned_text\n",
        "df['cleaned_text']=df['Text'].apply(clean_text)"
      ],
      "metadata": {
        "id": "rych8u6ws7mI"
      },
      "execution_count": null,
      "outputs": []
    },
    {
      "cell_type": "markdown",
      "source": [
        "TFIDF vectorization on the text "
      ],
      "metadata": {
        "id": "87CHtdjkWWO3"
      }
    },
    {
      "cell_type": "code",
      "source": [
        "vect =TfidfVectorizer(stop_words=stop_words,max_features=1000)\n",
        "vect_text=vect.fit_transform(df['cleaned_text'])"
      ],
      "metadata": {
        "id": "TE_o9LayWOIl"
      },
      "execution_count": null,
      "outputs": []
    },
    {
      "cell_type": "code",
      "source": [
        "from sklearn.decomposition import LatentDirichletAllocation\n",
        "lda_model=LatentDirichletAllocation(n_components=7,\n",
        "learning_method='online',random_state=42,max_iter=1) \n",
        "lda_top=lda_model.fit_transform(vect_text)"
      ],
      "metadata": {
        "id": "_wTvafJ1eLs4"
      },
      "execution_count": null,
      "outputs": []
    },
    {
      "cell_type": "code",
      "source": [
        "vocab = vect.get_feature_names()\n",
        "for i, comp in enumerate(lda_model.components_):\n",
        "     vocab_comp = zip(vocab, comp)\n",
        "     sorted_words = sorted(vocab_comp, key= lambda x:x[1], reverse=True)[:7]\n",
        "     print(\"Topic \"+str(i)+\": \")\n",
        "     for t in sorted_words:\n",
        "            print(t[0],end=\" \")\n",
        "            print(\"n\")"
      ],
      "metadata": {
        "colab": {
          "base_uri": "https://localhost:8080/"
        },
        "id": "CLGZY4YteWtr",
        "outputId": "bfa56c6c-8b21-460e-fa03-75c8b1ad6b89"
      },
      "execution_count": null,
      "outputs": [
        {
          "output_type": "stream",
          "name": "stdout",
          "text": [
            "Topic 0: \n",
            "tasty n\n",
            "pizza n\n",
            "mosquito n\n",
            "like n\n",
            "domino n\n",
            "aswome n\n",
            "le n\n",
            "Topic 1: \n",
            "good n\n",
            "service n\n",
            "place n\n",
            "taste n\n",
            "pizza n\n",
            "nice n\n",
            "small n\n",
            "Topic 2: \n",
            "working n\n",
            "love n\n",
            "clean n\n",
            "class n\n",
            "good n\n",
            "ambience n\n",
            "food n\n",
            "Topic 3: \n",
            "yummy n\n",
            "delicious n\n",
            "pizza n\n",
            "family n\n",
            "nice n\n",
            "delivered n\n",
            "minimum n\n",
            "Topic 4: \n",
            "always n\n",
            "pizza n\n",
            "amazing n\n",
            "dine n\n",
            "dominos n\n",
            "open n\n",
            "great n\n",
            "Topic 5: \n",
            "nice n\n",
            "pizza n\n",
            "outlet n\n",
            "food n\n",
            "domino n\n",
            "place n\n",
            "small n\n",
            "Topic 6: \n",
            "place n\n",
            "much n\n",
            "awesome n\n",
            "customer n\n",
            "pizza n\n",
            "arrangement n\n",
            "nice n\n"
          ]
        }
      ]
    },
    {
      "cell_type": "code",
      "source": [
        "print(\"Review 0: \") #Service is not good as wanted. Very limited staff.otherwise food quality is good.\n",
        "for i,topic in enumerate(lda_top[0]):\n",
        "  print(\"Topic \",i,\": \",topic*100,\"%\")"
      ],
      "metadata": {
        "colab": {
          "base_uri": "https://localhost:8080/"
        },
        "id": "cU7cUWepfKW0",
        "outputId": "cdb96929-8869-4428-e07c-e6136553c998"
      },
      "execution_count": null,
      "outputs": [
        {
          "output_type": "stream",
          "name": "stdout",
          "text": [
            "Review 0: \n",
            "Topic  0 :  3.828965764916065 %\n",
            "Topic  1 :  36.83632966998653 %\n",
            "Topic  2 :  3.830523458616287 %\n",
            "Topic  3 :  3.8287345388726792 %\n",
            "Topic  4 :  3.83063459680743 %\n",
            "Topic  5 :  44.01734912097454 %\n",
            "Topic  6 :  3.8274628498264636 %\n"
          ]
        }
      ]
    },
    {
      "cell_type": "code",
      "source": [
        "print(\"Review 1: \") #Dominos has become every ones choice because of its affordable range of pizzas and variety of options available. This place is small for dine in but service and taste of pizza is maintained. Big groups might not get big place to sit but u can always order and pickup ur orders\n",
        "for i,topic in enumerate(lda_top[0]):\n",
        "  print(\"Topic \",i,\": \",topic*100,\"%\")"
      ],
      "metadata": {
        "colab": {
          "base_uri": "https://localhost:8080/"
        },
        "id": "MjuXNG6Gfkjv",
        "outputId": "e5f89769-a1c0-46c3-877c-afcabf3ec91a"
      },
      "execution_count": null,
      "outputs": [
        {
          "output_type": "stream",
          "name": "stdout",
          "text": [
            "Review 1: \n",
            "Topic  0 :  3.828965764916065 %\n",
            "Topic  1 :  36.83632966998653 %\n",
            "Topic  2 :  3.830523458616287 %\n",
            "Topic  3 :  3.8287345388726792 %\n",
            "Topic  4 :  3.83063459680743 %\n",
            "Topic  5 :  44.01734912097454 %\n",
            "Topic  6 :  3.8274628498264636 %\n"
          ]
        }
      ]
    },
    {
      "cell_type": "markdown",
      "source": [
        "# Topics Visualization"
      ],
      "metadata": {
        "id": "7E0Q-72tsoXb"
      }
    },
    {
      "cell_type": "code",
      "source": [
        "from gensim import corpora"
      ],
      "metadata": {
        "id": "TDtkyep6wIzL"
      },
      "execution_count": null,
      "outputs": []
    },
    {
      "cell_type": "code",
      "source": [
        "reviews=df['cleaned_text']"
      ],
      "metadata": {
        "id": "vybVdkTlw5Jy"
      },
      "execution_count": null,
      "outputs": []
    },
    {
      "cell_type": "code",
      "source": [
        "texts = [[token for token in reviews ] for text in reviews]"
      ],
      "metadata": {
        "id": "ihMu1YGhw-hf"
      },
      "execution_count": null,
      "outputs": []
    },
    {
      "cell_type": "code",
      "source": [
        "dictionary1 = corpora.Dictionary(texts)"
      ],
      "metadata": {
        "id": "gxWKFYAFwQZ3"
      },
      "execution_count": null,
      "outputs": []
    },
    {
      "cell_type": "code",
      "source": [
        "print(dictionary1)"
      ],
      "metadata": {
        "colab": {
          "base_uri": "https://localhost:8080/"
        },
        "id": "RfCUnvuMx3TL",
        "outputId": "ab4cf594-e1fd-4a73-d775-c84523e598a2"
      },
      "execution_count": null,
      "outputs": [
        {
          "output_type": "stream",
          "name": "stdout",
          "text": [
            "Dictionary(311 unique tokens: ['', 'A.c. working table clean slow service given team care customer', 'Amazing Pizzas many Offers 🍕🍕🍕🍕🍕🍕🍕🍕', 'Aswome pizza like domino pizza', 'Awesome little harsh fast leave store']...)\n"
          ]
        }
      ]
    },
    {
      "cell_type": "code",
      "source": [
        "corpus = [dictionary1.doc2bow(text) for text in texts]"
      ],
      "metadata": {
        "id": "fV-uSRAPyUT_"
      },
      "execution_count": null,
      "outputs": []
    },
    {
      "cell_type": "code",
      "source": [
        "word_dict = {};\n",
        "for i in range(7):\n",
        "    words = lda_model.show_topic(i, topn = 20)\n",
        "    word_dict['Topic # ' + '{:02d}'.format(i+1)] = [i[0] for i in words]\n",
        "pd.DataFrame(word_dict)"
      ],
      "metadata": {
        "colab": {
          "base_uri": "https://localhost:8080/",
          "height": 1000
        },
        "id": "vM3LgBaeyZya",
        "outputId": "e70704f9-8317-4436-dec5-53cd2a46f969"
      },
      "execution_count": null,
      "outputs": [
        {
          "output_type": "execute_result",
          "data": {
            "text/plain": [
              "                                           Topic # 01  \\\n",
              "0                                    Nice arrangement   \n",
              "1                              Good food good service   \n",
              "2                                  little space stand   \n",
              "3                                        Super always   \n",
              "4                          Good experience good staff   \n",
              "5                                                Good   \n",
              "6                          Quick service nice pizzaCX   \n",
              "7                           Very small place washroom   \n",
              "8          good Small place chill preparation hygenic   \n",
              "9                                Domino amazing pizza   \n",
              "10  Timely delivery Budget friendly High probabili...   \n",
              "11                                    Nice tasty food   \n",
              "12                 Receive Call Delivered Pizza Overs   \n",
              "13             favourite place anytime food .love🙄🍕🍕🍕   \n",
              "14      Crispy garlic bread stuffed garlic bread good   \n",
              "15  good every domino place small dine parking ava...   \n",
              "16  Good food place great working card swipe machi...   \n",
              "17  order Pizza extravaganza awesome Garlic bread ...   \n",
              "18  pizza along taco burgerpizza Garlic bread stic...   \n",
              "19  Good place dive food good ambience good qualit...   \n",
              "\n",
              "                                           Topic # 02  \\\n",
              "0                          Excellent customer service   \n",
              "1                                                       \n",
              "2                                               Yummy   \n",
              "3                                                Good   \n",
              "4             Taste good Service quick Staff friendly   \n",
              "5            Much better never compromise taste pizza   \n",
              "6   Very place proper management There many mosqui...   \n",
              "7                   Pizza good must pizza food studio   \n",
              "8   board eating stuff introduce something much be...   \n",
              "9   Customer service thanks Asma took initiative h...   \n",
              "10  yummy delicious pizza base soft cheese mind bo...   \n",
              "11  usual Ossum Pizzaa Place Very congested le sta...   \n",
              "12                                   still stick mojo   \n",
              "13  A.c. working table clean slow service given te...   \n",
              "14                      Nice quick service Would back   \n",
              "15  think ketchup provided complimentary item give...   \n",
              "16            outlet congested dine better order dine   \n",
              "17       Domino delivery packaging charge pizza price   \n",
              "18       Little space pizza amazing away Hotspot area   \n",
              "19                                    Best place dosa   \n",
              "\n",
              "                                    Topic # 03  \\\n",
              "0         Overall good experience Fast service   \n",
              "1                 Place newly renovated better   \n",
              "2                   Good Place Excillent Pizza   \n",
              "3                     small place waiting time   \n",
              "4                               This near open   \n",
              "5          Delicious pizza peaceful atmosphere   \n",
              "6                              Good experience   \n",
              "7                    Good pizza compared Pizza   \n",
              "8                        domino knew year back   \n",
              "9             Very congested place chair table   \n",
              "10    Name Wise small shop enough space family   \n",
              "11                                 THEY GOOGLE   \n",
              "12               Best Pizzas ever fast service   \n",
              "13                                good service   \n",
              "14  love place love pizzzzaaaasss cheese burst   \n",
              "15                                  good place   \n",
              "16                         Awesome pizza Loved   \n",
              "17                  Dominos pizza always great   \n",
              "18                                      Tasty❤   \n",
              "19        Good Pizza available congested place   \n",
              "\n",
              "                                           Topic # 04  \\\n",
              "0                                    Good place pizza   \n",
              "1                                      Nice expensive   \n",
              "2                                  dine place anymore   \n",
              "3                                   Good pizza budget   \n",
              "4                                           Good best   \n",
              "5                                               class   \n",
              "6                                        great always   \n",
              "7                                  Taste quality Good   \n",
              "8                                    Nice place pizza   \n",
              "9                                 Seating space small   \n",
              "10                              Good taste good staff   \n",
              "11                                  Pizza always best   \n",
              "12                                  Eating place much   \n",
              "13                                    Nice place food   \n",
              "14     Service along placing wrong order late service   \n",
              "15  Ordered corn cheese pizza pizza delivered corn...   \n",
              "16                 take time given order speed domino   \n",
              "17           Very le space dining look delivery store   \n",
              "18  chip separate charge ketchup buying almost piz...   \n",
              "19                        They brought taste standard   \n",
              "\n",
              "                                  Topic # 05  \\\n",
              "0                           Nice cosy outlet   \n",
              "1                     Best place pizza vashi   \n",
              "2                        Worst pizza service   \n",
              "3          Nice outlet great excellent staff   \n",
              "4                      Good place quick bite   \n",
              "5                            Need clean neat   \n",
              "6                              Good ambience   \n",
              "7         Best service also test happy both😊   \n",
              "8                 pizza good price expensive   \n",
              "9   Cheese burst pizza domino simply awesome   \n",
              "10          Co-operative staff quick service   \n",
              "11             machine mostly working nearby   \n",
              "12                          Small place good   \n",
              "13                      Nice place Good seat   \n",
              "14                Dominos pizza always good👍   \n",
              "15             Good taste service everything   \n",
              "16       Sitting capacity le comparison sell   \n",
              "17                         love pizza Domino   \n",
              "18                 Garlic Bread Cheezy yummy   \n",
              "19                               Ready place   \n",
              "\n",
              "                                           Topic # 06  \\\n",
              "0                                                good   \n",
              "1                                                Good   \n",
              "2                       Small place luckily open dine   \n",
              "3   Excellence service valuable food well cleaned ...   \n",
              "4                             Nice place Awesome test   \n",
              "5       various pizza Domino kind diffrent uniqueness   \n",
              "6                               Good place place seat   \n",
              "7                                Very tasteless pizza   \n",
              "8      Regular visitor small nice outlet.service slow   \n",
              "9       service ..... extra charge ketchup pouch ....   \n",
              "10                 Prices higher side Food taste good   \n",
              "11                     space le although good service   \n",
              "12                                       poor hygiene   \n",
              "13                      Place conjusted taste awesome   \n",
              "14              Awesome little harsh fast leave store   \n",
              "15                                   Order much delay   \n",
              "16  Domino without wash room even without wash bas...   \n",
              "17        Really great experience nice people service   \n",
              "18  Very small area seating co-operative staff cro...   \n",
              "19                       Congested waiting table suck   \n",
              "\n",
              "                                     Topic # 07  \n",
              "0                             They good service  \n",
              "1                                Good open till  \n",
              "2                       Your number work Genius  \n",
              "3                nice place pizza friend family  \n",
              "4                  okay home delivery much high  \n",
              "5                              good white pasta  \n",
              "6                                    Loved good  \n",
              "7   Giving star le late service compacted place  \n",
              "8                       Fast service pizza good  \n",
              "9                       Delicious minimum price  \n",
              "10                        good plece pizza ....  \n",
              "11                                    Loved kid  \n",
              "12                 Great service great delivery  \n",
              "13             Best place dine yummmiii pizzaaa  \n",
              "14                       Love chees burst pizza  \n",
              "15                   Good service better though  \n",
              "16                      Service slow make quick  \n",
              "17                      Good place space little  \n",
              "18                   Very nice le space sitting  \n",
              "19                         Very good food clean  "
            ],
            "text/html": [
              "\n",
              "  <div id=\"df-3082285a-292a-4c67-8534-0cf846968c3e\">\n",
              "    <div class=\"colab-df-container\">\n",
              "      <div>\n",
              "<style scoped>\n",
              "    .dataframe tbody tr th:only-of-type {\n",
              "        vertical-align: middle;\n",
              "    }\n",
              "\n",
              "    .dataframe tbody tr th {\n",
              "        vertical-align: top;\n",
              "    }\n",
              "\n",
              "    .dataframe thead th {\n",
              "        text-align: right;\n",
              "    }\n",
              "</style>\n",
              "<table border=\"1\" class=\"dataframe\">\n",
              "  <thead>\n",
              "    <tr style=\"text-align: right;\">\n",
              "      <th></th>\n",
              "      <th>Topic # 01</th>\n",
              "      <th>Topic # 02</th>\n",
              "      <th>Topic # 03</th>\n",
              "      <th>Topic # 04</th>\n",
              "      <th>Topic # 05</th>\n",
              "      <th>Topic # 06</th>\n",
              "      <th>Topic # 07</th>\n",
              "    </tr>\n",
              "  </thead>\n",
              "  <tbody>\n",
              "    <tr>\n",
              "      <th>0</th>\n",
              "      <td>Nice arrangement</td>\n",
              "      <td>Excellent customer service</td>\n",
              "      <td>Overall good experience Fast service</td>\n",
              "      <td>Good place pizza</td>\n",
              "      <td>Nice cosy outlet</td>\n",
              "      <td>good</td>\n",
              "      <td>They good service</td>\n",
              "    </tr>\n",
              "    <tr>\n",
              "      <th>1</th>\n",
              "      <td>Good food good service</td>\n",
              "      <td></td>\n",
              "      <td>Place newly renovated better</td>\n",
              "      <td>Nice expensive</td>\n",
              "      <td>Best place pizza vashi</td>\n",
              "      <td>Good</td>\n",
              "      <td>Good open till</td>\n",
              "    </tr>\n",
              "    <tr>\n",
              "      <th>2</th>\n",
              "      <td>little space stand</td>\n",
              "      <td>Yummy</td>\n",
              "      <td>Good Place Excillent Pizza</td>\n",
              "      <td>dine place anymore</td>\n",
              "      <td>Worst pizza service</td>\n",
              "      <td>Small place luckily open dine</td>\n",
              "      <td>Your number work Genius</td>\n",
              "    </tr>\n",
              "    <tr>\n",
              "      <th>3</th>\n",
              "      <td>Super always</td>\n",
              "      <td>Good</td>\n",
              "      <td>small place waiting time</td>\n",
              "      <td>Good pizza budget</td>\n",
              "      <td>Nice outlet great excellent staff</td>\n",
              "      <td>Excellence service valuable food well cleaned ...</td>\n",
              "      <td>nice place pizza friend family</td>\n",
              "    </tr>\n",
              "    <tr>\n",
              "      <th>4</th>\n",
              "      <td>Good experience good staff</td>\n",
              "      <td>Taste good Service quick Staff friendly</td>\n",
              "      <td>This near open</td>\n",
              "      <td>Good best</td>\n",
              "      <td>Good place quick bite</td>\n",
              "      <td>Nice place Awesome test</td>\n",
              "      <td>okay home delivery much high</td>\n",
              "    </tr>\n",
              "    <tr>\n",
              "      <th>5</th>\n",
              "      <td>Good</td>\n",
              "      <td>Much better never compromise taste pizza</td>\n",
              "      <td>Delicious pizza peaceful atmosphere</td>\n",
              "      <td>class</td>\n",
              "      <td>Need clean neat</td>\n",
              "      <td>various pizza Domino kind diffrent uniqueness</td>\n",
              "      <td>good white pasta</td>\n",
              "    </tr>\n",
              "    <tr>\n",
              "      <th>6</th>\n",
              "      <td>Quick service nice pizzaCX</td>\n",
              "      <td>Very place proper management There many mosqui...</td>\n",
              "      <td>Good experience</td>\n",
              "      <td>great always</td>\n",
              "      <td>Good ambience</td>\n",
              "      <td>Good place place seat</td>\n",
              "      <td>Loved good</td>\n",
              "    </tr>\n",
              "    <tr>\n",
              "      <th>7</th>\n",
              "      <td>Very small place washroom</td>\n",
              "      <td>Pizza good must pizza food studio</td>\n",
              "      <td>Good pizza compared Pizza</td>\n",
              "      <td>Taste quality Good</td>\n",
              "      <td>Best service also test happy both😊</td>\n",
              "      <td>Very tasteless pizza</td>\n",
              "      <td>Giving star le late service compacted place</td>\n",
              "    </tr>\n",
              "    <tr>\n",
              "      <th>8</th>\n",
              "      <td>good Small place chill preparation hygenic</td>\n",
              "      <td>board eating stuff introduce something much be...</td>\n",
              "      <td>domino knew year back</td>\n",
              "      <td>Nice place pizza</td>\n",
              "      <td>pizza good price expensive</td>\n",
              "      <td>Regular visitor small nice outlet.service slow</td>\n",
              "      <td>Fast service pizza good</td>\n",
              "    </tr>\n",
              "    <tr>\n",
              "      <th>9</th>\n",
              "      <td>Domino amazing pizza</td>\n",
              "      <td>Customer service thanks Asma took initiative h...</td>\n",
              "      <td>Very congested place chair table</td>\n",
              "      <td>Seating space small</td>\n",
              "      <td>Cheese burst pizza domino simply awesome</td>\n",
              "      <td>service ..... extra charge ketchup pouch ....</td>\n",
              "      <td>Delicious minimum price</td>\n",
              "    </tr>\n",
              "    <tr>\n",
              "      <th>10</th>\n",
              "      <td>Timely delivery Budget friendly High probabili...</td>\n",
              "      <td>yummy delicious pizza base soft cheese mind bo...</td>\n",
              "      <td>Name Wise small shop enough space family</td>\n",
              "      <td>Good taste good staff</td>\n",
              "      <td>Co-operative staff quick service</td>\n",
              "      <td>Prices higher side Food taste good</td>\n",
              "      <td>good plece pizza ....</td>\n",
              "    </tr>\n",
              "    <tr>\n",
              "      <th>11</th>\n",
              "      <td>Nice tasty food</td>\n",
              "      <td>usual Ossum Pizzaa Place Very congested le sta...</td>\n",
              "      <td>THEY GOOGLE</td>\n",
              "      <td>Pizza always best</td>\n",
              "      <td>machine mostly working nearby</td>\n",
              "      <td>space le although good service</td>\n",
              "      <td>Loved kid</td>\n",
              "    </tr>\n",
              "    <tr>\n",
              "      <th>12</th>\n",
              "      <td>Receive Call Delivered Pizza Overs</td>\n",
              "      <td>still stick mojo</td>\n",
              "      <td>Best Pizzas ever fast service</td>\n",
              "      <td>Eating place much</td>\n",
              "      <td>Small place good</td>\n",
              "      <td>poor hygiene</td>\n",
              "      <td>Great service great delivery</td>\n",
              "    </tr>\n",
              "    <tr>\n",
              "      <th>13</th>\n",
              "      <td>favourite place anytime food .love🙄🍕🍕🍕</td>\n",
              "      <td>A.c. working table clean slow service given te...</td>\n",
              "      <td>good service</td>\n",
              "      <td>Nice place food</td>\n",
              "      <td>Nice place Good seat</td>\n",
              "      <td>Place conjusted taste awesome</td>\n",
              "      <td>Best place dine yummmiii pizzaaa</td>\n",
              "    </tr>\n",
              "    <tr>\n",
              "      <th>14</th>\n",
              "      <td>Crispy garlic bread stuffed garlic bread good</td>\n",
              "      <td>Nice quick service Would back</td>\n",
              "      <td>love place love pizzzzaaaasss cheese burst</td>\n",
              "      <td>Service along placing wrong order late service</td>\n",
              "      <td>Dominos pizza always good👍</td>\n",
              "      <td>Awesome little harsh fast leave store</td>\n",
              "      <td>Love chees burst pizza</td>\n",
              "    </tr>\n",
              "    <tr>\n",
              "      <th>15</th>\n",
              "      <td>good every domino place small dine parking ava...</td>\n",
              "      <td>think ketchup provided complimentary item give...</td>\n",
              "      <td>good place</td>\n",
              "      <td>Ordered corn cheese pizza pizza delivered corn...</td>\n",
              "      <td>Good taste service everything</td>\n",
              "      <td>Order much delay</td>\n",
              "      <td>Good service better though</td>\n",
              "    </tr>\n",
              "    <tr>\n",
              "      <th>16</th>\n",
              "      <td>Good food place great working card swipe machi...</td>\n",
              "      <td>outlet congested dine better order dine</td>\n",
              "      <td>Awesome pizza Loved</td>\n",
              "      <td>take time given order speed domino</td>\n",
              "      <td>Sitting capacity le comparison sell</td>\n",
              "      <td>Domino without wash room even without wash bas...</td>\n",
              "      <td>Service slow make quick</td>\n",
              "    </tr>\n",
              "    <tr>\n",
              "      <th>17</th>\n",
              "      <td>order Pizza extravaganza awesome Garlic bread ...</td>\n",
              "      <td>Domino delivery packaging charge pizza price</td>\n",
              "      <td>Dominos pizza always great</td>\n",
              "      <td>Very le space dining look delivery store</td>\n",
              "      <td>love pizza Domino</td>\n",
              "      <td>Really great experience nice people service</td>\n",
              "      <td>Good place space little</td>\n",
              "    </tr>\n",
              "    <tr>\n",
              "      <th>18</th>\n",
              "      <td>pizza along taco burgerpizza Garlic bread stic...</td>\n",
              "      <td>Little space pizza amazing away Hotspot area</td>\n",
              "      <td>Tasty❤</td>\n",
              "      <td>chip separate charge ketchup buying almost piz...</td>\n",
              "      <td>Garlic Bread Cheezy yummy</td>\n",
              "      <td>Very small area seating co-operative staff cro...</td>\n",
              "      <td>Very nice le space sitting</td>\n",
              "    </tr>\n",
              "    <tr>\n",
              "      <th>19</th>\n",
              "      <td>Good place dive food good ambience good qualit...</td>\n",
              "      <td>Best place dosa</td>\n",
              "      <td>Good Pizza available congested place</td>\n",
              "      <td>They brought taste standard</td>\n",
              "      <td>Ready place</td>\n",
              "      <td>Congested waiting table suck</td>\n",
              "      <td>Very good food clean</td>\n",
              "    </tr>\n",
              "  </tbody>\n",
              "</table>\n",
              "</div>\n",
              "      <button class=\"colab-df-convert\" onclick=\"convertToInteractive('df-3082285a-292a-4c67-8534-0cf846968c3e')\"\n",
              "              title=\"Convert this dataframe to an interactive table.\"\n",
              "              style=\"display:none;\">\n",
              "        \n",
              "  <svg xmlns=\"http://www.w3.org/2000/svg\" height=\"24px\"viewBox=\"0 0 24 24\"\n",
              "       width=\"24px\">\n",
              "    <path d=\"M0 0h24v24H0V0z\" fill=\"none\"/>\n",
              "    <path d=\"M18.56 5.44l.94 2.06.94-2.06 2.06-.94-2.06-.94-.94-2.06-.94 2.06-2.06.94zm-11 1L8.5 8.5l.94-2.06 2.06-.94-2.06-.94L8.5 2.5l-.94 2.06-2.06.94zm10 10l.94 2.06.94-2.06 2.06-.94-2.06-.94-.94-2.06-.94 2.06-2.06.94z\"/><path d=\"M17.41 7.96l-1.37-1.37c-.4-.4-.92-.59-1.43-.59-.52 0-1.04.2-1.43.59L10.3 9.45l-7.72 7.72c-.78.78-.78 2.05 0 2.83L4 21.41c.39.39.9.59 1.41.59.51 0 1.02-.2 1.41-.59l7.78-7.78 2.81-2.81c.8-.78.8-2.07 0-2.86zM5.41 20L4 18.59l7.72-7.72 1.47 1.35L5.41 20z\"/>\n",
              "  </svg>\n",
              "      </button>\n",
              "      \n",
              "  <style>\n",
              "    .colab-df-container {\n",
              "      display:flex;\n",
              "      flex-wrap:wrap;\n",
              "      gap: 12px;\n",
              "    }\n",
              "\n",
              "    .colab-df-convert {\n",
              "      background-color: #E8F0FE;\n",
              "      border: none;\n",
              "      border-radius: 50%;\n",
              "      cursor: pointer;\n",
              "      display: none;\n",
              "      fill: #1967D2;\n",
              "      height: 32px;\n",
              "      padding: 0 0 0 0;\n",
              "      width: 32px;\n",
              "    }\n",
              "\n",
              "    .colab-df-convert:hover {\n",
              "      background-color: #E2EBFA;\n",
              "      box-shadow: 0px 1px 2px rgba(60, 64, 67, 0.3), 0px 1px 3px 1px rgba(60, 64, 67, 0.15);\n",
              "      fill: #174EA6;\n",
              "    }\n",
              "\n",
              "    [theme=dark] .colab-df-convert {\n",
              "      background-color: #3B4455;\n",
              "      fill: #D2E3FC;\n",
              "    }\n",
              "\n",
              "    [theme=dark] .colab-df-convert:hover {\n",
              "      background-color: #434B5C;\n",
              "      box-shadow: 0px 1px 3px 1px rgba(0, 0, 0, 0.15);\n",
              "      filter: drop-shadow(0px 1px 2px rgba(0, 0, 0, 0.3));\n",
              "      fill: #FFFFFF;\n",
              "    }\n",
              "  </style>\n",
              "\n",
              "      <script>\n",
              "        const buttonEl =\n",
              "          document.querySelector('#df-3082285a-292a-4c67-8534-0cf846968c3e button.colab-df-convert');\n",
              "        buttonEl.style.display =\n",
              "          google.colab.kernel.accessAllowed ? 'block' : 'none';\n",
              "\n",
              "        async function convertToInteractive(key) {\n",
              "          const element = document.querySelector('#df-3082285a-292a-4c67-8534-0cf846968c3e');\n",
              "          const dataTable =\n",
              "            await google.colab.kernel.invokeFunction('convertToInteractive',\n",
              "                                                     [key], {});\n",
              "          if (!dataTable) return;\n",
              "\n",
              "          const docLinkHtml = 'Like what you see? Visit the ' +\n",
              "            '<a target=\"_blank\" href=https://colab.research.google.com/notebooks/data_table.ipynb>data table notebook</a>'\n",
              "            + ' to learn more about interactive tables.';\n",
              "          element.innerHTML = '';\n",
              "          dataTable['output_type'] = 'display_data';\n",
              "          await google.colab.output.renderOutput(dataTable, element);\n",
              "          const docLink = document.createElement('div');\n",
              "          docLink.innerHTML = docLinkHtml;\n",
              "          element.appendChild(docLink);\n",
              "        }\n",
              "      </script>\n",
              "    </div>\n",
              "  </div>\n",
              "  "
            ]
          },
          "metadata": {},
          "execution_count": 62
        }
      ]
    },
    {
      "cell_type": "code",
      "source": [
        "lda_display = pyLDAvis.gensim.prepare(lda_model, corpus, dictionary1, sort_topics=True)\n",
        "pyLDAvis.display(lda_display)"
      ],
      "metadata": {
        "colab": {
          "base_uri": "https://localhost:8080/",
          "height": 916
        },
        "id": "OlfOvX5rzhF-",
        "outputId": "1df99be0-8610-4516-f0cd-e0960e7ffbe0"
      },
      "execution_count": null,
      "outputs": [
        {
          "output_type": "stream",
          "name": "stderr",
          "text": [
            "/usr/local/lib/python3.8/dist-packages/pyLDAvis/_prepare.py:243: FutureWarning: In a future version of pandas all arguments of DataFrame.drop except for the argument 'labels' will be keyword-only\n",
            "  default_term_info = default_term_info.sort_values(\n"
          ]
        },
        {
          "output_type": "execute_result",
          "data": {
            "text/plain": [
              "<IPython.core.display.HTML object>"
            ],
            "text/html": [
              "\n",
              "<link rel=\"stylesheet\" type=\"text/css\" href=\"https://cdn.jsdelivr.net/gh/bmabey/pyLDAvis@3.4.0/pyLDAvis/js/ldavis.v1.0.0.css\">\n",
              "\n",
              "\n",
              "<div id=\"ldavis_el6291406574199838889776210241\" style=\"background-color:white;\"></div>\n",
              "<script type=\"text/javascript\">\n",
              "\n",
              "var ldavis_el6291406574199838889776210241_data = {\"mdsDat\": {\"x\": [-0.03742817283722479, -0.04811246216153247, -0.03750154644574032, -0.03671980056488165, 0.2694594635163477, -0.03352184706593168, -0.07617563444103692], \"y\": [0.022992894547740544, 0.06118367782103707, 0.03827252719190798, 0.037473142529724335, -0.019709004025936103, 0.02920045447000157, -0.16941369253447502], \"topics\": [1, 2, 3, 4, 5, 6, 7], \"cluster\": [1, 1, 1, 1, 1, 1, 1], \"Freq\": [23.603034300744643, 19.09191489466884, 15.454753278097607, 13.67389470566244, 10.757332789511608, 9.060845483137884, 8.358224548176976]}, \"tinfo\": {\"Term\": [\"still stick mojo\", \"wash basin outlet\", \"space le although good service\", \"working super inside\", \"staff domino outlet amazing recommended pizza would right pocket number people\", \"take away parcel service worst They interested providing online order people already theri doorstep order delivered late Food wise standard quality maintained\", \"would give star option available zomato allowing give star politics pathetic place charge ketchup also .... place .... worst place\", \"service ..... extra charge ketchup pouch ....\", \"yummy delicious pizza base soft cheese mind bobling\", \"star brand DOMINO service ordered boneless chicken wing gave barbeque chicken wing also place small loud traffic\", \"think ketchup provided complimentary item give money\", \"various pizza Domino kind diffrent uniqueness\", \"water available drinking option bottled water\", \"visiting food always good need take extra care cleanliness\", \"usual Ossum Pizzaa Place Very congested le staff take order\", \"wrong Domino place sitting arrangement great mainly look like Domino Delivery\", \"small place waiting time\", \"take time given order speed domino\", \"went last week Koparkhairne.This place lack space like ambience.Hence recommend member together.Also place hygienic table cleaned.I prefer place take away hangout\", \"worst shop till date took decide take orders.After working.Table dirty\", \"Good place dive food good ambience good quality food baki dominoz chill maaro Khao\", \"Outside seating also available\", \"Normal experience bought pizza Margherati pepper Margherati good taste softness pepper pizza also good Simla Mirchi onion well half ball onion pizza\", \"pizza along taco burgerpizza Garlic bread stick must cheesy Cheeseburst crust Overall amazing\\u2764\", \"good Place .... Good food\", \"machine mostly working nearby\", \"good plece pizza ....\", \"closer dosnt love Dominoes\", \"Very nice place taste also good\", \"Yummy mouth-watering pizza great price Everyday value Offers However dine-ins viable little space consumption Delivery seems good option dine-out Quality delivered upto mark\", \"Normal experience bought pizza Margherati pepper Margherati good taste softness pepper pizza also good Simla Mirchi onion well half ball onion pizza\", \"Receive Call Delivered Pizza Overs\", \"Miss Savita given fastastic service think need kind staff boost organization\", \"Nice place Good seat\", \"Location wise good quite hard notice moving fast road\", \"Pizza excellent service humble loved nature people short good experienced\", \"Place atmosphere good Short table\", \"Nice place Awesome test\", \"Suchba better place\", \"Small outlet open till great night option\", \"Nice place pizza\", \"Ordered corn cheese pizza pizza delivered corn Vandana took order idea delivered\", \"Small space main road Vashi kopar khairane Good service\", \"Service slow make quick\", \"Love\", \"Small place good\", \"Just Like Another Domino Outlet.Quick Service Moderately Expensive Pizza\", \"Pizzas served delicious concern dining space went friend might feel restaurant crowded star le\", \"Should improve mania quality\", \"Small place good instant service\", \"Taste good Service quick Staff friendly\", \"Ready place\", \"Standard Dominos test outlet congested place dining\", \"Nice quick service Would back\", \"Super tasty delicious pizza wonderful service clean hygiene ambiance\", \"Less Crowded small place limited Seats This Domino Outlet basically made Delivery outside delivery eating small group could option There person table suitable group\", \"Place conjusted taste awesome\", \"Staff really busy according sure nicely\", \"Koparkhairane good Vashi good\", \"Quality food pathetic people need wait hour order happy first time experience\", \"Outside seating also available\", \"Place newly renovated better\", \"looking offer mentioned website order counter hardly offer promised official site Best order online take-away shop home\", \"good hygenic place well food served delicious .....\", \"Very place proper management There many mosquito inside.They Make wait long time\", \"board eating stuff introduce something much better pizza\", \"okay home delivery much high\", \"pizza good price expensive\", \"Very Nice\", \"Very Good place hang Also employee name Uday much helpful Domino employee impressed providing water bottle totally unexpected amazing Just feedback fixed\", \"Timely delivery Budget friendly High probability finding place even weekend\", \"Very le space 4tables congested.rest Domino Pizza maintained good quality issue\", \"percentage good behaviour service delivery\", \"This near open\", \"Your number work Genius\", \"baby nakshatra \\ud83d\\ude18\\ud83d\\ude18\\ud83d\\ude18\\ud83d\\ude18 love pizza burger\", \"There enough space neither enough chair customer\", \"going sleep time\", \"good Small place chill preparation hygenic\", \"good\", \"place available 24hrs visited place traveling hungry thought pizza guy open closed They said time limit nothing available even\", \"Very nice le space sitting\", \"Very small area seating co-operative staff crowdy long\", \"good white pasta\", \"They good service\", \"dine place anymore\", \"This place easy find staff helpful nature\", \"good dining better take away place Only people dine place\", \"always whenever hungry throw party enjoy really delicious pizza right Spot Domino really love enjoying pizza pizza base variety choose topping good place every hunger freak\", \"order Pizza extravaganza awesome Garlic bread worst also provide Never order garlic bread otherwise pizza nice\", \"Very Service Very Slow Have Service Just name brand\", \"Very fast supportive staff Excellent service\", \"online payment option like Gpay phone working\", \"love pizza Domino\", \"outlet congested dine better order dine\", \"Very tasteless pizza\", \"rush cook well\", \"jalapeno chilies tart bite\", \"There Conditioning system eatery great takeaway Will genuinely recommend come favorite pizza place seems dull quite humid\", \"pizza tasty\", \"little space stand\", \"ordered home delivery payment debited submitted proof delivery handed pizza store call stating payment recieved Nitin store call extremely rude impolite\", \"place small matter food delicious\", \"Worst pizza service\", \"place awesome There Everyday Value offer pizza rupee think saving offered elsewhere Moreover assured quality food getting fear\", \"They brought taste standard\", \"place Food road Costly\", \"chip separate charge ketchup buying almost pizza afford ketchup complimentary disappointed\", \"great always\", \"They started making everything front everyone know customer everything good\", \"Wonderful food service great taste Satendra good staff talk ordering suggest best option\", \"nonnveg Dominator Golden Delight Burger pizza \\u2764\\ufe0f\\u2764\\ufe0f\\u2764\\ufe0f\\u2763\\ufe0f\\u2763\\ufe0f\\ud83e\\udd24\\ud83e\\udd24\", \"good place\", \"amazing\", \"Very small outlet\", \"poor hygiene\", \"Very congested place chair table\", \"They take long order\", \"accepting payment card Card reading machine working Only payment method available cash\", \"Good place space little\", \"Good Place Excillent Pizza\", \"Best Pizzas ever fast service\", \"pizza along taco burgerpizza Garlic bread stick must cheesy Cheeseburst crust Overall amazing\\u2764\", \"good Place .... Good food\", \"machine mostly working nearby\", \"good plece pizza ....\", \"Very nice place taste also good\", \"closer dosnt love Dominoes\", \"Yummy mouth-watering pizza great price Everyday value Offers However dine-ins viable little space consumption Delivery seems good option dine-out Quality delivered upto mark\", \"Tried corn pizza taste nice\", \"best part open till 11:30\", \"Very good food clean\", \"Very behaviour staff arrogant dilivery staf\", \"good every domino place small dine parking available friendly staaf\", \"Very small Domino restaurant hardly accommodate people Rest food quality Domino Also visited whole restaurant completely mess everything around dirty well maintained\", \"favourite place anytime food .love\\ud83d\\ude44\\ud83c\\udf55\\ud83c\\udf55\\ud83c\\udf55\", \"nearby main road always get delivery time well service also good available till\", \"everytime food quality good\", \"giving star taste good Otherwise pathetic domino Pizza outlet bwhich visited worst aspect beverage available purchase mineral water purchase When\", \"good like loved\", \"outlet mismanaged staff quality pizza served\", \"class\", \"know domino favorite visit store crowded good option choose online order table seating\", \"love place love pizzzzaaaasss cheese burst\", \"domino knew year back\", \"know experience difference taste every domino store Anyways nice le seating fast service\", \"Very small place washroom\", \"Like joint Domino Pizza Well maintained managed Timely delivery\", \"Pizza good enjoyed pizza\", \"Place staff behavior good\", \"Good food best service every customer\", \"Good test seating arrangement\", \"Food great servise fast\", \"would give star option available zomato allowing give star politics pathetic place charge ketchup also .... place .... worst place\", \"service ..... extra charge ketchup pouch ....\", \"yummy delicious pizza base soft cheese mind bobling\", \"star brand DOMINO service ordered boneless chicken wing gave barbeque chicken wing also place small loud traffic\", \"think ketchup provided complimentary item give money\", \"various pizza Domino kind diffrent uniqueness\", \"water available drinking option bottled water\", \"visiting food always good need take extra care cleanliness\", \"usual Ossum Pizzaa Place Very congested le staff take order\", \"wrong Domino place sitting arrangement great mainly look like Domino Delivery\", \"small place waiting time\", \"take time given order speed domino\", \"went last week Koparkhairne.This place lack space like ambience.Hence recommend member together.Also place hygienic table cleaned.I prefer place take away hangout\", \"worst shop till date took decide take orders.After working.Table dirty\", \"improved Domino pizza totally worth every penny crust pizza must\", \"Nice expensive\", \"Shameful moment server work going unhappy customer\", \"Service along placing wrong order late service\", \"Just like every Domino Only seating available Holidays find seat dine\", \"Small place Good staff order quick\", \"Quick service nice pizzaCX\", \"Nice caught cheating tamasha\", \"Service good place narrow cringy\", \"First doorstep delivery called delivery zone pickup point fetch delivery min walking place\", \"Good pizza compared Pizza\", \"Excellence service valuable food well cleaned restaurant supportive team member\", \"Cheese burst pizza cheese More base Less cheese time When cheese used drop mouth eating .... even dropping inside mouth .... dominoz dropped service Pathetic\", \"Delicious pizza peaceful atmosphere\", \"Aswome pizza like domino pizza\", \"Awesome pizza good quality staff little tiny place group\", \"still stick mojo\", \"Good place dive food good ambience good quality food baki dominoz chill maaro Khao\", \"Food great servise fast\", \"Name Wise small shop enough space family\", \"Pizza delicious .....\", \"Small place luckily open dine\", \"Really great experience nice people service\", \"Love chees burst pizza\", \"Service good wanted Very limited staff.otherwise food quality good\", \"Love pizza better nerul home delivery horrible branch Once even receieved free pizza late 'forgot order\", \"Need clean neat\", \"Small place mainly concentrating delivery table seating approx people Staff non-attentive despite fact chain pizza restaurant basic service level well established They served coke cold adking return argued\", \"Small comfortable place Service sloppy sometimes\", \"Seating space small\", \"Service quality star\", \"Just ordered pepper chicken pizza medium size received without chicken chicken upset experience\", \"Nice arrangement\", \"Nice Small place\", \"Pizza good must pizza food studio\", \"Good open till\", \"Good quality service fast\", \"Good place pizza\", \"Extremely slow restaurant service Lots fly inside restaurant\", \"Good experience good staff\", \"Best place dine yummmiii pizzaaa\", \"Enjoy hungryness love\", \"Domino favorite pizza outlet Cheese burst pizza satisfy cheese craving Prefer order home dine outlet Recommendations would pasta pizza cheese dominator extravaganza\", \"Amazing Pizzas many Offers \\ud83c\\udf55\\ud83c\\udf55\\ud83c\\udf55\\ud83c\\udf55\\ud83c\\udf55\\ud83c\\udf55\\ud83c\\udf55\\ud83c\\udf55\", \"Congested waiting table suck\", \"Outside seating also available\", \"wash basin outlet\", \"space le although good service\", \"working super inside\", \"staff domino outlet amazing recommended pizza would right pocket number people\", \"take away parcel service worst They interested providing online order people already theri doorstep order delivered late Food wise standard quality maintained\", \"Worst service taste good Noisy door irritating\", \"place small disappoint food quality\", \"Less crowded standard time Easily noticeable driving always prefer come experience rush weekend well People spend good time\", \"Nice Very near koperkhairne\", \"Much better never compromise taste pizza\", \"Nice cosy outlet\", \"Regular visitor small nice outlet.service slow\", \"Location good easily spotted even driving Seating space limited 8-12 people inside outside provide seating also Ambience Overall good\", \"Nice small place\", \"Outside seating also available\", \"Good food good service\", \"Good taste Great ambience\", \"Card machine working cash payment accepted Calling number working le staff delayed service\", \"Glad allowed quietly enjoy pizza staff extraordinarily sweet Polite\", \"Awesome taste operative staff\", \"Good availability drinking water Friendly staff fast service\", \"Best service also test happy both\\ud83d\\ude0a\", \"First Location place located near Bonkode stop Sector koperkhairane easily accessible Koperkhairane sector vashi since\", \"Clean calm place pizza\", \"Domino without wash room even without wash basin even wash hand eating Dominos\", \"Fast friendly staff\", \"Delicious minimum price\", \"Domino pizza take away offer dining well handwash toilet Preferred takeaway\", \"Domino pizza make bread topping done manually obvious taste differs everywhere taste good great outlet service also great Overall fair experience\", \"Awesome pizza good quality staff little tiny place group\", \"worst shop till date took decide take orders.After working.Table dirty\", \"still stick mojo\"], \"Freq\": [1317.0, 914.0, 914.0, 914.0, 914.0, 914.0, 723.0, 723.0, 723.0, 723.0, 723.0, 723.0, 723.0, 723.0, 723.0, 723.0, 723.0, 723.0, 723.0, 723.0, 469.0, 676.0, 619.0, 359.0, 359.0, 359.0, 359.0, 359.0, 359.0, 359.0, 485.6439307146161, 194.76489832606066, 194.76489832606066, 194.76487581645296, 194.76487581645296, 194.76483079723755, 194.76483079723755, 194.76483079723755, 194.76483079723755, 194.76483079723755, 194.76478577802217, 194.76478577802217, 194.76478577802217, 194.76478577802217, 194.76476326841447, 194.76471824919906, 194.76474075880677, 194.76474075880677, 194.76476326841447, 194.76467322998369, 194.7646957395914, 194.76465072037598, 194.76467322998369, 194.76462821076828, 194.76460570116058, 194.7645606819452, 194.7645831915529, 194.7645606819452, 194.7645831915529, 194.7645381723375, 346.0771599138866, 194.7645606819452, 241.38526488086538, 241.38526488086538, 241.38526488086538, 241.38526488086538, 241.38524667339644, 241.38526488086538, 241.38524667339644, 241.38524667339644, 241.3852102584585, 241.3852102584585, 241.38519205098953, 241.38519205098953, 241.38519205098953, 241.38519205098953, 241.3851556360516, 241.38513742858265, 241.38513742858265, 241.38510101364471, 241.38504639123784, 241.38499176883093, 241.38499176883093, 241.38497356136196, 241.38493714642405, 241.3848643165482, 241.3848643165482, 241.38482790161027, 241.3848096941413, 241.38477327920336, 241.38475507173442, 241.38464582692063, 227.70044921760683, 227.70044921760683, 227.7004344788055, 227.7004344788055, 227.7004344788055, 227.7004344788055, 227.70040500120282, 227.70040500120282, 227.70037552360017, 227.70034604599752, 227.70034604599752, 227.70034604599752, 227.70033130719617, 227.7003018295935, 227.70027235199086, 227.7002428743882, 227.7002428743882, 227.7001986579842, 227.70012496397754, 227.70006600877224, 227.69996283716293, 227.6998154491496, 227.6997122775403, 227.69968279993765, 227.699476456719, 227.69946171791767, 227.69935854630836, 72.90408059527141, 72.90275410315165, 72.90137602522725, 207.1988565119596, 207.19884347151734, 207.19884347151734, 207.19881739063285, 207.1987652288639, 207.19879130974837, 207.1987652288639, 207.1987391479794, 207.19872610753717, 207.19872610753717, 207.19858266267252, 207.19858266267252, 207.19849137957684, 207.19849137957684, 207.19841313692336, 207.19841313692336, 207.19840009648112, 207.19830881338544, 207.19828273250096, 207.19828273250096, 207.198230570732, 207.19819144940527, 207.19802192365614, 207.19787847879147, 207.19783935746474, 120.5920634086213, 120.59185476154542, 120.59151571004715, 66.34791838244415, 66.34116995358413, 66.43949488808576, 546.0777748507485, 546.0776927788122, 546.0776517428441, 546.0775696709077, 546.0774465630033, 546.0772413831625, 546.0772003471943, 546.0772003471943, 546.077118275258, 546.0770772392899, 546.0766668796084, 546.0766258436402, 546.0763385918632, 546.0758871962134, 71.4934638661702, 41.63870701738484, 41.63867880515674, 41.63865828717266, 41.63865572242465, 41.63861725120451, 41.638565956244314, 41.638517226032135, 41.638445413087865, 22.911055548219338, 22.90860364912223, 22.90942436848528, 22.908783181482896, 22.90692886867201, 22.9033177034746, 22.901437743183614, 1150.2167962012315, 310.56211860952425, 116.12381335060925, 87.78608327110554, 87.78605734781856, 87.78605734781856, 87.78605734781856, 87.7860487067229, 87.7860055012446, 87.78592773138368, 87.78597957795763, 87.78587588480971, 87.78584996152274, 87.7857549094705, 87.78582403823576, 87.78568578070522, 87.78567713960956, 87.78550431769638, 87.78550431769638, 48.288602816474736, 48.278047718127254, 48.27502765519443, 48.27341177030619, 48.26859868002412, 48.27125581693927, 48.26275729935863, 48.26269249114119, 48.25495438997854, 48.25279843661162, 88.06426606365612, 740.2009690203694, 740.2004588748259, 740.2002038020541, 740.1986095972309, 740.1977168425299, 96.93465978459547, 96.93452427718549, 56.45545584085485, 56.45545584085485, 56.455451855342794, 56.45542794227045, 56.455380116125745, 56.45520076808313, 56.455168883986666, 140.4914522265732, 31.063355981613757, 31.062666488027695, 31.058403982881494, 31.05813296806154, 31.055699812950035, 31.0554985445911, 31.05439455775099, 31.053647274240085, 31.052585135276583, 31.05256919322835, 31.051022814549786, 31.046445453950994, 31.039147981372505, 31.035405585549896, 13.06562048450543, 13.366118129910383, 13.42016765168709], \"Total\": [1317.0, 914.0, 914.0, 914.0, 914.0, 914.0, 723.0, 723.0, 723.0, 723.0, 723.0, 723.0, 723.0, 723.0, 723.0, 723.0, 723.0, 723.0, 723.0, 723.0, 469.0, 676.0, 619.0, 359.0, 359.0, 359.0, 359.0, 359.0, 359.0, 359.0, 619.947716638732, 329.0678870414574, 329.06789615856377, 329.0678679404918, 329.0678804767569, 329.0678329979204, 329.067838980852, 329.06784310948956, 329.06785048552587, 329.0678638413051, 329.067791609026, 329.0678093148735, 329.0678231366466, 329.0678241879937, 329.0678127208998, 329.0677561113996, 329.06780123299995, 329.0678063961852, 329.06784532701096, 329.06771157414175, 329.0677652138027, 329.06771869560777, 329.06775821185994, 329.0677299668248, 329.06770064265527, 329.06765598971754, 329.06769977409414, 329.06766595705164, 329.0677099519361, 329.06764407230213, 676.5239300743987, 329.0677078660334, 388.6817746564891, 388.6817798620855, 388.6817839581604, 388.6817904783815, 388.6817898389201, 388.68181966800205, 388.6818054631572, 388.68181601597996, 388.6817690482193, 388.6817786377066, 388.681771960304, 388.6817839142185, 388.6817857565687, 388.68179030259483, 388.68176309940776, 388.68177869669165, 388.68179033274095, 388.6817583306743, 388.68178007903686, 388.6817564773716, 388.68176016207195, 388.6817974563355, 388.68175734769994, 388.6817443248917, 388.6817847271344, 388.68172697172287, 388.6817205295945, 388.68171277808545, 388.68173496796476, 388.68170050032063, 376.83375205388626, 376.83375486758723, 376.8337647407812, 376.8337714343702, 376.83377297226895, 376.83377567865773, 376.8337470623565, 376.8337950459588, 376.83376302613436, 376.83374281509964, 376.83374770060925, 376.833758753381, 376.8337748077338, 376.83375781937673, 376.83377439029863, 376.83376765192196, 376.83376949217353, 376.83375016281417, 376.83379191794285, 376.8337494219754, 376.83357921625753, 376.83371696188266, 376.8337134930885, 376.83378984952446, 376.8336755138989, 376.8338265361655, 376.83371347985656, 221.3066356182859, 221.31422499522006, 221.31304446202114, 359.13496975378257, 359.1349636108761, 359.1350004663086, 359.1349739441758, 359.1349192382407, 359.1349948522864, 359.13497867979873, 359.13496395478984, 359.13497107832995, 359.1349729206801, 359.134968185095, 359.1349915030624, 359.13500663911935, 359.13501047349865, 359.13500679765536, 359.13502572845516, 359.135064506188, 359.1349261748634, 359.13496679401743, 359.13502852338047, 359.13503897240764, 359.13502892601383, 359.13507629927756, 359.135071983062, 359.13508596254457, 272.11466070046737, 272.1147163379805, 272.11503456515584, 217.50652295904933, 217.51611228546508, 313.5656250156467, 723.4794795194235, 723.479589137501, 723.4796964380589, 723.4799127867103, 723.4800984884938, 723.4802631024988, 723.4805777727994, 723.4806686362572, 723.4806820916463, 723.4807531235431, 723.4810139708142, 723.4812576682492, 723.4814470766372, 723.482122570868, 241.91246491002946, 211.46745114406275, 211.46739327802203, 211.46741541178173, 211.46759867903066, 211.46769555511418, 211.46752538824896, 211.46802613616086, 211.46790059733965, 192.32759670402623, 192.33330817479077, 192.34294410068952, 192.33800955047766, 192.34113639387, 192.3554005674705, 192.34625214872818, 1317.947741647099, 469.3495917174318, 313.5656250156467, 246.88707413076835, 246.8870203021253, 246.88706614455015, 246.88710418842595, 246.8870952421937, 246.88713922014196, 246.88700643736632, 246.8871674354494, 246.88704849756527, 246.88701135196828, 246.88700865024774, 246.88729956289552, 246.88694160681558, 246.8874385508161, 246.88713964320957, 246.88759076410386, 207.03976667947666, 207.04818188931722, 207.04262362512426, 207.04157198265827, 207.0379477012153, 207.05099768393364, 207.0415478408615, 207.05566909476588, 207.0472056155247, 207.04964782494304, 676.5239300743987, 914.592235482825, 914.5926296809862, 914.5933587674677, 914.5946949187821, 914.5942154300353, 263.9111034994018, 263.91128603951756, 222.84872096768405, 222.84875115397458, 222.84878721143176, 222.84877272929532, 222.8487170050019, 222.84887431869026, 222.84900403455794, 676.5239300743987, 197.05539678605285, 197.0597904153858, 197.0617146019429, 197.06404304382676, 197.06609714238468, 197.06863622973196, 197.07060077364338, 197.0747544235715, 197.06811576672294, 197.07215990513785, 197.06815925041988, 197.085375791846, 197.0873458715188, 197.09108308357867, 192.34625214872818, 723.482122570868, 1317.947741647099], \"Category\": [\"Default\", \"Default\", \"Default\", \"Default\", \"Default\", \"Default\", \"Default\", \"Default\", \"Default\", \"Default\", \"Default\", \"Default\", \"Default\", \"Default\", \"Default\", \"Default\", \"Default\", \"Default\", \"Default\", \"Default\", \"Default\", \"Default\", \"Default\", \"Default\", \"Default\", \"Default\", \"Default\", \"Default\", \"Default\", \"Default\", \"Topic1\", \"Topic1\", \"Topic1\", \"Topic1\", \"Topic1\", \"Topic1\", \"Topic1\", \"Topic1\", \"Topic1\", \"Topic1\", \"Topic1\", \"Topic1\", \"Topic1\", \"Topic1\", \"Topic1\", \"Topic1\", \"Topic1\", \"Topic1\", \"Topic1\", \"Topic1\", \"Topic1\", \"Topic1\", \"Topic1\", \"Topic1\", \"Topic1\", \"Topic1\", \"Topic1\", \"Topic1\", \"Topic1\", \"Topic1\", \"Topic1\", \"Topic1\", \"Topic2\", \"Topic2\", \"Topic2\", \"Topic2\", \"Topic2\", \"Topic2\", \"Topic2\", \"Topic2\", \"Topic2\", \"Topic2\", \"Topic2\", \"Topic2\", \"Topic2\", \"Topic2\", \"Topic2\", \"Topic2\", \"Topic2\", \"Topic2\", \"Topic2\", \"Topic2\", \"Topic2\", \"Topic2\", \"Topic2\", \"Topic2\", \"Topic2\", \"Topic2\", \"Topic2\", \"Topic2\", \"Topic2\", \"Topic2\", \"Topic3\", \"Topic3\", \"Topic3\", \"Topic3\", \"Topic3\", \"Topic3\", \"Topic3\", \"Topic3\", \"Topic3\", \"Topic3\", \"Topic3\", \"Topic3\", \"Topic3\", \"Topic3\", \"Topic3\", \"Topic3\", \"Topic3\", \"Topic3\", \"Topic3\", \"Topic3\", \"Topic3\", \"Topic3\", \"Topic3\", \"Topic3\", \"Topic3\", \"Topic3\", \"Topic3\", \"Topic3\", \"Topic3\", \"Topic3\", \"Topic4\", \"Topic4\", \"Topic4\", \"Topic4\", \"Topic4\", \"Topic4\", \"Topic4\", \"Topic4\", \"Topic4\", \"Topic4\", \"Topic4\", \"Topic4\", \"Topic4\", \"Topic4\", \"Topic4\", \"Topic4\", \"Topic4\", \"Topic4\", \"Topic4\", \"Topic4\", \"Topic4\", \"Topic4\", \"Topic4\", \"Topic4\", \"Topic4\", \"Topic4\", \"Topic4\", \"Topic4\", \"Topic4\", \"Topic4\", \"Topic4\", \"Topic5\", \"Topic5\", \"Topic5\", \"Topic5\", \"Topic5\", \"Topic5\", \"Topic5\", \"Topic5\", \"Topic5\", \"Topic5\", \"Topic5\", \"Topic5\", \"Topic5\", \"Topic5\", \"Topic5\", \"Topic5\", \"Topic5\", \"Topic5\", \"Topic5\", \"Topic5\", \"Topic5\", \"Topic5\", \"Topic5\", \"Topic5\", \"Topic5\", \"Topic5\", \"Topic5\", \"Topic5\", \"Topic5\", \"Topic5\", \"Topic6\", \"Topic6\", \"Topic6\", \"Topic6\", \"Topic6\", \"Topic6\", \"Topic6\", \"Topic6\", \"Topic6\", \"Topic6\", \"Topic6\", \"Topic6\", \"Topic6\", \"Topic6\", \"Topic6\", \"Topic6\", \"Topic6\", \"Topic6\", \"Topic6\", \"Topic6\", \"Topic6\", \"Topic6\", \"Topic6\", \"Topic6\", \"Topic6\", \"Topic6\", \"Topic6\", \"Topic6\", \"Topic6\", \"Topic6\", \"Topic7\", \"Topic7\", \"Topic7\", \"Topic7\", \"Topic7\", \"Topic7\", \"Topic7\", \"Topic7\", \"Topic7\", \"Topic7\", \"Topic7\", \"Topic7\", \"Topic7\", \"Topic7\", \"Topic7\", \"Topic7\", \"Topic7\", \"Topic7\", \"Topic7\", \"Topic7\", \"Topic7\", \"Topic7\", \"Topic7\", \"Topic7\", \"Topic7\", \"Topic7\", \"Topic7\", \"Topic7\", \"Topic7\", \"Topic7\", \"Topic7\", \"Topic7\"], \"logprob\": [30.0, 29.0, 28.0, 27.0, 26.0, 25.0, 24.0, 23.0, 22.0, 21.0, 20.0, 19.0, 18.0, 17.0, 16.0, 15.0, 14.0, 13.0, 12.0, 11.0, 10.0, 9.0, 8.0, 7.0, 6.0, 5.0, 4.0, 3.0, 2.0, 1.0, -3.9074, -4.8211, -4.8211, -4.8211, -4.8211, -4.8211, -4.8211, -4.8211, -4.8211, -4.8211, -4.8211, -4.8211, -4.8211, -4.8211, -4.8211, -4.8211, -4.8211, -4.8211, -4.8211, -4.8211, -4.8211, -4.8211, -4.8211, -4.8211, -4.8211, -4.8211, -4.8211, -4.8211, -4.8211, -4.8211, -4.2462, -4.8211, -4.3943, -4.3943, -4.3943, -4.3943, -4.3943, -4.3943, -4.3943, -4.3943, -4.3943, -4.3943, -4.3943, -4.3943, -4.3943, -4.3943, -4.3943, -4.3943, -4.3943, -4.3943, -4.3943, -4.3943, -4.3943, -4.3943, -4.3943, -4.3943, -4.3943, -4.3943, -4.3943, -4.3943, -4.3943, -4.3943, -4.2414, -4.2414, -4.2414, -4.2414, -4.2414, -4.2414, -4.2414, -4.2414, -4.2414, -4.2414, -4.2414, -4.2414, -4.2414, -4.2414, -4.2414, -4.2414, -4.2414, -4.2414, -4.2414, -4.2414, -4.2414, -4.2414, -4.2414, -4.2414, -4.2414, -4.2414, -4.2414, -5.3802, -5.3803, -5.3803, -4.2133, -4.2133, -4.2133, -4.2133, -4.2133, -4.2133, -4.2133, -4.2133, -4.2133, -4.2133, -4.2133, -4.2133, -4.2133, -4.2133, -4.2133, -4.2133, -4.2133, -4.2133, -4.2133, -4.2133, -4.2133, -4.2133, -4.2133, -4.2133, -4.2133, -4.7545, -4.7545, -4.7546, -5.352, -5.3521, -5.3507, -3.0043, -3.0043, -3.0043, -3.0043, -3.0043, -3.0043, -3.0043, -3.0043, -3.0043, -3.0043, -3.0043, -3.0043, -3.0043, -3.0043, -5.0375, -5.578, -5.578, -5.578, -5.578, -5.578, -5.578, -5.578, -5.578, -6.1754, -6.1755, -6.1755, -6.1755, -6.1756, -6.1758, -6.1759, -2.0877, -3.3971, -4.3808, -4.6605, -4.6605, -4.6605, -4.6605, -4.6605, -4.6605, -4.6605, -4.6605, -4.6605, -4.6605, -4.6605, -4.6605, -4.6605, -4.6605, -4.6605, -4.6605, -5.2582, -5.2585, -5.2585, -5.2586, -5.2587, -5.2586, -5.2588, -5.2588, -5.2589, -5.259, -4.6574, -2.4478, -2.4478, -2.4478, -2.4478, -2.4478, -4.4807, -4.4807, -5.0213, -5.0213, -5.0213, -5.0213, -5.0213, -5.0213, -5.0213, -4.1096, -5.6187, -5.6187, -5.6188, -5.6189, -5.6189, -5.6189, -5.619, -5.619, -5.619, -5.619, -5.6191, -5.6192, -5.6195, -5.6196, -6.4847, -6.462, -6.458], \"loglift\": [30.0, 29.0, 28.0, 27.0, 26.0, 25.0, 24.0, 23.0, 22.0, 21.0, 20.0, 19.0, 18.0, 17.0, 16.0, 15.0, 14.0, 13.0, 12.0, 11.0, 10.0, 9.0, 8.0, 7.0, 6.0, 5.0, 4.0, 3.0, 2.0, 1.0, 1.1996, 0.9193, 0.9193, 0.9193, 0.9193, 0.9193, 0.9193, 0.9193, 0.9193, 0.9193, 0.9193, 0.9193, 0.9193, 0.9193, 0.9193, 0.9193, 0.9193, 0.9193, 0.9193, 0.9193, 0.9193, 0.9193, 0.9193, 0.9193, 0.9193, 0.9193, 0.9193, 0.9193, 0.9193, 0.9193, 0.7735, 0.9193, 1.1795, 1.1795, 1.1795, 1.1795, 1.1795, 1.1795, 1.1795, 1.1795, 1.1795, 1.1795, 1.1795, 1.1795, 1.1795, 1.1795, 1.1795, 1.1795, 1.1795, 1.1795, 1.1795, 1.1795, 1.1795, 1.1795, 1.1795, 1.1795, 1.1795, 1.1795, 1.1795, 1.1795, 1.1795, 1.1795, 1.3635, 1.3635, 1.3635, 1.3635, 1.3635, 1.3635, 1.3635, 1.3635, 1.3635, 1.3635, 1.3635, 1.3635, 1.3635, 1.3635, 1.3635, 1.3635, 1.3635, 1.3635, 1.3635, 1.3635, 1.3635, 1.3635, 1.3635, 1.3635, 1.3635, 1.3635, 1.3635, 0.7568, 0.7568, 0.7568, 1.4397, 1.4397, 1.4397, 1.4397, 1.4397, 1.4397, 1.4397, 1.4397, 1.4397, 1.4397, 1.4397, 1.4397, 1.4397, 1.4397, 1.4397, 1.4397, 1.4397, 1.4397, 1.4397, 1.4397, 1.4397, 1.4397, 1.4397, 1.4397, 1.4397, 1.1759, 1.1759, 1.1759, 0.8024, 0.8022, 0.438, 1.9483, 1.9483, 1.9483, 1.9483, 1.9483, 1.9483, 1.9483, 1.9483, 1.9483, 1.9483, 1.9483, 1.9483, 1.9483, 1.9483, 1.0106, 0.6045, 0.6045, 0.6045, 0.6045, 0.6045, 0.6045, 0.6045, 0.6045, 0.102, 0.1019, 0.1019, 0.1018, 0.1018, 0.1015, 0.1015, 2.2651, 1.9882, 1.4079, 1.3672, 1.3672, 1.3672, 1.3672, 1.3672, 1.3672, 1.3672, 1.3672, 1.3672, 1.3672, 1.3672, 1.3672, 1.3672, 1.3672, 1.3672, 1.3672, 0.9455, 0.9452, 0.9452, 0.9452, 0.9451, 0.9451, 0.9449, 0.9449, 0.9448, 0.9447, 0.3623, 2.2704, 2.2704, 2.2704, 2.2704, 2.2704, 1.4803, 1.4803, 1.1089, 1.1089, 1.1089, 1.1089, 1.1089, 1.1089, 1.1089, 0.9101, 0.6345, 0.6344, 0.6343, 0.6343, 0.6342, 0.6341, 0.6341, 0.6341, 0.6341, 0.634, 0.634, 0.6338, 0.6335, 0.6334, -0.2074, -1.5094, -2.1051]}, \"token.table\": {\"Topic\": [1, 2, 3, 4, 5, 6, 7, 1, 2, 3, 4, 5, 6, 7, 1, 2, 3, 4, 5, 6, 7, 1, 2, 3, 4, 5, 6, 7, 1, 2, 3, 4, 5, 6, 7, 1, 2, 3, 4, 5, 6, 7, 1, 2, 3, 4, 5, 6, 7, 1, 2, 3, 4, 5, 6, 7, 1, 2, 3, 4, 5, 6, 7, 1, 2, 3, 4, 5, 6, 7, 1, 2, 3, 4, 5, 6, 7, 1, 2, 3, 4, 5, 6, 7, 1, 2, 3, 4, 5, 6, 7, 1, 2, 3, 4, 5, 6, 7, 1, 2, 3, 4, 5, 6, 7, 1, 2, 3, 4, 5, 6, 7, 1, 2, 3, 4, 5, 6, 7, 1, 2, 3, 4, 5, 6, 7, 1, 2, 3, 4, 5, 6, 7, 1, 2, 3, 4, 5, 6, 7, 1, 2, 3, 4, 5, 6, 7, 1, 2, 3, 4, 5, 6, 7, 1, 2, 3, 4, 5, 6, 7, 1, 2, 3, 4, 5, 6, 7, 1, 2, 3, 4, 5, 6, 7, 1, 2, 3, 4, 5, 6, 7, 1, 2, 3, 4, 5, 6, 7, 1, 2, 3, 4, 5, 6, 7, 1, 2, 3, 4, 5, 6, 7, 1, 2, 3, 4, 5, 6, 7, 1, 2, 3, 4, 5, 6, 7, 1, 2, 3, 4, 5, 6, 7, 1, 2, 3, 4, 5, 6, 7, 1, 2, 3, 4, 5, 6, 7, 1, 2, 3, 4, 5, 6, 7, 1, 2, 3, 4, 5, 6, 7, 1, 2, 3, 4, 5, 6, 7, 1, 2, 3, 4, 5, 6, 7, 1, 2, 3, 4, 5, 6, 7, 1, 2, 3, 4, 5, 6, 7, 1, 2, 3, 4, 5, 6, 7, 1, 2, 3, 4, 5, 6, 7, 1, 2, 3, 4, 5, 6, 7, 1, 2, 3, 4, 5, 6, 7, 1, 2, 3, 4, 5, 6, 7, 1, 2, 3, 4, 5, 6, 7, 1, 2, 3, 4, 5, 6, 7, 1, 2, 3, 4, 5, 6, 7, 1, 2, 3, 4, 5, 6, 7, 1, 2, 3, 4, 5, 6, 7, 1, 2, 3, 4, 5, 6, 7, 1, 2, 3, 4, 5, 6, 7, 1, 2, 3, 4, 5, 6, 7, 1, 2, 3, 4, 5, 6, 7, 1, 2, 3, 4, 5, 6, 7, 1, 2, 3, 4, 5, 6, 7, 1, 2, 3, 4, 5, 6, 7, 1, 2, 3, 4, 5, 6, 7, 1, 2, 3, 4, 5, 6, 7, 1, 2, 3, 4, 5, 6, 7, 1, 2, 3, 4, 5, 6, 7, 1, 2, 3, 4, 5, 6, 7, 1, 2, 3, 4, 5, 6, 7, 1, 2, 3, 4, 5, 6, 7, 1, 2, 3, 4, 5, 6, 7, 1, 2, 3, 4, 5, 6, 7, 1, 2, 3, 4, 5, 6, 7, 1, 2, 3, 4, 5, 6, 7, 1, 2, 3, 4, 5, 6, 7, 1, 2, 3, 4, 5, 6, 7, 1, 2, 3, 4, 5, 6, 7, 1, 2, 3, 4, 5, 6, 7, 1, 2, 3, 4, 5, 6, 7, 1, 2, 3, 4, 5, 6, 7, 1, 2, 3, 4, 5, 6, 7, 1, 2, 3, 4, 5, 6, 7, 1, 2, 3, 4, 5, 6, 7, 1, 2, 3, 4, 5, 6, 7, 1, 2, 3, 4, 5, 6, 7, 1, 2, 3, 4, 5, 6, 7, 1, 2, 3, 4, 5, 6, 7, 1, 2, 3, 4, 5, 6, 7, 1, 2, 3, 4, 5, 6, 7, 1, 2, 3, 4, 5, 6, 7, 1, 2, 3, 4, 5, 6, 7, 1, 2, 3, 4, 5, 6, 7, 1, 2, 3, 4, 5, 6, 7, 1, 2, 3, 4, 5, 6, 7, 1, 2, 3, 4, 5, 6, 7, 1, 2, 3, 4, 5, 6, 7, 1, 2, 3, 4, 5, 6, 7, 1, 2, 3, 4, 5, 6, 7, 1, 2, 3, 4, 5, 6, 7, 1, 2, 3, 4, 5, 6, 7, 1, 2, 3, 4, 5, 6, 7, 1, 2, 3, 4, 5, 6, 7, 1, 2, 3, 4, 5, 6, 7, 1, 2, 3, 4, 5, 6, 7, 1, 2, 3, 4, 5, 6, 7, 1, 2, 3, 4, 5, 6, 7, 1, 2, 3, 4, 5, 6, 7, 1, 2, 3, 4, 5, 6, 7, 1, 2, 3, 4, 5, 6, 7, 1, 2, 3, 4, 5, 6, 7, 1, 2, 3, 4, 5, 6, 7, 1, 2, 3, 4, 5, 6, 7, 1, 2, 3, 4, 5, 6, 7, 1, 2, 3, 4, 5, 6, 7, 1, 2, 3, 4, 5, 6, 7, 1, 2, 3, 4, 5, 6, 7, 1, 2, 3, 4, 5, 6, 7, 1, 2, 3, 4, 5, 6, 7, 1, 2, 3, 4, 5, 6, 7, 1, 2, 3, 4, 5, 6, 7, 1, 2, 3, 4, 5, 6, 7, 1, 2, 3, 4, 5, 6, 7, 1, 2, 3, 4, 5, 6, 7, 1, 2, 3, 4, 5, 6, 7, 1, 2, 3, 4, 5, 6, 7, 1, 2, 3, 4, 5, 6, 7, 1, 2, 3, 4, 5, 6, 7, 1, 2, 3, 4, 5, 6, 7, 1, 2, 3, 4, 5, 6, 7, 1, 2, 3, 4, 5, 6, 7, 1, 2, 3, 4, 5, 6, 7, 1, 2, 3, 4, 5, 6, 7, 1, 2, 3, 4, 5, 6, 7, 1, 2, 3, 4, 5, 6, 7, 1, 2, 3, 4, 5, 6, 7, 1, 2, 3, 4, 5, 6, 7, 1, 2, 3, 4, 5, 6, 7, 1, 2, 3, 4, 5, 6, 7, 1, 2, 3, 4, 5, 6, 7, 1, 2, 3, 4, 5, 6, 7, 1, 2, 3, 4, 5, 6, 7, 1, 2, 3, 4, 5, 6, 7, 1, 2, 3, 4, 5, 6, 7, 1, 2, 3, 4, 5, 6, 7, 1, 2, 3, 4, 5, 6, 7, 1, 2, 3, 4, 5, 6, 7, 1, 2, 3, 4, 5, 6, 7, 1, 2, 3, 4, 5, 6, 7, 1, 2, 3, 4, 5, 6, 7, 1, 2, 3, 4, 5, 6, 7, 1, 2, 3, 4, 5, 6, 7, 1, 2, 3, 4, 5, 6, 7, 1, 2, 3, 4, 5, 6, 7, 1, 2, 3, 4, 5, 6, 7, 1, 2, 3, 4, 5, 6, 7, 1, 2, 3, 4, 5, 6, 7, 1, 2, 3, 4, 5, 6, 7, 1, 2, 3, 4, 5, 6, 7, 1, 2, 3, 4, 5, 6, 7, 1, 2, 3, 4, 5, 6, 7, 1, 2, 3, 4, 5, 6, 7, 1, 2, 3, 4, 5, 6, 7, 1, 2, 3, 4, 5, 6, 7, 1, 2, 3, 4, 5, 6, 7, 1, 2, 3, 4, 5, 6, 7, 1, 2, 3, 4, 5, 6, 7, 1, 2, 3, 4, 5, 6, 7, 1, 2, 3, 4, 5, 6, 7, 1, 2, 3, 4, 5, 6, 7, 1, 2, 3, 4, 5, 6, 7, 1, 2, 3, 4, 5, 6, 7, 1, 2, 3, 4, 5, 6, 7, 1, 2, 3, 4, 5, 6, 7, 1, 2, 3, 4, 5, 6, 7, 1, 2, 3, 4, 5, 6, 7, 1, 2, 3, 4, 5, 6, 7, 1, 2, 3, 4, 5, 6, 7, 1, 2, 3, 4, 5, 6, 7, 1, 2, 3, 4, 5, 6, 7, 1, 2, 3, 4, 5, 6, 7, 1, 2, 3, 4, 5, 6, 7, 1, 2, 3, 4, 5, 6, 7, 1, 2, 3, 4, 5, 6, 7, 1, 2, 3, 4, 5, 6, 7, 1, 2, 3, 4, 5, 6, 7, 1, 2, 3, 4, 5, 6, 7, 1, 2, 3, 4, 5, 6, 7, 1, 2, 3, 4, 5, 6, 7, 1, 2, 3, 4, 5, 6, 7, 1, 2, 3, 4, 5, 6, 7, 1, 2, 3, 4, 5, 6, 7, 1, 2, 3, 4, 5, 6, 7, 1, 2, 3, 4, 5, 6, 7, 1, 2, 3, 4, 5, 6, 7, 1, 2, 3, 4, 5, 6, 7, 1, 2, 3, 4, 5, 6, 7, 1, 2, 3, 4, 5, 6, 7, 1, 2, 3, 4, 5, 6, 7, 1, 2, 3, 4, 5, 6, 7, 1, 2, 3, 4, 5, 6, 7, 1, 2, 3, 4, 5, 6, 7, 1, 2, 3, 4, 5, 6, 7, 1, 2, 3, 4, 5, 6, 7, 1, 2, 3, 4, 5, 6, 7, 1, 2, 3, 4, 5, 6, 7, 1, 2, 3, 4, 5, 6, 7, 1, 2, 3, 4, 5, 6, 7, 1, 2, 3, 4, 5, 6, 7, 1, 2, 3, 4, 5, 6, 7, 1, 2, 3, 4, 5, 6, 7, 1, 2, 3, 4, 5, 6, 7, 1, 2, 3, 4, 5, 6, 7, 1, 2, 3, 4, 5, 6, 7, 1, 2, 3, 4, 5, 6, 7, 1, 2, 3, 4, 5, 6, 7], \"Freq\": [0.21734174033511244, 0.1545541264605244, 0.149724310008633, 0.13523486065295884, 0.048298164518913875, 0.2318311896907866, 0.06278761387458803, 0.23394196298749523, 0.17155743952416316, 0.16116001894694115, 0.14556388808110815, 0.11957033663805311, 0.1039742057722201, 0.06758323375194307, 0.23395308979144852, 0.16636664162947448, 0.16116768407855342, 0.14557081142579018, 0.11957602367118479, 0.10397915101842156, 0.06758644816197401, 0.2283497803657546, 0.16238206603786992, 0.1573076264741865, 0.1420843077831362, 0.050744395636834354, 0.10148879127366871, 0.1573076264741865, 0.20333189175264504, 0.1445915674685476, 0.3298495132876242, 0.12651762153497914, 0.04518486483392112, 0.09036972966784224, 0.05874032428409746, 0.21733775979526143, 0.15455129585440813, 0.14972156785895788, 0.1352323838726071, 0.04829727995450254, 0.2318269437816122, 0.0627864639408533, 0.22834456191508395, 0.16237835513961524, 0.15730403154150227, 0.14208106074716334, 0.050743235981129765, 0.10148647196225953, 0.15730403154150227, 0.22835485873498196, 0.16238567732265383, 0.1573111249063209, 0.1420874676573221, 0.05074552416332932, 0.10149104832665864, 0.1573111249063209, 0.23396311579376144, 0.16637377123111924, 0.16117459088014677, 0.14557704982722935, 0.11958114807236696, 0.10398360701944953, 0.06758934456264219, 0.22834744131449564, 0.16238040271253024, 0.15730601512776365, 0.14208285237346396, 0.050743875847665695, 0.10148775169533139, 0.15730601512776365, 0.21733917672753897, 0.15938206293352858, 0.1497225439678602, 0.13523326551935758, 0.04829759482834199, 0.23182845517604156, 0.0627868732768446, 0.22832744347062703, 0.162366182023557, 0.15729223883532084, 0.14207040927061237, 0.05073943188236156, 0.10147886376472312, 0.15729223883532084, 0.23395931231190426, 0.16637106653290967, 0.16117197070375625, 0.14557468321629596, 0.11957920407052884, 0.10398191658306856, 0.06758824577899455, 0.21733285640879632, 0.1593774280331173, 0.14971818997050415, 0.1352293328765844, 0.048296190313065854, 0.23182171350271608, 0.06278504740698561, 0.22832083164775774, 0.16743527654168902, 0.1572876840240109, 0.1420662952474937, 0.05073796258839061, 0.10147592517678122, 0.1572876840240109, 0.22832516111580034, 0.16743845148492026, 0.15729066654644025, 0.1420689891387202, 0.05073892469240008, 0.10147784938480016, 0.15729066654644025, 0.2283427553727583, 0.1623770704872948, 0.15730278703456682, 0.14207993667638294, 0.05074283452727962, 0.10148566905455925, 0.15730278703456682, 0.21734767958066262, 0.15938829835915258, 0.14972840148890093, 0.1352385561835234, 0.04829948435125836, 0.23183752488604015, 0.06278932965663588, 0.23395711347978002, 0.16636950291895466, 0.16117045595273732, 0.14557331505408533, 0.11957808022299866, 0.10398093932434667, 0.06758761056082534, 0.21734765423713642, 0.15455833190196366, 0.1497283840300273, 0.1352385404142182, 0.048299478719363645, 0.23183749785294552, 0.06278932233517275, 0.22834739092892867, 0.16238036688279373, 0.1573059804177064, 0.14208282102244452, 0.050743864650873036, 0.10148772930174607, 0.1573059804177064, 0.22833974920644473, 0.16237493276902737, 0.15730071611999524, 0.14207806617289895, 0.050742166490321046, 0.10148433298064209, 0.15730071611999524, 0.23397578283708653, 0.16638277890637265, 0.1611833170655485, 0.14558493154307606, 0.11958762233895534, 0.1039892368164829, 0.06759300393071388, 0.14351062874878118, 0.1052411277491062, 0.0988628775824937, 0.2104822554982124, 0.03189125083306248, 0.3699385096635248, 0.041458626082981224, 0.22835216057143445, 0.16238375862857563, 0.15730926617143262, 0.14208578880000367, 0.05074492457142988, 0.10148984914285976, 0.15730926617143262, 0.20333080714071547, 0.1445907961889532, 0.3298477538060495, 0.12651694666533406, 0.045184623809047884, 0.09036924761809577, 0.05874001095176225, 0.22834683824340993, 0.1674543480451673, 0.1573055996787935, 0.14208247712923286, 0.050743741831868874, 0.10148748366373775, 0.1573055996787935, 0.21735145899408398, 0.15456103750690417, 0.1497310050848134, 0.13524090781854115, 0.04830032422090755, 0.23184155626035624, 0.06279042148717981, 0.20689034695512235, 0.14712202450142034, 0.14252446123575094, 0.30343917553417943, 0.045975632656693854, 0.09195126531338771, 0.05976832245370201, 0.22836218004654518, 0.16239088358865433, 0.1573161684765089, 0.14209202314007255, 0.05074715112145448, 0.10149430224290897, 0.1573161684765089, 0.21734954942093615, 0.15455967958822125, 0.14972968960108934, 0.1352397196396936, 0.04829989987131914, 0.23183951938233188, 0.06278986983271488, 0.2339688347642022, 0.1663778380545438, 0.1611785306153393, 0.14558060829772582, 0.11958407110170334, 0.10398614878408986, 0.06759099670965842, 0.09587736048802593, 0.07031006435788568, 0.06604884833619565, 0.059657024303660586, 0.02130608010845021, 0.6626190913728015, 0.02769790414098527, 0.2173465502517875, 0.15455754684571557, 0.14972762350678695, 0.13523785349000111, 0.048299233389286114, 0.23183632026857334, 0.06278900340607195, 0.20333778006375236, 0.14459575471200167, 0.3298590654367538, 0.12652128537300147, 0.045186173347500524, 0.09037234669500105, 0.05874202535175068, 0.2173407155251229, 0.15455339770675408, 0.149723604028418, 0.13523422299340981, 0.04829793678336065, 0.2318300965601311, 0.06278731781836884, 0.2283570885016355, 0.16238726293449635, 0.15731266096779334, 0.14208885506768432, 0.050746019667030115, 0.10149203933406023, 0.15731266096779334, 0.20688122607185364, 0.1517128991193593, 0.14251817796061028, 0.3034257982387186, 0.04597360579374525, 0.0919472115874905, 0.059765687531868825, 0.5925830460146667, 0.10028328471017436, 0.0942055098792547, 0.08508884763287522, 0.030388874154598292, 0.060777748309196584, 0.03950553640097778, 0.21279855770387696, 0.15605227564950977, 0.1465945619737819, 0.1324079914601901, 0.19861198719028517, 0.09457713675727865, 0.06147513889223112, 0.18226966443476622, 0.13366442058549524, 0.12556354661061672, 0.11341223564829898, 0.040504369874392494, 0.356438454894654, 0.052655680836710246, 0.5925832103930279, 0.10028331252805087, 0.0942055360111993, 0.08508887123592195, 0.03038888258425784, 0.06077776516851568, 0.03950554735953519, 0.5925833075678918, 0.10028332897302784, 0.09420555145951101, 0.08508888518923574, 0.030388887567584195, 0.06077777513516839, 0.039505553837859454, 0.20193070799147905, 0.1480825191937513, 0.13910782106079667, 0.12564577386136475, 0.04487349066477312, 0.08974698132954624, 0.2512915477227295, 0.16537146467655467, 0.12127240742947343, 0.11392256455495989, 0.44466549390806925, 0.03674921437256771, 0.07349842874513542, 0.04777397868433802, 0.20193056903507933, 0.1480824172923915, 0.13910772533527688, 0.1256456873996049, 0.04487345978557318, 0.08974691957114636, 0.2512913747992098, 0.5925829033130855, 0.100283260560676, 0.0942054871933623, 0.08508882714239176, 0.030388866836568485, 0.06077773367313697, 0.039505526887539034, 0.592583025327336, 0.10028328120924147, 0.09420550659049956, 0.0850888446623867, 0.030388873093709537, 0.060777746187419074, 0.0395055350218224, 0.18226955101017112, 0.1336643374074588, 0.12556346847367345, 0.11341216507299536, 0.04050434466892691, 0.35643823308655687, 0.05265564806960499, 0.18226961657221202, 0.1336643854862888, 0.12556351363863494, 0.11341220586715414, 0.04050435923826934, 0.35643836129677015, 0.05265566700975014, 0.5925828750734099, 0.10028325578165398, 0.09420548270397798, 0.08508882308746397, 0.030388865388379992, 0.060777730776759985, 0.03950552500489399, 0.20193064796581303, 0.14808247517492953, 0.1391077797097823, 0.12564573651206143, 0.044873477325736225, 0.08974695465147245, 0.25129147302412286, 0.18226956659612284, 0.13366434883715675, 0.1255634792106624, 0.11341217477092089, 0.040504348132471744, 0.3564382635657513, 0.05265565257221327, 0.18226949771200887, 0.13366429832213986, 0.12556343175716167, 0.11341213190969442, 0.04050433282489086, 0.3564381288590396, 0.05265563267235812, 0.18226951823020032, 0.13366431336881357, 0.1255634458919158, 0.1134121446765691, 0.04050433738448896, 0.3564381689835029, 0.05265563859983565, 0.20193068063867142, 0.14808249913502572, 0.13910780221775143, 0.12564575684183998, 0.04487348458637143, 0.08974696917274286, 0.25129151368367997, 0.18226929755576762, 0.13366415154089625, 0.12556329387175102, 0.1134120073680332, 0.04050428834572614, 0.35643773744239005, 0.052655574849443984, 0.21279812755723754, 0.15605196020864087, 0.14659426565054143, 0.13240772381339225, 0.19861158572008836, 0.09457694558099446, 0.0614750146276464, 0.20193066108855612, 0.1480824847982745, 0.1391077887498942, 0.1256457446773238, 0.04487348024190136, 0.08974696048380272, 0.2512914893546476, 0.21279870616752095, 0.1560523845228487, 0.14659466424873666, 0.13240808383756858, 0.19861212575635287, 0.09457720274112041, 0.061475181781728276, 0.5925829706037802, 0.10028327194833203, 0.09420549789085736, 0.08508883680464537, 0.030388870287373342, 0.060777740574746685, 0.03950553137358535, 0.592582925888296, 0.10028326438109623, 0.09420549078224191, 0.08508883038396044, 0.030388867994271585, 0.06077773598854317, 0.039505528392553065, 0.5925830633454536, 0.10028328764307677, 0.09420551263440545, 0.08508885012139847, 0.030388875043356595, 0.06077775008671319, 0.039505537556363574, 0.5925831743503354, 0.10028330642851828, 0.09420553028133535, 0.08508886606056097, 0.03038888073591463, 0.06077776147182926, 0.03950554495668902, 0.20193045149540673, 0.1480823310966316, 0.13910764436350243, 0.12564561426380863, 0.04487343366564594, 0.08974686733129188, 0.25129122852761726, 0.7839370755892491, 0.05323029525606012, 0.05000421675569284, 0.04516509900514192, 0.0161303925018364, 0.0322607850036728, 0.02096951025238732, 0.5925830314608844, 0.1002832822472266, 0.0942055075655765, 0.08508884554310135, 0.030388873408250482, 0.060777746816500965, 0.03950553543072563, 0.5114379323757989, 0.048778762336420124, 0.04582247370997042, 0.04138804077029586, 0.014781443132248523, 0.130076699563787, 0.20694020385147932, 0.18226960633625752, 0.1336643779799222, 0.12556350658719964, 0.11341219949811579, 0.040504356963612785, 0.3564383412797925, 0.05265566405269662, 0.5925829888126207, 0.10028327502982812, 0.09420550078559611, 0.08508883941924811, 0.030388871221160036, 0.06077774244232007, 0.039505532587508045, 0.16537143086413483, 0.12127238263369887, 0.11392254126195954, 0.44466540299022916, 0.03674920685869663, 0.07349841371739325, 0.047773968916305615, 0.1822691851815128, 0.1336640691331094, 0.12556321645837548, 0.11341193744627465, 0.04050426337366952, 0.35643751768829174, 0.05265554238577037, 0.5925830367168382, 0.1002832831366957, 0.09420550840113838, 0.0850888462978024, 0.030388873677786574, 0.06077774735557315, 0.03950553578112254, 0.5925829780386006, 0.10028327320653242, 0.09420549907280318, 0.08508883787220932, 0.03038887066864619, 0.06077774133729238, 0.039505531869240045, 0.5925832287212267, 0.10028331562974606, 0.09420553892491297, 0.08508887386766333, 0.030388883524165473, 0.06077776704833095, 0.03950554858141512, 0.5925832141493093, 0.10028331316372925, 0.09420553660835172, 0.08508887177528543, 0.030388882776887654, 0.06077776555377531, 0.03950554760995395, 0.16537123746914872, 0.12127224081070907, 0.11392240803430245, 0.44466488297259993, 0.03674916388203305, 0.0734983277640661, 0.04777391304664297, 0.5925833290287117, 0.1002833326048589, 0.09420555487123108, 0.08508888827078936, 0.03038888866813906, 0.06077777733627812, 0.03950555526858078, 0.21279863145597014, 0.1560523297343781, 0.14659461278077943, 0.13240803735038142, 0.19861205602557214, 0.09457716953598673, 0.061475160198391374, 0.5925831946474753, 0.1002833098634189, 0.09420553350806019, 0.0850888689750221, 0.030388881776793608, 0.060777763553587216, 0.03950554630983169, 0.18226954440542867, 0.13366433256398103, 0.12556346392373977, 0.11341216096337785, 0.04050434320120637, 0.3564382201706161, 0.05265564616156829, 0.5925828914914236, 0.10028325856008707, 0.09420548531402119, 0.08508882544492236, 0.030388866230329416, 0.06077773246065883, 0.03950552609942824, 0.20193071158219844, 0.14808252182694553, 0.13910782353440337, 0.12564577609559013, 0.04487349146271077, 0.08974698292542153, 0.25129155219118027, 0.18226961493850496, 0.133664384288237, 0.1255635125131923, 0.11341220485062531, 0.04050435887522333, 0.3564383581019653, 0.05265566653779032, 0.21279874212475414, 0.15605241089148636, 0.14659468901927508, 0.13240810621095814, 0.1986121593164372, 0.09457721872211296, 0.061475192169373416, 0.21279825388575366, 0.15605205284955267, 0.14659435267685253, 0.13240780241780228, 0.1986117036267034, 0.09457700172700162, 0.061475051122551055, 0.1822695185425387, 0.1336643135978617, 0.12556344610708223, 0.11341214487091297, 0.04050433745389749, 0.3564381695942979, 0.05265563869006674, 0.18226940016627333, 0.13366422678860043, 0.12556336455898828, 0.11341207121457006, 0.04050431114806074, 0.3564379381029345, 0.05265560449247896, 0.5925830046774738, 0.10028327771464941, 0.09420550330770096, 0.08508884169727829, 0.030388872034742245, 0.06077774406948449, 0.03950553364516492, 0.21279876439786277, 0.15605242722509938, 0.14659470436297214, 0.13240812006978128, 0.1986121801046719, 0.09457722862127234, 0.061475198603827025, 0.5925829666104838, 0.10028327127254343, 0.09420549725602564, 0.08508883623124897, 0.030388870082588917, 0.06077774016517783, 0.03950553110736559, 0.182269612943902, 0.13366438282552814, 0.1255635111391325, 0.11341220360953903, 0.04050435843197822, 0.35643835420140835, 0.05265566596157169, 0.5925829332700804, 0.10028326563032129, 0.09420549195575637, 0.08508883144390898, 0.030388868372824635, 0.06077773674564927, 0.03950552888467203, 0.2127984602181083, 0.15605220415994608, 0.14659449481691905, 0.1324079308023785, 0.19861189620356773, 0.09457709343027035, 0.06147511072967573, 0.5925831272693471, 0.10028329846096644, 0.09420552279666544, 0.08508885930021395, 0.030388878321504983, 0.06077775664300997, 0.03950554181795648, 0.5925832074717694, 0.10028331203368404, 0.0942055355467941, 0.08508887081645919, 0.03038888243444971, 0.06077776486889942, 0.039505547164784625, 0.1822695724921163, 0.1336643531608853, 0.1255634832723468, 0.11341217843953905, 0.04050434944269252, 0.35643827509569415, 0.05265565427550027, 0.18226958552037523, 0.13366436271494184, 0.1255634922473696, 0.11341218654601125, 0.04050435233786116, 0.3564383005731782, 0.05265565803921951, 0.5925830065707322, 0.10028327803504698, 0.0942055036086805, 0.08508884196913077, 0.03038887213183242, 0.06077774426366484, 0.03950553377138215, 0.5925832896187694, 0.10028332593548406, 0.09420554860606077, 0.08508888261192586, 0.030388886647116378, 0.060777773294232756, 0.039505552641251294, 0.5925831234868515, 0.1002832978208518, 0.09420552219534563, 0.08508885875708637, 0.030388878127530848, 0.060777756255061696, 0.0395055415657901, 0.5925829573210681, 0.10028326970048845, 0.09420549577924672, 0.08508883489738414, 0.03038886960620862, 0.06077773921241724, 0.039505530488071205, 0.5925832271571269, 0.10028331536505224, 0.09420553867626119, 0.08508887364307462, 0.030388883443955222, 0.060777766887910444, 0.039505548477141786, 0.5925831108777978, 0.10028329568701194, 0.0942055201908294, 0.08508885694655559, 0.03038887748091271, 0.06077775496182542, 0.03950554072518652, 0.11941605641957972, 0.0875717747076918, 0.6050413525258707, 0.07430332399440516, 0.02653690142657327, 0.05307380285314654, 0.034497971854545256, 0.11577594904675517, 0.6200445271170666, 0.07975676489887579, 0.07203836829575878, 0.025727988677056706, 0.05145597735411341, 0.03344638528017372, 0.11941605301075313, 0.08757177220788563, 0.6050413352544826, 0.0743033218733575, 0.026536900669056254, 0.05307380133811251, 0.034497970869773124, 0.11577595076000624, 0.6200445362924778, 0.0797567660791154, 0.07203836936178165, 0.025727989057779163, 0.051455978115558326, 0.03344638577511291, 0.11941605543706575, 0.08757177398718155, 0.6050413475477998, 0.07430332338306313, 0.026536901208236832, 0.053073802416473664, 0.03449797157070788, 0.11941603123487446, 0.08757175623890794, 0.6050412249233639, 0.07430330832392189, 0.026536895829972103, 0.053073791659944206, 0.03449796457896373, 0.11577594284668466, 0.6200444939122446, 0.0797567606277161, 0.07203836443793712, 0.025727987299263257, 0.051455974598526515, 0.03344638348904223, 0.11577594260454287, 0.6200444926154407, 0.07975676046090731, 0.07203836428727112, 0.02572798724545397, 0.05145597449090794, 0.03344638341909016, 0.11577594727479325, 0.620044517627226, 0.0797567636781909, 0.07203836719320468, 0.025727988283287387, 0.051455976566574774, 0.03344638476827361, 0.12530108320409838, 0.09188746101633882, 0.08631852398504557, 0.5763849827388526, 0.02784468515646631, 0.05568937031293262, 0.036198090703406204, 0.1157759332845916, 0.6200444427019238, 0.07975675404049642, 0.07203835848819032, 0.025727985174353686, 0.05145597034870737, 0.03344638072665979, 0.11577593642794146, 0.6200444595363087, 0.07975675620591523, 0.07203836044405247, 0.02572798587287588, 0.05145597174575176, 0.03344638163473864, 0.11577595742621893, 0.6200445719937503, 0.07975677067139526, 0.07203837350964734, 0.025727990539159765, 0.05145598107831953, 0.033446387700907694, 0.125301081728158, 0.09188745993398252, 0.0863185229682866, 0.5763849759495266, 0.02784468482847955, 0.0556893696569591, 0.03619809027702341, 0.11941607909280455, 0.08757179133472334, 0.605041467403543, 0.0743033381021895, 0.026536906465067678, 0.053073812930135356, 0.03449797840458798, 0.11577596769303751, 0.6200446269782676, 0.0797567777440925, 0.07203837989789, 0.025727992820675002, 0.051455985641350004, 0.033446390666877504, 0.12530108007592697, 0.09188745872234644, 0.08631852183008301, 0.576384968349264, 0.0278446844613171, 0.0556893689226342, 0.03619808979971223, 0.11577594441838979, 0.6200445023295986, 0.0797567617104463, 0.07203836541588697, 0.025727987648531063, 0.051455975297062126, 0.03344638394309038, 0.11577595101924941, 0.620044537680869, 0.07975676625770514, 0.07203836952308852, 0.025727989115388757, 0.051455978230777515, 0.03344638585000538, 0.12530109880556667, 0.09188747245741555, 0.0863185347327237, 0.5763850545056066, 0.02784468862345926, 0.05568937724691852, 0.036198095210497036, 0.11577594283359577, 0.6200444938421462, 0.07975676061869931, 0.07203836442979293, 0.025727987296354615, 0.05145597459270923, 0.033446383485261, 0.125301068311669, 0.09188745009522395, 0.08631851372581643, 0.5763849142336774, 0.027844681847037558, 0.055689363694075115, 0.03619808640114883, 0.11577594992169421, 0.6200445318028512, 0.07975676550161157, 0.07203836884016528, 0.0257279888714876, 0.0514559777429752, 0.03344638553293388, 0.11941606705745382, 0.08757178250879948, 0.6050414064244327, 0.07430333061352683, 0.026536903790545293, 0.053073807581090586, 0.03449797492770888, 0.12530104063598288, 0.09188742979972078, 0.08631849466034376, 0.5763847869255212, 0.027844675696885084, 0.05568935139377017, 0.03619807840595061, 0.11941604869625452, 0.08757176904391999, 0.6050413133943563, 0.0743033191887806, 0.026536899710278783, 0.053073799420557566, 0.03449796962336242, 0.11941604220515059, 0.08757176428377711, 0.6050412805060963, 0.07430331514987149, 0.02653689826781124, 0.05307379653562248, 0.03449796774815462, 0.11941605271477354, 0.08757177199083392, 0.6050413337548526, 0.07430332168919242, 0.02653690060328301, 0.05307380120656602, 0.03449797078426791, 0.17430111651253152, 0.1250421053242074, 0.11746379591061908, 0.10609633179023659, 0.037891547067941636, 0.07578309413588327, 0.36754800655903386, 0.11577594229790714, 0.620044490973236, 0.07975676024966936, 0.07203836409647556, 0.025727987177312697, 0.05145597435462539, 0.03344638333050651, 0.12530107806658833, 0.09188745724883145, 0.08631852044587196, 0.5763849591063064, 0.027844684014797408, 0.055689368029594816, 0.03619808921923663, 0.11941606706164694, 0.08757178251187442, 0.6050414064456778, 0.07430333061613588, 0.0265369037914771, 0.0530738075829542, 0.034497974928920226, 0.11577596172695152, 0.6200445950265626, 0.07975677363412216, 0.07203837618565873, 0.025727991494878116, 0.05145598298975623, 0.03344638894334155, 0.11941606595821633, 0.08757178170269198, 0.6050414008549627, 0.07430332992955682, 0.026536903546270293, 0.05307380709254059, 0.03449797461015138, 0.11577594094379054, 0.6200444837211894, 0.07975675931683349, 0.07203836325391412, 0.0257279868763979, 0.0514559737527958, 0.033446382939317267, 0.12530108071871723, 0.09188745919372597, 0.08631852227289409, 0.5763849713060992, 0.027844684604159384, 0.05568936920831877, 0.0361980899854072, 0.11577594089142929, 0.6200444834407657, 0.0797567592807624, 0.07203836322133378, 0.025727986864762062, 0.051455973729524124, 0.03344638292419068, 0.11941604989488655, 0.0875717699229168, 0.6050413194674252, 0.07430331993459607, 0.026536899976641458, 0.053073799953282916, 0.03449796996963389, 0.12530106067631996, 0.09188744449596797, 0.08631850846590931, 0.5763848791110718, 0.027844680150293327, 0.05568936030058665, 0.03619808419538133, 0.12530107242405789, 0.09188745311097579, 0.08631851655879544, 0.5763849331506663, 0.027844682760901754, 0.05568936552180351, 0.036198087589172284, 0.11577595463908733, 0.6200445570671121, 0.07975676875137126, 0.07203837177543211, 0.025727989919797183, 0.051455979839594365, 0.033446386895736334, 0.12530104400746478, 0.09188743227214084, 0.08631849698292018, 0.576384802434338, 0.027844676446103285, 0.05568935289220657, 0.03619807937993427, 0.12530106165146046, 0.091887445211071, 0.08631850913767276, 0.5763848835967181, 0.027844680366991215, 0.05568936073398243, 0.036198084477088575, 0.12530106697386623, 0.09188744911416856, 0.08631851280421896, 0.5763849080797846, 0.02784468154974805, 0.0556893630994961, 0.03619808601467246, 0.125301048122035, 0.09188743528949232, 0.08631849981740189, 0.5763848213613609, 0.027844677360452222, 0.055689354720904444, 0.036198080568587886, 0.11577594440082001, 0.6200445022355027, 0.07975676169834267, 0.07203836540495467, 0.02572798764462667, 0.05145597528925334, 0.03344638393801467, 0.11577595046720938, 0.620044534724388, 0.07975676587741092, 0.07203836917959695, 0.025727988992713197, 0.05145597798542639, 0.03344638569052716, 0.12530108332408882, 0.09188746110433181, 0.08631852406770564, 0.5763849832908087, 0.02784468518313085, 0.0556893703662617, 0.03619809073807011, 0.11577594093481097, 0.6200444836730988, 0.07975675931064756, 0.07203836324832683, 0.02572798687440244, 0.05145597374880488, 0.03344638293672317, 0.11577595980804575, 0.6200445847497561, 0.0797567723122093, 0.07203837499167291, 0.025727991068454612, 0.051455982136909224, 0.03344638838899099, 0.12530107359259166, 0.09188745396790055, 0.08631851736378536, 0.5763849385259217, 0.027844683020575925, 0.05568936604115185, 0.0361980879267487, 0.11577594405368624, 0.6200445003764086, 0.07975676145920607, 0.07203836518896033, 0.02572798756748583, 0.05145597513497166, 0.03344638383773158, 0.1253010963853998, 0.09188747068262652, 0.08631853306549764, 0.5763850433728391, 0.0278446880856444, 0.0556893761712888, 0.03619809451133772, 0.1194161096088928, 0.08757181371318806, 0.6050416220183902, 0.07430335708997775, 0.026536913246420622, 0.053073826492841245, 0.03449798722034681, 0.1253010797188325, 0.09188745846047716, 0.08631852158408461, 0.5763849667066294, 0.027844684381962775, 0.05568936876392555, 0.03619808969655161, 0.1157759388129188, 0.6200444723091874, 0.07975675784889961, 0.07203836192803836, 0.025727986402870846, 0.05145597280574169, 0.0334463823237321, 0.1194160493117234, 0.08757176949526382, 0.6050413165127319, 0.074303319571739, 0.02653689984704964, 0.05307379969409928, 0.034497969801164534, 0.19015142529802267, 0.1364129790181467, 0.12814552574431964, 0.11574434583357902, 0.2934945912208611, 0.08267453273827073, 0.05373844627987598, 0.1194160473512688, 0.08757176805759713, 0.605041306579762, 0.0743033183519006, 0.026536899411393068, 0.053073798822786136, 0.034497969234810986, 0.12530105703068797, 0.09188744182250452, 0.08631850595447395, 0.5763848623411647, 0.027844679340152886, 0.05568935868030577, 0.03619808314219875, 0.12530104551337817, 0.09188743337647733, 0.08631849802032719, 0.5763848093615396, 0.027844676780750706, 0.05568935356150141, 0.03619807981497592, 0.1194160513607671, 0.08757177099789587, 0.6050413268945534, 0.07430332084669954, 0.02653690030239269, 0.05307380060478538, 0.0344979703931105, 0.11577594560426792, 0.6200445086806348, 0.07975676252738456, 0.0720383661537667, 0.025727987912059536, 0.05145597582411907, 0.033446384285677394, 0.11941605394615515, 0.0875717728938471, 0.6050413399938527, 0.07430332245538543, 0.026536900876923366, 0.05307380175384673, 0.034497971140000375, 0.12530106053584247, 0.09188744439295116, 0.08631850836913593, 0.5763848784648754, 0.027844680119076107, 0.055689360238152213, 0.036198084154798936, 0.1253010704653432, 0.09188745167458502, 0.08631851520945866, 0.5763849241405787, 0.027844682325631823, 0.055689364651263645, 0.03619808702332137, 0.1253010682563563, 0.09188745005466128, 0.08631851368771212, 0.576384913979239, 0.027844681834745845, 0.05568936366949169, 0.0361980863851696, 0.11941605567183251, 0.08757177415934385, 0.6050413487372848, 0.07430332352914024, 0.026536901260407225, 0.05307380252081445, 0.03449797163852939, 0.11577594108190449, 0.6200444844608664, 0.07975675941197866, 0.07203836333985168, 0.025727986907089887, 0.051455973814179774, 0.03344638297921686, 0.11941605483779785, 0.08757177354771842, 0.6050413445115091, 0.07430332301018533, 0.026536901075066188, 0.053073802150132375, 0.03449797139758604, 0.11577596403588036, 0.6200446073921593, 0.07975677522471758, 0.07203837762232555, 0.025727992007973412, 0.051455984015946823, 0.03344638961036544, 0.11941605776550661, 0.08757177569470485, 0.6050413593452335, 0.07430332483187078, 0.026536901725668135, 0.05307380345133627, 0.03449797224336858, 0.11941605081740721, 0.08757177059943196, 0.6050413241415299, 0.07430332050860892, 0.026536900181646048, 0.053073800363292095, 0.03449797023613986, 0.12530108221350064, 0.09188746028990047, 0.08631852330263377, 0.576384978182103, 0.027844684936333474, 0.05568936987266695, 0.03619809041723352, 0.11577594640737576, 0.6200445129817235, 0.07975676308063663, 0.07203836665347825, 0.025727988090527946, 0.05145597618105589, 0.03344638451768633, 0.1253010811808477, 0.09188745953262166, 0.08631852259125065, 0.5763849734318995, 0.027844684706855048, 0.055689369413710096, 0.03619809011891156, 0.11577593219677054, 0.6200444368760378, 0.0797567532911086, 0.0720383578113239, 0.025727984932615675, 0.05145596986523135, 0.033446380412400376, 0.11941604121390381, 0.08757176355686279, 0.6050412754837793, 0.0743033145330957, 0.02653689804753418, 0.05307379609506836, 0.03449796746179443, 0.119416047759541, 0.08757176835699673, 0.605041308648341, 0.07430331860593663, 0.026536899502120223, 0.053073799004240446, 0.03449796935275629, 0.11577594398906332, 0.620044500030317, 0.07975676141468807, 0.07203836514875052, 0.025727987553125182, 0.051455975106250364, 0.03344638381906274, 0.11941604762725866, 0.08757176825998968, 0.6050413079781105, 0.0743033185236276, 0.026536899472724144, 0.05307379894544829, 0.03449796931454139, 0.17430099595328427, 0.12504201883605176, 0.11746371466416984, 0.10609625840634695, 0.037891520859409625, 0.07578304171881925, 0.36754775233627335, 0.11941605621732176, 0.08757177455936929, 0.605041351501097, 0.07430332386855576, 0.026536901381627058, 0.053073802763254116, 0.034497971796115176, 0.11941604286061819, 0.08757176476445333, 0.6050412838271322, 0.07430331555771798, 0.02653689841347071, 0.05307379682694142, 0.03449796793751192, 0.11941604820890492, 0.08757176868653027, 0.6050413109251183, 0.07430331888554084, 0.026536899601978872, 0.053073799203957744, 0.034497969482572534, 0.06772824103913636, 0.046995106027155835, 0.044230688025558434, 0.04008406102316233, 0.7546861144360908, 0.029026389016772722, 0.017968717010383113, 0.06772810765422063, 0.046995013474357174, 0.04423060091704204, 0.04008398208106935, 0.7546846281470299, 0.02902633185180884, 0.01796868162254833, 0.05357576522029421, 0.0371750207651021, 0.034988254837743156, 0.031708105946704736, 0.010933829636794736, 0.022961042237268945, 0.8091033931228104, 0.05357564424135578, 0.037174936820532585, 0.03498817583108949, 0.03170803434692485, 0.010933804947215466, 0.022960990389152478, 0.8091015660939445, 0.06772821074086369, 0.0469950850038646, 0.04423066823893139, 0.040084043091531574, 0.7546857768267669, 0.029026376031798726, 0.017968708972065876, 0.03717901586808175, 0.025797684479893456, 0.02428017362813502, 0.02200390735049736, 0.007587554258792193, 0.8725687397611023, 0.00986382053642985, 0.05357567232913295, 0.037174956310010616, 0.034988194174127636, 0.03170805097030317, 0.010933810679414888, 0.022961002426771262, 0.8091019902767016, 0.06772808484068407, 0.0469949976445563, 0.044230586018405925, 0.040083968579180375, 0.7546843739390512, 0.02902632207457889, 0.01796867556997741, 0.06772819335648843, 0.046995072941236865, 0.044230656885869996, 0.040084032802819684, 0.7546855831151568, 0.029026368581352182, 0.017968704359884687, 0.06772813872284288, 0.04699503503217669, 0.04423062120675453, 0.04008400046862129, 0.7546849743402492, 0.02902634516693266, 0.01796868986524403, 0.06772817794624197, 0.046995062248412794, 0.04423064682203557, 0.04008402368246974, 0.754685411400982, 0.029026361976960846, 0.017968700271451952, 0.06772813998245975, 0.04699503590619656, 0.04423062202936147, 0.04008400121410883, 0.75468498837598, 0.029026345706768462, 0.017968690199428095, 0.05357578831197082, 0.03717503678789812, 0.03498826991802176, 0.03170811961320722, 0.0109338343493818, 0.02296105213370178, 0.8091037418542532, 0.06772814848858026, 0.04699504180840263, 0.04423062758437895, 0.04008400624834342, 0.7546850831584658, 0.029026349352248685, 0.01796869245615395, 0.06772806710938299, 0.04699498534120452, 0.04423057443878073, 0.04008395808514503, 0.7546841763616962, 0.02902631447544985, 0.01796867086575467, 0.053575722511295956, 0.03717499113028699, 0.03498822694615246, 0.03170808066995067, 0.010933820920672644, 0.022961023933412553, 0.8091027481297757, 0.06772800387365516, 0.046994941463352556, 0.044230533141978876, 0.04008392065991836, 0.7546834717350146, 0.029026287374423636, 0.017968654088928917, 0.06772825130098867, 0.046995113147624785, 0.04423069472717627, 0.040084067096503494, 0.7546862287824452, 0.029026393414709428, 0.01796871973291536, 0.06772813207324212, 0.046995030418168, 0.04423061686415812, 0.0400839965331433, 0.7546849002446979, 0.029026342317103764, 0.017968688101064233, 0.0677282309942407, 0.04699509905722825, 0.04423068146562659, 0.040084055078224094, 0.7546860025072536, 0.029026384711817448, 0.0179687143454108], \"Term\": [\"Amazing Pizzas many Offers \\ud83c\\udf55\\ud83c\\udf55\\ud83c\\udf55\\ud83c\\udf55\\ud83c\\udf55\\ud83c\\udf55\\ud83c\\udf55\\ud83c\\udf55\", \"Amazing Pizzas many Offers \\ud83c\\udf55\\ud83c\\udf55\\ud83c\\udf55\\ud83c\\udf55\\ud83c\\udf55\\ud83c\\udf55\\ud83c\\udf55\\ud83c\\udf55\", \"Amazing Pizzas many Offers \\ud83c\\udf55\\ud83c\\udf55\\ud83c\\udf55\\ud83c\\udf55\\ud83c\\udf55\\ud83c\\udf55\\ud83c\\udf55\\ud83c\\udf55\", \"Amazing Pizzas many Offers \\ud83c\\udf55\\ud83c\\udf55\\ud83c\\udf55\\ud83c\\udf55\\ud83c\\udf55\\ud83c\\udf55\\ud83c\\udf55\\ud83c\\udf55\", \"Amazing Pizzas many Offers \\ud83c\\udf55\\ud83c\\udf55\\ud83c\\udf55\\ud83c\\udf55\\ud83c\\udf55\\ud83c\\udf55\\ud83c\\udf55\\ud83c\\udf55\", \"Amazing Pizzas many Offers \\ud83c\\udf55\\ud83c\\udf55\\ud83c\\udf55\\ud83c\\udf55\\ud83c\\udf55\\ud83c\\udf55\\ud83c\\udf55\\ud83c\\udf55\", \"Amazing Pizzas many Offers \\ud83c\\udf55\\ud83c\\udf55\\ud83c\\udf55\\ud83c\\udf55\\ud83c\\udf55\\ud83c\\udf55\\ud83c\\udf55\\ud83c\\udf55\", \"Aswome pizza like domino pizza\", \"Aswome pizza like domino pizza\", \"Aswome pizza like domino pizza\", \"Aswome pizza like domino pizza\", \"Aswome pizza like domino pizza\", \"Aswome pizza like domino pizza\", \"Aswome pizza like domino pizza\", \"Awesome pizza good quality staff little tiny place group\", \"Awesome pizza good quality staff little tiny place group\", \"Awesome pizza good quality staff little tiny place group\", \"Awesome pizza good quality staff little tiny place group\", \"Awesome pizza good quality staff little tiny place group\", \"Awesome pizza good quality staff little tiny place group\", \"Awesome pizza good quality staff little tiny place group\", \"Awesome taste operative staff\", \"Awesome taste operative staff\", \"Awesome taste operative staff\", \"Awesome taste operative staff\", \"Awesome taste operative staff\", \"Awesome taste operative staff\", \"Awesome taste operative staff\", \"Best Pizzas ever fast service\", \"Best Pizzas ever fast service\", \"Best Pizzas ever fast service\", \"Best Pizzas ever fast service\", \"Best Pizzas ever fast service\", \"Best Pizzas ever fast service\", \"Best Pizzas ever fast service\", \"Best place dine yummmiii pizzaaa\", \"Best place dine yummmiii pizzaaa\", \"Best place dine yummmiii pizzaaa\", \"Best place dine yummmiii pizzaaa\", \"Best place dine yummmiii pizzaaa\", \"Best place dine yummmiii pizzaaa\", \"Best place dine yummmiii pizzaaa\", \"Best service also test happy both\\ud83d\\ude0a\", \"Best service also test happy both\\ud83d\\ude0a\", \"Best service also test happy both\\ud83d\\ude0a\", \"Best service also test happy both\\ud83d\\ude0a\", \"Best service also test happy both\\ud83d\\ude0a\", \"Best service also test happy both\\ud83d\\ude0a\", \"Best service also test happy both\\ud83d\\ude0a\", \"Card machine working cash payment accepted Calling number working le staff delayed service\", \"Card machine working cash payment accepted Calling number working le staff delayed service\", \"Card machine working cash payment accepted Calling number working le staff delayed service\", \"Card machine working cash payment accepted Calling number working le staff delayed service\", \"Card machine working cash payment accepted Calling number working le staff delayed service\", \"Card machine working cash payment accepted Calling number working le staff delayed service\", \"Card machine working cash payment accepted Calling number working le staff delayed service\", \"Cheese burst pizza cheese More base Less cheese time When cheese used drop mouth eating .... even dropping inside mouth .... dominoz dropped service Pathetic\", \"Cheese burst pizza cheese More base Less cheese time When cheese used drop mouth eating .... even dropping inside mouth .... dominoz dropped service Pathetic\", \"Cheese burst pizza cheese More base Less cheese time When cheese used drop mouth eating .... even dropping inside mouth .... dominoz dropped service Pathetic\", \"Cheese burst pizza cheese More base Less cheese time When cheese used drop mouth eating .... even dropping inside mouth .... dominoz dropped service Pathetic\", \"Cheese burst pizza cheese More base Less cheese time When cheese used drop mouth eating .... even dropping inside mouth .... dominoz dropped service Pathetic\", \"Cheese burst pizza cheese More base Less cheese time When cheese used drop mouth eating .... even dropping inside mouth .... dominoz dropped service Pathetic\", \"Cheese burst pizza cheese More base Less cheese time When cheese used drop mouth eating .... even dropping inside mouth .... dominoz dropped service Pathetic\", \"Clean calm place pizza\", \"Clean calm place pizza\", \"Clean calm place pizza\", \"Clean calm place pizza\", \"Clean calm place pizza\", \"Clean calm place pizza\", \"Clean calm place pizza\", \"Congested waiting table suck\", \"Congested waiting table suck\", \"Congested waiting table suck\", \"Congested waiting table suck\", \"Congested waiting table suck\", \"Congested waiting table suck\", \"Congested waiting table suck\", \"Delicious minimum price\", \"Delicious minimum price\", \"Delicious minimum price\", \"Delicious minimum price\", \"Delicious minimum price\", \"Delicious minimum price\", \"Delicious minimum price\", \"Delicious pizza peaceful atmosphere\", \"Delicious pizza peaceful atmosphere\", \"Delicious pizza peaceful atmosphere\", \"Delicious pizza peaceful atmosphere\", \"Delicious pizza peaceful atmosphere\", \"Delicious pizza peaceful atmosphere\", \"Delicious pizza peaceful atmosphere\", \"Domino favorite pizza outlet Cheese burst pizza satisfy cheese craving Prefer order home dine outlet Recommendations would pasta pizza cheese dominator extravaganza\", \"Domino favorite pizza outlet Cheese burst pizza satisfy cheese craving Prefer order home dine outlet Recommendations would pasta pizza cheese dominator extravaganza\", \"Domino favorite pizza outlet Cheese burst pizza satisfy cheese craving Prefer order home dine outlet Recommendations would pasta pizza cheese dominator extravaganza\", \"Domino favorite pizza outlet Cheese burst pizza satisfy cheese craving Prefer order home dine outlet Recommendations would pasta pizza cheese dominator extravaganza\", \"Domino favorite pizza outlet Cheese burst pizza satisfy cheese craving Prefer order home dine outlet Recommendations would pasta pizza cheese dominator extravaganza\", \"Domino favorite pizza outlet Cheese burst pizza satisfy cheese craving Prefer order home dine outlet Recommendations would pasta pizza cheese dominator extravaganza\", \"Domino favorite pizza outlet Cheese burst pizza satisfy cheese craving Prefer order home dine outlet Recommendations would pasta pizza cheese dominator extravaganza\", \"Domino pizza make bread topping done manually obvious taste differs everywhere taste good great outlet service also great Overall fair experience\", \"Domino pizza make bread topping done manually obvious taste differs everywhere taste good great outlet service also great Overall fair experience\", \"Domino pizza make bread topping done manually obvious taste differs everywhere taste good great outlet service also great Overall fair experience\", \"Domino pizza make bread topping done manually obvious taste differs everywhere taste good great outlet service also great Overall fair experience\", \"Domino pizza make bread topping done manually obvious taste differs everywhere taste good great outlet service also great Overall fair experience\", \"Domino pizza make bread topping done manually obvious taste differs everywhere taste good great outlet service also great Overall fair experience\", \"Domino pizza make bread topping done manually obvious taste differs everywhere taste good great outlet service also great Overall fair experience\", \"Domino pizza take away offer dining well handwash toilet Preferred takeaway\", \"Domino pizza take away offer dining well handwash toilet Preferred takeaway\", \"Domino pizza take away offer dining well handwash toilet Preferred takeaway\", \"Domino pizza take away offer dining well handwash toilet Preferred takeaway\", \"Domino pizza take away offer dining well handwash toilet Preferred takeaway\", \"Domino pizza take away offer dining well handwash toilet Preferred takeaway\", \"Domino pizza take away offer dining well handwash toilet Preferred takeaway\", \"Domino without wash room even without wash basin even wash hand eating Dominos\", \"Domino without wash room even without wash basin even wash hand eating Dominos\", \"Domino without wash room even without wash basin even wash hand eating Dominos\", \"Domino without wash room even without wash basin even wash hand eating Dominos\", \"Domino without wash room even without wash basin even wash hand eating Dominos\", \"Domino without wash room even without wash basin even wash hand eating Dominos\", \"Domino without wash room even without wash basin even wash hand eating Dominos\", \"Enjoy hungryness love\", \"Enjoy hungryness love\", \"Enjoy hungryness love\", \"Enjoy hungryness love\", \"Enjoy hungryness love\", \"Enjoy hungryness love\", \"Enjoy hungryness love\", \"Excellence service valuable food well cleaned restaurant supportive team member\", \"Excellence service valuable food well cleaned restaurant supportive team member\", \"Excellence service valuable food well cleaned restaurant supportive team member\", \"Excellence service valuable food well cleaned restaurant supportive team member\", \"Excellence service valuable food well cleaned restaurant supportive team member\", \"Excellence service valuable food well cleaned restaurant supportive team member\", \"Excellence service valuable food well cleaned restaurant supportive team member\", \"Extremely slow restaurant service Lots fly inside restaurant\", \"Extremely slow restaurant service Lots fly inside restaurant\", \"Extremely slow restaurant service Lots fly inside restaurant\", \"Extremely slow restaurant service Lots fly inside restaurant\", \"Extremely slow restaurant service Lots fly inside restaurant\", \"Extremely slow restaurant service Lots fly inside restaurant\", \"Extremely slow restaurant service Lots fly inside restaurant\", \"Fast friendly staff\", \"Fast friendly staff\", \"Fast friendly staff\", \"Fast friendly staff\", \"Fast friendly staff\", \"Fast friendly staff\", \"Fast friendly staff\", \"First Location place located near Bonkode stop Sector koperkhairane easily accessible Koperkhairane sector vashi since\", \"First Location place located near Bonkode stop Sector koperkhairane easily accessible Koperkhairane sector vashi since\", \"First Location place located near Bonkode stop Sector koperkhairane easily accessible Koperkhairane sector vashi since\", \"First Location place located near Bonkode stop Sector koperkhairane easily accessible Koperkhairane sector vashi since\", \"First Location place located near Bonkode stop Sector koperkhairane easily accessible Koperkhairane sector vashi since\", \"First Location place located near Bonkode stop Sector koperkhairane easily accessible Koperkhairane sector vashi since\", \"First Location place located near Bonkode stop Sector koperkhairane easily accessible Koperkhairane sector vashi since\", \"First doorstep delivery called delivery zone pickup point fetch delivery min walking place\", \"First doorstep delivery called delivery zone pickup point fetch delivery min walking place\", \"First doorstep delivery called delivery zone pickup point fetch delivery min walking place\", \"First doorstep delivery called delivery zone pickup point fetch delivery min walking place\", \"First doorstep delivery called delivery zone pickup point fetch delivery min walking place\", \"First doorstep delivery called delivery zone pickup point fetch delivery min walking place\", \"First doorstep delivery called delivery zone pickup point fetch delivery min walking place\", \"Food great servise fast\", \"Food great servise fast\", \"Food great servise fast\", \"Food great servise fast\", \"Food great servise fast\", \"Food great servise fast\", \"Food great servise fast\", \"Glad allowed quietly enjoy pizza staff extraordinarily sweet Polite\", \"Glad allowed quietly enjoy pizza staff extraordinarily sweet Polite\", \"Glad allowed quietly enjoy pizza staff extraordinarily sweet Polite\", \"Glad allowed quietly enjoy pizza staff extraordinarily sweet Polite\", \"Glad allowed quietly enjoy pizza staff extraordinarily sweet Polite\", \"Glad allowed quietly enjoy pizza staff extraordinarily sweet Polite\", \"Glad allowed quietly enjoy pizza staff extraordinarily sweet Polite\", \"Good Place Excillent Pizza\", \"Good Place Excillent Pizza\", \"Good Place Excillent Pizza\", \"Good Place Excillent Pizza\", \"Good Place Excillent Pizza\", \"Good Place Excillent Pizza\", \"Good Place Excillent Pizza\", \"Good availability drinking water Friendly staff fast service\", \"Good availability drinking water Friendly staff fast service\", \"Good availability drinking water Friendly staff fast service\", \"Good availability drinking water Friendly staff fast service\", \"Good availability drinking water Friendly staff fast service\", \"Good availability drinking water Friendly staff fast service\", \"Good availability drinking water Friendly staff fast service\", \"Good experience good staff\", \"Good experience good staff\", \"Good experience good staff\", \"Good experience good staff\", \"Good experience good staff\", \"Good experience good staff\", \"Good experience good staff\", \"Good food best service every customer\", \"Good food best service every customer\", \"Good food best service every customer\", \"Good food best service every customer\", \"Good food best service every customer\", \"Good food best service every customer\", \"Good food best service every customer\", \"Good food good service\", \"Good food good service\", \"Good food good service\", \"Good food good service\", \"Good food good service\", \"Good food good service\", \"Good food good service\", \"Good open till\", \"Good open till\", \"Good open till\", \"Good open till\", \"Good open till\", \"Good open till\", \"Good open till\", \"Good pizza compared Pizza\", \"Good pizza compared Pizza\", \"Good pizza compared Pizza\", \"Good pizza compared Pizza\", \"Good pizza compared Pizza\", \"Good pizza compared Pizza\", \"Good pizza compared Pizza\", \"Good place dive food good ambience good quality food baki dominoz chill maaro Khao\", \"Good place dive food good ambience good quality food baki dominoz chill maaro Khao\", \"Good place dive food good ambience good quality food baki dominoz chill maaro Khao\", \"Good place dive food good ambience good quality food baki dominoz chill maaro Khao\", \"Good place dive food good ambience good quality food baki dominoz chill maaro Khao\", \"Good place dive food good ambience good quality food baki dominoz chill maaro Khao\", \"Good place dive food good ambience good quality food baki dominoz chill maaro Khao\", \"Good place pizza\", \"Good place pizza\", \"Good place pizza\", \"Good place pizza\", \"Good place pizza\", \"Good place pizza\", \"Good place pizza\", \"Good place space little\", \"Good place space little\", \"Good place space little\", \"Good place space little\", \"Good place space little\", \"Good place space little\", \"Good place space little\", \"Good quality service fast\", \"Good quality service fast\", \"Good quality service fast\", \"Good quality service fast\", \"Good quality service fast\", \"Good quality service fast\", \"Good quality service fast\", \"Good taste Great ambience\", \"Good taste Great ambience\", \"Good taste Great ambience\", \"Good taste Great ambience\", \"Good taste Great ambience\", \"Good taste Great ambience\", \"Good taste Great ambience\", \"Good test seating arrangement\", \"Good test seating arrangement\", \"Good test seating arrangement\", \"Good test seating arrangement\", \"Good test seating arrangement\", \"Good test seating arrangement\", \"Good test seating arrangement\", \"Just Like Another Domino Outlet.Quick Service Moderately Expensive Pizza\", \"Just Like Another Domino Outlet.Quick Service Moderately Expensive Pizza\", \"Just Like Another Domino Outlet.Quick Service Moderately Expensive Pizza\", \"Just Like Another Domino Outlet.Quick Service Moderately Expensive Pizza\", \"Just Like Another Domino Outlet.Quick Service Moderately Expensive Pizza\", \"Just Like Another Domino Outlet.Quick Service Moderately Expensive Pizza\", \"Just Like Another Domino Outlet.Quick Service Moderately Expensive Pizza\", \"Just like every Domino Only seating available Holidays find seat dine\", \"Just like every Domino Only seating available Holidays find seat dine\", \"Just like every Domino Only seating available Holidays find seat dine\", \"Just like every Domino Only seating available Holidays find seat dine\", \"Just like every Domino Only seating available Holidays find seat dine\", \"Just like every Domino Only seating available Holidays find seat dine\", \"Just like every Domino Only seating available Holidays find seat dine\", \"Just ordered pepper chicken pizza medium size received without chicken chicken upset experience\", \"Just ordered pepper chicken pizza medium size received without chicken chicken upset experience\", \"Just ordered pepper chicken pizza medium size received without chicken chicken upset experience\", \"Just ordered pepper chicken pizza medium size received without chicken chicken upset experience\", \"Just ordered pepper chicken pizza medium size received without chicken chicken upset experience\", \"Just ordered pepper chicken pizza medium size received without chicken chicken upset experience\", \"Just ordered pepper chicken pizza medium size received without chicken chicken upset experience\", \"Koparkhairane good Vashi good\", \"Koparkhairane good Vashi good\", \"Koparkhairane good Vashi good\", \"Koparkhairane good Vashi good\", \"Koparkhairane good Vashi good\", \"Koparkhairane good Vashi good\", \"Koparkhairane good Vashi good\", \"Less Crowded small place limited Seats This Domino Outlet basically made Delivery outside delivery eating small group could option There person table suitable group\", \"Less Crowded small place limited Seats This Domino Outlet basically made Delivery outside delivery eating small group could option There person table suitable group\", \"Less Crowded small place limited Seats This Domino Outlet basically made Delivery outside delivery eating small group could option There person table suitable group\", \"Less Crowded small place limited Seats This Domino Outlet basically made Delivery outside delivery eating small group could option There person table suitable group\", \"Less Crowded small place limited Seats This Domino Outlet basically made Delivery outside delivery eating small group could option There person table suitable group\", \"Less Crowded small place limited Seats This Domino Outlet basically made Delivery outside delivery eating small group could option There person table suitable group\", \"Less Crowded small place limited Seats This Domino Outlet basically made Delivery outside delivery eating small group could option There person table suitable group\", \"Less crowded standard time Easily noticeable driving always prefer come experience rush weekend well People spend good time\", \"Less crowded standard time Easily noticeable driving always prefer come experience rush weekend well People spend good time\", \"Less crowded standard time Easily noticeable driving always prefer come experience rush weekend well People spend good time\", \"Less crowded standard time Easily noticeable driving always prefer come experience rush weekend well People spend good time\", \"Less crowded standard time Easily noticeable driving always prefer come experience rush weekend well People spend good time\", \"Less crowded standard time Easily noticeable driving always prefer come experience rush weekend well People spend good time\", \"Less crowded standard time Easily noticeable driving always prefer come experience rush weekend well People spend good time\", \"Like joint Domino Pizza Well maintained managed Timely delivery\", \"Like joint Domino Pizza Well maintained managed Timely delivery\", \"Like joint Domino Pizza Well maintained managed Timely delivery\", \"Like joint Domino Pizza Well maintained managed Timely delivery\", \"Like joint Domino Pizza Well maintained managed Timely delivery\", \"Like joint Domino Pizza Well maintained managed Timely delivery\", \"Like joint Domino Pizza Well maintained managed Timely delivery\", \"Location good easily spotted even driving Seating space limited 8-12 people inside outside provide seating also Ambience Overall good\", \"Location good easily spotted even driving Seating space limited 8-12 people inside outside provide seating also Ambience Overall good\", \"Location good easily spotted even driving Seating space limited 8-12 people inside outside provide seating also Ambience Overall good\", \"Location good easily spotted even driving Seating space limited 8-12 people inside outside provide seating also Ambience Overall good\", \"Location good easily spotted even driving Seating space limited 8-12 people inside outside provide seating also Ambience Overall good\", \"Location good easily spotted even driving Seating space limited 8-12 people inside outside provide seating also Ambience Overall good\", \"Location good easily spotted even driving Seating space limited 8-12 people inside outside provide seating also Ambience Overall good\", \"Location wise good quite hard notice moving fast road\", \"Location wise good quite hard notice moving fast road\", \"Location wise good quite hard notice moving fast road\", \"Location wise good quite hard notice moving fast road\", \"Location wise good quite hard notice moving fast road\", \"Location wise good quite hard notice moving fast road\", \"Location wise good quite hard notice moving fast road\", \"Love\", \"Love\", \"Love\", \"Love\", \"Love\", \"Love\", \"Love\", \"Love chees burst pizza\", \"Love chees burst pizza\", \"Love chees burst pizza\", \"Love chees burst pizza\", \"Love chees burst pizza\", \"Love chees burst pizza\", \"Love chees burst pizza\", \"Love pizza better nerul home delivery horrible branch Once even receieved free pizza late 'forgot order\", \"Love pizza better nerul home delivery horrible branch Once even receieved free pizza late 'forgot order\", \"Love pizza better nerul home delivery horrible branch Once even receieved free pizza late 'forgot order\", \"Love pizza better nerul home delivery horrible branch Once even receieved free pizza late 'forgot order\", \"Love pizza better nerul home delivery horrible branch Once even receieved free pizza late 'forgot order\", \"Love pizza better nerul home delivery horrible branch Once even receieved free pizza late 'forgot order\", \"Love pizza better nerul home delivery horrible branch Once even receieved free pizza late 'forgot order\", \"Miss Savita given fastastic service think need kind staff boost organization\", \"Miss Savita given fastastic service think need kind staff boost organization\", \"Miss Savita given fastastic service think need kind staff boost organization\", \"Miss Savita given fastastic service think need kind staff boost organization\", \"Miss Savita given fastastic service think need kind staff boost organization\", \"Miss Savita given fastastic service think need kind staff boost organization\", \"Miss Savita given fastastic service think need kind staff boost organization\", \"Much better never compromise taste pizza\", \"Much better never compromise taste pizza\", \"Much better never compromise taste pizza\", \"Much better never compromise taste pizza\", \"Much better never compromise taste pizza\", \"Much better never compromise taste pizza\", \"Much better never compromise taste pizza\", \"Name Wise small shop enough space family\", \"Name Wise small shop enough space family\", \"Name Wise small shop enough space family\", \"Name Wise small shop enough space family\", \"Name Wise small shop enough space family\", \"Name Wise small shop enough space family\", \"Name Wise small shop enough space family\", \"Need clean neat\", \"Need clean neat\", \"Need clean neat\", \"Need clean neat\", \"Need clean neat\", \"Need clean neat\", \"Need clean neat\", \"Nice Small place\", \"Nice Small place\", \"Nice Small place\", \"Nice Small place\", \"Nice Small place\", \"Nice Small place\", \"Nice Small place\", \"Nice Very near koperkhairne\", \"Nice Very near koperkhairne\", \"Nice Very near koperkhairne\", \"Nice Very near koperkhairne\", \"Nice Very near koperkhairne\", \"Nice Very near koperkhairne\", \"Nice Very near koperkhairne\", \"Nice arrangement\", \"Nice arrangement\", \"Nice arrangement\", \"Nice arrangement\", \"Nice arrangement\", \"Nice arrangement\", \"Nice arrangement\", \"Nice caught cheating tamasha\", \"Nice caught cheating tamasha\", \"Nice caught cheating tamasha\", \"Nice caught cheating tamasha\", \"Nice caught cheating tamasha\", \"Nice caught cheating tamasha\", \"Nice caught cheating tamasha\", \"Nice cosy outlet\", \"Nice cosy outlet\", \"Nice cosy outlet\", \"Nice cosy outlet\", \"Nice cosy outlet\", \"Nice cosy outlet\", \"Nice cosy outlet\", \"Nice expensive\", \"Nice expensive\", \"Nice expensive\", \"Nice expensive\", \"Nice expensive\", \"Nice expensive\", \"Nice expensive\", \"Nice place Awesome test\", \"Nice place Awesome test\", \"Nice place Awesome test\", \"Nice place Awesome test\", \"Nice place Awesome test\", \"Nice place Awesome test\", \"Nice place Awesome test\", \"Nice place Good seat\", \"Nice place Good seat\", \"Nice place Good seat\", \"Nice place Good seat\", \"Nice place Good seat\", \"Nice place Good seat\", \"Nice place Good seat\", \"Nice place pizza\", \"Nice place pizza\", \"Nice place pizza\", \"Nice place pizza\", \"Nice place pizza\", \"Nice place pizza\", \"Nice place pizza\", \"Nice quick service Would back\", \"Nice quick service Would back\", \"Nice quick service Would back\", \"Nice quick service Would back\", \"Nice quick service Would back\", \"Nice quick service Would back\", \"Nice quick service Would back\", \"Nice small place\", \"Nice small place\", \"Nice small place\", \"Nice small place\", \"Nice small place\", \"Nice small place\", \"Nice small place\", \"Normal experience bought pizza Margherati pepper Margherati good taste softness pepper pizza also good Simla Mirchi onion well half ball onion pizza\", \"Normal experience bought pizza Margherati pepper Margherati good taste softness pepper pizza also good Simla Mirchi onion well half ball onion pizza\", \"Normal experience bought pizza Margherati pepper Margherati good taste softness pepper pizza also good Simla Mirchi onion well half ball onion pizza\", \"Normal experience bought pizza Margherati pepper Margherati good taste softness pepper pizza also good Simla Mirchi onion well half ball onion pizza\", \"Normal experience bought pizza Margherati pepper Margherati good taste softness pepper pizza also good Simla Mirchi onion well half ball onion pizza\", \"Normal experience bought pizza Margherati pepper Margherati good taste softness pepper pizza also good Simla Mirchi onion well half ball onion pizza\", \"Normal experience bought pizza Margherati pepper Margherati good taste softness pepper pizza also good Simla Mirchi onion well half ball onion pizza\", \"Ordered corn cheese pizza pizza delivered corn Vandana took order idea delivered\", \"Ordered corn cheese pizza pizza delivered corn Vandana took order idea delivered\", \"Ordered corn cheese pizza pizza delivered corn Vandana took order idea delivered\", \"Ordered corn cheese pizza pizza delivered corn Vandana took order idea delivered\", \"Ordered corn cheese pizza pizza delivered corn Vandana took order idea delivered\", \"Ordered corn cheese pizza pizza delivered corn Vandana took order idea delivered\", \"Ordered corn cheese pizza pizza delivered corn Vandana took order idea delivered\", \"Outside seating also available\", \"Outside seating also available\", \"Outside seating also available\", \"Outside seating also available\", \"Outside seating also available\", \"Outside seating also available\", \"Outside seating also available\", \"Pizza delicious .....\", \"Pizza delicious .....\", \"Pizza delicious .....\", \"Pizza delicious .....\", \"Pizza delicious .....\", \"Pizza delicious .....\", \"Pizza delicious .....\", \"Pizza excellent service humble loved nature people short good experienced\", \"Pizza excellent service humble loved nature people short good experienced\", \"Pizza excellent service humble loved nature people short good experienced\", \"Pizza excellent service humble loved nature people short good experienced\", \"Pizza excellent service humble loved nature people short good experienced\", \"Pizza excellent service humble loved nature people short good experienced\", \"Pizza excellent service humble loved nature people short good experienced\", \"Pizza good enjoyed pizza\", \"Pizza good enjoyed pizza\", \"Pizza good enjoyed pizza\", \"Pizza good enjoyed pizza\", \"Pizza good enjoyed pizza\", \"Pizza good enjoyed pizza\", \"Pizza good enjoyed pizza\", \"Pizza good must pizza food studio\", \"Pizza good must pizza food studio\", \"Pizza good must pizza food studio\", \"Pizza good must pizza food studio\", \"Pizza good must pizza food studio\", \"Pizza good must pizza food studio\", \"Pizza good must pizza food studio\", \"Pizzas served delicious concern dining space went friend might feel restaurant crowded star le\", \"Pizzas served delicious concern dining space went friend might feel restaurant crowded star le\", \"Pizzas served delicious concern dining space went friend might feel restaurant crowded star le\", \"Pizzas served delicious concern dining space went friend might feel restaurant crowded star le\", \"Pizzas served delicious concern dining space went friend might feel restaurant crowded star le\", \"Pizzas served delicious concern dining space went friend might feel restaurant crowded star le\", \"Pizzas served delicious concern dining space went friend might feel restaurant crowded star le\", \"Place atmosphere good Short table\", \"Place atmosphere good Short table\", \"Place atmosphere good Short table\", \"Place atmosphere good Short table\", \"Place atmosphere good Short table\", \"Place atmosphere good Short table\", \"Place atmosphere good Short table\", \"Place conjusted taste awesome\", \"Place conjusted taste awesome\", \"Place conjusted taste awesome\", \"Place conjusted taste awesome\", \"Place conjusted taste awesome\", \"Place conjusted taste awesome\", \"Place conjusted taste awesome\", \"Place newly renovated better\", \"Place newly renovated better\", \"Place newly renovated better\", \"Place newly renovated better\", \"Place newly renovated better\", \"Place newly renovated better\", \"Place newly renovated better\", \"Place staff behavior good\", \"Place staff behavior good\", \"Place staff behavior good\", \"Place staff behavior good\", \"Place staff behavior good\", \"Place staff behavior good\", \"Place staff behavior good\", \"Quality food pathetic people need wait hour order happy first time experience\", \"Quality food pathetic people need wait hour order happy first time experience\", \"Quality food pathetic people need wait hour order happy first time experience\", \"Quality food pathetic people need wait hour order happy first time experience\", \"Quality food pathetic people need wait hour order happy first time experience\", \"Quality food pathetic people need wait hour order happy first time experience\", \"Quality food pathetic people need wait hour order happy first time experience\", \"Quick service nice pizzaCX\", \"Quick service nice pizzaCX\", \"Quick service nice pizzaCX\", \"Quick service nice pizzaCX\", \"Quick service nice pizzaCX\", \"Quick service nice pizzaCX\", \"Quick service nice pizzaCX\", \"Ready place\", \"Ready place\", \"Ready place\", \"Ready place\", \"Ready place\", \"Ready place\", \"Ready place\", \"Really great experience nice people service\", \"Really great experience nice people service\", \"Really great experience nice people service\", \"Really great experience nice people service\", \"Really great experience nice people service\", \"Really great experience nice people service\", \"Really great experience nice people service\", \"Receive Call Delivered Pizza Overs\", \"Receive Call Delivered Pizza Overs\", \"Receive Call Delivered Pizza Overs\", \"Receive Call Delivered Pizza Overs\", \"Receive Call Delivered Pizza Overs\", \"Receive Call Delivered Pizza Overs\", \"Receive Call Delivered Pizza Overs\", \"Regular visitor small nice outlet.service slow\", \"Regular visitor small nice outlet.service slow\", \"Regular visitor small nice outlet.service slow\", \"Regular visitor small nice outlet.service slow\", \"Regular visitor small nice outlet.service slow\", \"Regular visitor small nice outlet.service slow\", \"Regular visitor small nice outlet.service slow\", \"Seating space small\", \"Seating space small\", \"Seating space small\", \"Seating space small\", \"Seating space small\", \"Seating space small\", \"Seating space small\", \"Service along placing wrong order late service\", \"Service along placing wrong order late service\", \"Service along placing wrong order late service\", \"Service along placing wrong order late service\", \"Service along placing wrong order late service\", \"Service along placing wrong order late service\", \"Service along placing wrong order late service\", \"Service good place narrow cringy\", \"Service good place narrow cringy\", \"Service good place narrow cringy\", \"Service good place narrow cringy\", \"Service good place narrow cringy\", \"Service good place narrow cringy\", \"Service good place narrow cringy\", \"Service good wanted Very limited staff.otherwise food quality good\", \"Service good wanted Very limited staff.otherwise food quality good\", \"Service good wanted Very limited staff.otherwise food quality good\", \"Service good wanted Very limited staff.otherwise food quality good\", \"Service good wanted Very limited staff.otherwise food quality good\", \"Service good wanted Very limited staff.otherwise food quality good\", \"Service good wanted Very limited staff.otherwise food quality good\", \"Service quality star\", \"Service quality star\", \"Service quality star\", \"Service quality star\", \"Service quality star\", \"Service quality star\", \"Service quality star\", \"Service slow make quick\", \"Service slow make quick\", \"Service slow make quick\", \"Service slow make quick\", \"Service slow make quick\", \"Service slow make quick\", \"Service slow make quick\", \"Shameful moment server work going unhappy customer\", \"Shameful moment server work going unhappy customer\", \"Shameful moment server work going unhappy customer\", \"Shameful moment server work going unhappy customer\", \"Shameful moment server work going unhappy customer\", \"Shameful moment server work going unhappy customer\", \"Shameful moment server work going unhappy customer\", \"Should improve mania quality\", \"Should improve mania quality\", \"Should improve mania quality\", \"Should improve mania quality\", \"Should improve mania quality\", \"Should improve mania quality\", \"Should improve mania quality\", \"Small comfortable place Service sloppy sometimes\", \"Small comfortable place Service sloppy sometimes\", \"Small comfortable place Service sloppy sometimes\", \"Small comfortable place Service sloppy sometimes\", \"Small comfortable place Service sloppy sometimes\", \"Small comfortable place Service sloppy sometimes\", \"Small comfortable place Service sloppy sometimes\", \"Small outlet open till great night option\", \"Small outlet open till great night option\", \"Small outlet open till great night option\", \"Small outlet open till great night option\", \"Small outlet open till great night option\", \"Small outlet open till great night option\", \"Small outlet open till great night option\", \"Small place Good staff order quick\", \"Small place Good staff order quick\", \"Small place Good staff order quick\", \"Small place Good staff order quick\", \"Small place Good staff order quick\", \"Small place Good staff order quick\", \"Small place Good staff order quick\", \"Small place good\", \"Small place good\", \"Small place good\", \"Small place good\", \"Small place good\", \"Small place good\", \"Small place good\", \"Small place good instant service\", \"Small place good instant service\", \"Small place good instant service\", \"Small place good instant service\", \"Small place good instant service\", \"Small place good instant service\", \"Small place good instant service\", \"Small place luckily open dine\", \"Small place luckily open dine\", \"Small place luckily open dine\", \"Small place luckily open dine\", \"Small place luckily open dine\", \"Small place luckily open dine\", \"Small place luckily open dine\", \"Small place mainly concentrating delivery table seating approx people Staff non-attentive despite fact chain pizza restaurant basic service level well established They served coke cold adking return argued\", \"Small place mainly concentrating delivery table seating approx people Staff non-attentive despite fact chain pizza restaurant basic service level well established They served coke cold adking return argued\", \"Small place mainly concentrating delivery table seating approx people Staff non-attentive despite fact chain pizza restaurant basic service level well established They served coke cold adking return argued\", \"Small place mainly concentrating delivery table seating approx people Staff non-attentive despite fact chain pizza restaurant basic service level well established They served coke cold adking return argued\", \"Small place mainly concentrating delivery table seating approx people Staff non-attentive despite fact chain pizza restaurant basic service level well established They served coke cold adking return argued\", \"Small place mainly concentrating delivery table seating approx people Staff non-attentive despite fact chain pizza restaurant basic service level well established They served coke cold adking return argued\", \"Small place mainly concentrating delivery table seating approx people Staff non-attentive despite fact chain pizza restaurant basic service level well established They served coke cold adking return argued\", \"Small space main road Vashi kopar khairane Good service\", \"Small space main road Vashi kopar khairane Good service\", \"Small space main road Vashi kopar khairane Good service\", \"Small space main road Vashi kopar khairane Good service\", \"Small space main road Vashi kopar khairane Good service\", \"Small space main road Vashi kopar khairane Good service\", \"Small space main road Vashi kopar khairane Good service\", \"Staff really busy according sure nicely\", \"Staff really busy according sure nicely\", \"Staff really busy according sure nicely\", \"Staff really busy according sure nicely\", \"Staff really busy according sure nicely\", \"Staff really busy according sure nicely\", \"Staff really busy according sure nicely\", \"Standard Dominos test outlet congested place dining\", \"Standard Dominos test outlet congested place dining\", \"Standard Dominos test outlet congested place dining\", \"Standard Dominos test outlet congested place dining\", \"Standard Dominos test outlet congested place dining\", \"Standard Dominos test outlet congested place dining\", \"Standard Dominos test outlet congested place dining\", \"Suchba better place\", \"Suchba better place\", \"Suchba better place\", \"Suchba better place\", \"Suchba better place\", \"Suchba better place\", \"Suchba better place\", \"Super tasty delicious pizza wonderful service clean hygiene ambiance\", \"Super tasty delicious pizza wonderful service clean hygiene ambiance\", \"Super tasty delicious pizza wonderful service clean hygiene ambiance\", \"Super tasty delicious pizza wonderful service clean hygiene ambiance\", \"Super tasty delicious pizza wonderful service clean hygiene ambiance\", \"Super tasty delicious pizza wonderful service clean hygiene ambiance\", \"Super tasty delicious pizza wonderful service clean hygiene ambiance\", \"Taste good Service quick Staff friendly\", \"Taste good Service quick Staff friendly\", \"Taste good Service quick Staff friendly\", \"Taste good Service quick Staff friendly\", \"Taste good Service quick Staff friendly\", \"Taste good Service quick Staff friendly\", \"Taste good Service quick Staff friendly\", \"There Conditioning system eatery great takeaway Will genuinely recommend come favorite pizza place seems dull quite humid\", \"There Conditioning system eatery great takeaway Will genuinely recommend come favorite pizza place seems dull quite humid\", \"There Conditioning system eatery great takeaway Will genuinely recommend come favorite pizza place seems dull quite humid\", \"There Conditioning system eatery great takeaway Will genuinely recommend come favorite pizza place seems dull quite humid\", \"There Conditioning system eatery great takeaway Will genuinely recommend come favorite pizza place seems dull quite humid\", \"There Conditioning system eatery great takeaway Will genuinely recommend come favorite pizza place seems dull quite humid\", \"There Conditioning system eatery great takeaway Will genuinely recommend come favorite pizza place seems dull quite humid\", \"There enough space neither enough chair customer\", \"There enough space neither enough chair customer\", \"There enough space neither enough chair customer\", \"There enough space neither enough chair customer\", \"There enough space neither enough chair customer\", \"There enough space neither enough chair customer\", \"There enough space neither enough chair customer\", \"They brought taste standard\", \"They brought taste standard\", \"They brought taste standard\", \"They brought taste standard\", \"They brought taste standard\", \"They brought taste standard\", \"They brought taste standard\", \"They good service\", \"They good service\", \"They good service\", \"They good service\", \"They good service\", \"They good service\", \"They good service\", \"They started making everything front everyone know customer everything good\", \"They started making everything front everyone know customer everything good\", \"They started making everything front everyone know customer everything good\", \"They started making everything front everyone know customer everything good\", \"They started making everything front everyone know customer everything good\", \"They started making everything front everyone know customer everything good\", \"They started making everything front everyone know customer everything good\", \"They take long order\", \"They take long order\", \"They take long order\", \"They take long order\", \"They take long order\", \"They take long order\", \"They take long order\", \"This near open\", \"This near open\", \"This near open\", \"This near open\", \"This near open\", \"This near open\", \"This near open\", \"This place easy find staff helpful nature\", \"This place easy find staff helpful nature\", \"This place easy find staff helpful nature\", \"This place easy find staff helpful nature\", \"This place easy find staff helpful nature\", \"This place easy find staff helpful nature\", \"This place easy find staff helpful nature\", \"Timely delivery Budget friendly High probability finding place even weekend\", \"Timely delivery Budget friendly High probability finding place even weekend\", \"Timely delivery Budget friendly High probability finding place even weekend\", \"Timely delivery Budget friendly High probability finding place even weekend\", \"Timely delivery Budget friendly High probability finding place even weekend\", \"Timely delivery Budget friendly High probability finding place even weekend\", \"Timely delivery Budget friendly High probability finding place even weekend\", \"Tried corn pizza taste nice\", \"Tried corn pizza taste nice\", \"Tried corn pizza taste nice\", \"Tried corn pizza taste nice\", \"Tried corn pizza taste nice\", \"Tried corn pizza taste nice\", \"Tried corn pizza taste nice\", \"Very Good place hang Also employee name Uday much helpful Domino employee impressed providing water bottle totally unexpected amazing Just feedback fixed\", \"Very Good place hang Also employee name Uday much helpful Domino employee impressed providing water bottle totally unexpected amazing Just feedback fixed\", \"Very Good place hang Also employee name Uday much helpful Domino employee impressed providing water bottle totally unexpected amazing Just feedback fixed\", \"Very Good place hang Also employee name Uday much helpful Domino employee impressed providing water bottle totally unexpected amazing Just feedback fixed\", \"Very Good place hang Also employee name Uday much helpful Domino employee impressed providing water bottle totally unexpected amazing Just feedback fixed\", \"Very Good place hang Also employee name Uday much helpful Domino employee impressed providing water bottle totally unexpected amazing Just feedback fixed\", \"Very Good place hang Also employee name Uday much helpful Domino employee impressed providing water bottle totally unexpected amazing Just feedback fixed\", \"Very Nice\", \"Very Nice\", \"Very Nice\", \"Very Nice\", \"Very Nice\", \"Very Nice\", \"Very Nice\", \"Very Service Very Slow Have Service Just name brand\", \"Very Service Very Slow Have Service Just name brand\", \"Very Service Very Slow Have Service Just name brand\", \"Very Service Very Slow Have Service Just name brand\", \"Very Service Very Slow Have Service Just name brand\", \"Very Service Very Slow Have Service Just name brand\", \"Very Service Very Slow Have Service Just name brand\", \"Very behaviour staff arrogant dilivery staf\", \"Very behaviour staff arrogant dilivery staf\", \"Very behaviour staff arrogant dilivery staf\", \"Very behaviour staff arrogant dilivery staf\", \"Very behaviour staff arrogant dilivery staf\", \"Very behaviour staff arrogant dilivery staf\", \"Very behaviour staff arrogant dilivery staf\", \"Very congested place chair table\", \"Very congested place chair table\", \"Very congested place chair table\", \"Very congested place chair table\", \"Very congested place chair table\", \"Very congested place chair table\", \"Very congested place chair table\", \"Very fast supportive staff Excellent service\", \"Very fast supportive staff Excellent service\", \"Very fast supportive staff Excellent service\", \"Very fast supportive staff Excellent service\", \"Very fast supportive staff Excellent service\", \"Very fast supportive staff Excellent service\", \"Very fast supportive staff Excellent service\", \"Very good food clean\", \"Very good food clean\", \"Very good food clean\", \"Very good food clean\", \"Very good food clean\", \"Very good food clean\", \"Very good food clean\", \"Very le space 4tables congested.rest Domino Pizza maintained good quality issue\", \"Very le space 4tables congested.rest Domino Pizza maintained good quality issue\", \"Very le space 4tables congested.rest Domino Pizza maintained good quality issue\", \"Very le space 4tables congested.rest Domino Pizza maintained good quality issue\", \"Very le space 4tables congested.rest Domino Pizza maintained good quality issue\", \"Very le space 4tables congested.rest Domino Pizza maintained good quality issue\", \"Very le space 4tables congested.rest Domino Pizza maintained good quality issue\", \"Very nice le space sitting\", \"Very nice le space sitting\", \"Very nice le space sitting\", \"Very nice le space sitting\", \"Very nice le space sitting\", \"Very nice le space sitting\", \"Very nice le space sitting\", \"Very nice place taste also good\", \"Very nice place taste also good\", \"Very nice place taste also good\", \"Very nice place taste also good\", \"Very nice place taste also good\", \"Very nice place taste also good\", \"Very nice place taste also good\", \"Very place proper management There many mosquito inside.They Make wait long time\", \"Very place proper management There many mosquito inside.They Make wait long time\", \"Very place proper management There many mosquito inside.They Make wait long time\", \"Very place proper management There many mosquito inside.They Make wait long time\", \"Very place proper management There many mosquito inside.They Make wait long time\", \"Very place proper management There many mosquito inside.They Make wait long time\", \"Very place proper management There many mosquito inside.They Make wait long time\", \"Very small Domino restaurant hardly accommodate people Rest food quality Domino Also visited whole restaurant completely mess everything around dirty well maintained\", \"Very small Domino restaurant hardly accommodate people Rest food quality Domino Also visited whole restaurant completely mess everything around dirty well maintained\", \"Very small Domino restaurant hardly accommodate people Rest food quality Domino Also visited whole restaurant completely mess everything around dirty well maintained\", \"Very small Domino restaurant hardly accommodate people Rest food quality Domino Also visited whole restaurant completely mess everything around dirty well maintained\", \"Very small Domino restaurant hardly accommodate people Rest food quality Domino Also visited whole restaurant completely mess everything around dirty well maintained\", \"Very small Domino restaurant hardly accommodate people Rest food quality Domino Also visited whole restaurant completely mess everything around dirty well maintained\", \"Very small Domino restaurant hardly accommodate people Rest food quality Domino Also visited whole restaurant completely mess everything around dirty well maintained\", \"Very small area seating co-operative staff crowdy long\", \"Very small area seating co-operative staff crowdy long\", \"Very small area seating co-operative staff crowdy long\", \"Very small area seating co-operative staff crowdy long\", \"Very small area seating co-operative staff crowdy long\", \"Very small area seating co-operative staff crowdy long\", \"Very small area seating co-operative staff crowdy long\", \"Very small outlet\", \"Very small outlet\", \"Very small outlet\", \"Very small outlet\", \"Very small outlet\", \"Very small outlet\", \"Very small outlet\", \"Very small place washroom\", \"Very small place washroom\", \"Very small place washroom\", \"Very small place washroom\", \"Very small place washroom\", \"Very small place washroom\", \"Very small place washroom\", \"Very tasteless pizza\", \"Very tasteless pizza\", \"Very tasteless pizza\", \"Very tasteless pizza\", \"Very tasteless pizza\", \"Very tasteless pizza\", \"Very tasteless pizza\", \"Wonderful food service great taste Satendra good staff talk ordering suggest best option\", \"Wonderful food service great taste Satendra good staff talk ordering suggest best option\", \"Wonderful food service great taste Satendra good staff talk ordering suggest best option\", \"Wonderful food service great taste Satendra good staff talk ordering suggest best option\", \"Wonderful food service great taste Satendra good staff talk ordering suggest best option\", \"Wonderful food service great taste Satendra good staff talk ordering suggest best option\", \"Wonderful food service great taste Satendra good staff talk ordering suggest best option\", \"Worst pizza service\", \"Worst pizza service\", \"Worst pizza service\", \"Worst pizza service\", \"Worst pizza service\", \"Worst pizza service\", \"Worst pizza service\", \"Worst service taste good Noisy door irritating\", \"Worst service taste good Noisy door irritating\", \"Worst service taste good Noisy door irritating\", \"Worst service taste good Noisy door irritating\", \"Worst service taste good Noisy door irritating\", \"Worst service taste good Noisy door irritating\", \"Worst service taste good Noisy door irritating\", \"Your number work Genius\", \"Your number work Genius\", \"Your number work Genius\", \"Your number work Genius\", \"Your number work Genius\", \"Your number work Genius\", \"Your number work Genius\", \"Yummy mouth-watering pizza great price Everyday value Offers However dine-ins viable little space consumption Delivery seems good option dine-out Quality delivered upto mark\", \"Yummy mouth-watering pizza great price Everyday value Offers However dine-ins viable little space consumption Delivery seems good option dine-out Quality delivered upto mark\", \"Yummy mouth-watering pizza great price Everyday value Offers However dine-ins viable little space consumption Delivery seems good option dine-out Quality delivered upto mark\", \"Yummy mouth-watering pizza great price Everyday value Offers However dine-ins viable little space consumption Delivery seems good option dine-out Quality delivered upto mark\", \"Yummy mouth-watering pizza great price Everyday value Offers However dine-ins viable little space consumption Delivery seems good option dine-out Quality delivered upto mark\", \"Yummy mouth-watering pizza great price Everyday value Offers However dine-ins viable little space consumption Delivery seems good option dine-out Quality delivered upto mark\", \"Yummy mouth-watering pizza great price Everyday value Offers However dine-ins viable little space consumption Delivery seems good option dine-out Quality delivered upto mark\", \"accepting payment card Card reading machine working Only payment method available cash\", \"accepting payment card Card reading machine working Only payment method available cash\", \"accepting payment card Card reading machine working Only payment method available cash\", \"accepting payment card Card reading machine working Only payment method available cash\", \"accepting payment card Card reading machine working Only payment method available cash\", \"accepting payment card Card reading machine working Only payment method available cash\", \"accepting payment card Card reading machine working Only payment method available cash\", \"always whenever hungry throw party enjoy really delicious pizza right Spot Domino really love enjoying pizza pizza base variety choose topping good place every hunger freak\", \"always whenever hungry throw party enjoy really delicious pizza right Spot Domino really love enjoying pizza pizza base variety choose topping good place every hunger freak\", \"always whenever hungry throw party enjoy really delicious pizza right Spot Domino really love enjoying pizza pizza base variety choose topping good place every hunger freak\", \"always whenever hungry throw party enjoy really delicious pizza right Spot Domino really love enjoying pizza pizza base variety choose topping good place every hunger freak\", \"always whenever hungry throw party enjoy really delicious pizza right Spot Domino really love enjoying pizza pizza base variety choose topping good place every hunger freak\", \"always whenever hungry throw party enjoy really delicious pizza right Spot Domino really love enjoying pizza pizza base variety choose topping good place every hunger freak\", \"always whenever hungry throw party enjoy really delicious pizza right Spot Domino really love enjoying pizza pizza base variety choose topping good place every hunger freak\", \"amazing\", \"amazing\", \"amazing\", \"amazing\", \"amazing\", \"amazing\", \"amazing\", \"baby nakshatra \\ud83d\\ude18\\ud83d\\ude18\\ud83d\\ude18\\ud83d\\ude18 love pizza burger\", \"baby nakshatra \\ud83d\\ude18\\ud83d\\ude18\\ud83d\\ude18\\ud83d\\ude18 love pizza burger\", \"baby nakshatra \\ud83d\\ude18\\ud83d\\ude18\\ud83d\\ude18\\ud83d\\ude18 love pizza burger\", \"baby nakshatra \\ud83d\\ude18\\ud83d\\ude18\\ud83d\\ude18\\ud83d\\ude18 love pizza burger\", \"baby nakshatra \\ud83d\\ude18\\ud83d\\ude18\\ud83d\\ude18\\ud83d\\ude18 love pizza burger\", \"baby nakshatra \\ud83d\\ude18\\ud83d\\ude18\\ud83d\\ude18\\ud83d\\ude18 love pizza burger\", \"baby nakshatra \\ud83d\\ude18\\ud83d\\ude18\\ud83d\\ude18\\ud83d\\ude18 love pizza burger\", \"best part open till 11:30\", \"best part open till 11:30\", \"best part open till 11:30\", \"best part open till 11:30\", \"best part open till 11:30\", \"best part open till 11:30\", \"best part open till 11:30\", \"board eating stuff introduce something much better pizza\", \"board eating stuff introduce something much better pizza\", \"board eating stuff introduce something much better pizza\", \"board eating stuff introduce something much better pizza\", \"board eating stuff introduce something much better pizza\", \"board eating stuff introduce something much better pizza\", \"board eating stuff introduce something much better pizza\", \"chip separate charge ketchup buying almost pizza afford ketchup complimentary disappointed\", \"chip separate charge ketchup buying almost pizza afford ketchup complimentary disappointed\", \"chip separate charge ketchup buying almost pizza afford ketchup complimentary disappointed\", \"chip separate charge ketchup buying almost pizza afford ketchup complimentary disappointed\", \"chip separate charge ketchup buying almost pizza afford ketchup complimentary disappointed\", \"chip separate charge ketchup buying almost pizza afford ketchup complimentary disappointed\", \"chip separate charge ketchup buying almost pizza afford ketchup complimentary disappointed\", \"class\", \"class\", \"class\", \"class\", \"class\", \"class\", \"class\", \"closer dosnt love Dominoes\", \"closer dosnt love Dominoes\", \"closer dosnt love Dominoes\", \"closer dosnt love Dominoes\", \"closer dosnt love Dominoes\", \"closer dosnt love Dominoes\", \"closer dosnt love Dominoes\", \"dine place anymore\", \"dine place anymore\", \"dine place anymore\", \"dine place anymore\", \"dine place anymore\", \"dine place anymore\", \"dine place anymore\", \"domino knew year back\", \"domino knew year back\", \"domino knew year back\", \"domino knew year back\", \"domino knew year back\", \"domino knew year back\", \"domino knew year back\", \"everytime food quality good\", \"everytime food quality good\", \"everytime food quality good\", \"everytime food quality good\", \"everytime food quality good\", \"everytime food quality good\", \"everytime food quality good\", \"favourite place anytime food .love\\ud83d\\ude44\\ud83c\\udf55\\ud83c\\udf55\\ud83c\\udf55\", \"favourite place anytime food .love\\ud83d\\ude44\\ud83c\\udf55\\ud83c\\udf55\\ud83c\\udf55\", \"favourite place anytime food .love\\ud83d\\ude44\\ud83c\\udf55\\ud83c\\udf55\\ud83c\\udf55\", \"favourite place anytime food .love\\ud83d\\ude44\\ud83c\\udf55\\ud83c\\udf55\\ud83c\\udf55\", \"favourite place anytime food .love\\ud83d\\ude44\\ud83c\\udf55\\ud83c\\udf55\\ud83c\\udf55\", \"favourite place anytime food .love\\ud83d\\ude44\\ud83c\\udf55\\ud83c\\udf55\\ud83c\\udf55\", \"favourite place anytime food .love\\ud83d\\ude44\\ud83c\\udf55\\ud83c\\udf55\\ud83c\\udf55\", \"giving star taste good Otherwise pathetic domino Pizza outlet bwhich visited worst aspect beverage available purchase mineral water purchase When\", \"giving star taste good Otherwise pathetic domino Pizza outlet bwhich visited worst aspect beverage available purchase mineral water purchase When\", \"giving star taste good Otherwise pathetic domino Pizza outlet bwhich visited worst aspect beverage available purchase mineral water purchase When\", \"giving star taste good Otherwise pathetic domino Pizza outlet bwhich visited worst aspect beverage available purchase mineral water purchase When\", \"giving star taste good Otherwise pathetic domino Pizza outlet bwhich visited worst aspect beverage available purchase mineral water purchase When\", \"giving star taste good Otherwise pathetic domino Pizza outlet bwhich visited worst aspect beverage available purchase mineral water purchase When\", \"giving star taste good Otherwise pathetic domino Pizza outlet bwhich visited worst aspect beverage available purchase mineral water purchase When\", \"going sleep time\", \"going sleep time\", \"going sleep time\", \"going sleep time\", \"going sleep time\", \"going sleep time\", \"going sleep time\", \"good\", \"good\", \"good\", \"good\", \"good\", \"good\", \"good\", \"good Place .... Good food\", \"good Place .... Good food\", \"good Place .... Good food\", \"good Place .... Good food\", \"good Place .... Good food\", \"good Place .... Good food\", \"good Place .... Good food\", \"good Small place chill preparation hygenic\", \"good Small place chill preparation hygenic\", \"good Small place chill preparation hygenic\", \"good Small place chill preparation hygenic\", \"good Small place chill preparation hygenic\", \"good Small place chill preparation hygenic\", \"good Small place chill preparation hygenic\", \"good dining better take away place Only people dine place\", \"good dining better take away place Only people dine place\", \"good dining better take away place Only people dine place\", \"good dining better take away place Only people dine place\", \"good dining better take away place Only people dine place\", \"good dining better take away place Only people dine place\", \"good dining better take away place Only people dine place\", \"good every domino place small dine parking available friendly staaf\", \"good every domino place small dine parking available friendly staaf\", \"good every domino place small dine parking available friendly staaf\", \"good every domino place small dine parking available friendly staaf\", \"good every domino place small dine parking available friendly staaf\", \"good every domino place small dine parking available friendly staaf\", \"good every domino place small dine parking available friendly staaf\", \"good hygenic place well food served delicious .....\", \"good hygenic place well food served delicious .....\", \"good hygenic place well food served delicious .....\", \"good hygenic place well food served delicious .....\", \"good hygenic place well food served delicious .....\", \"good hygenic place well food served delicious .....\", \"good hygenic place well food served delicious .....\", \"good like loved\", \"good like loved\", \"good like loved\", \"good like loved\", \"good like loved\", \"good like loved\", \"good like loved\", \"good place\", \"good place\", \"good place\", \"good place\", \"good place\", \"good place\", \"good place\", \"good plece pizza ....\", \"good plece pizza ....\", \"good plece pizza ....\", \"good plece pizza ....\", \"good plece pizza ....\", \"good plece pizza ....\", \"good plece pizza ....\", \"good white pasta\", \"good white pasta\", \"good white pasta\", \"good white pasta\", \"good white pasta\", \"good white pasta\", \"good white pasta\", \"great always\", \"great always\", \"great always\", \"great always\", \"great always\", \"great always\", \"great always\", \"improved Domino pizza totally worth every penny crust pizza must\", \"improved Domino pizza totally worth every penny crust pizza must\", \"improved Domino pizza totally worth every penny crust pizza must\", \"improved Domino pizza totally worth every penny crust pizza must\", \"improved Domino pizza totally worth every penny crust pizza must\", \"improved Domino pizza totally worth every penny crust pizza must\", \"improved Domino pizza totally worth every penny crust pizza must\", \"jalapeno chilies tart bite\", \"jalapeno chilies tart bite\", \"jalapeno chilies tart bite\", \"jalapeno chilies tart bite\", \"jalapeno chilies tart bite\", \"jalapeno chilies tart bite\", \"jalapeno chilies tart bite\", \"know domino favorite visit store crowded good option choose online order table seating\", \"know domino favorite visit store crowded good option choose online order table seating\", \"know domino favorite visit store crowded good option choose online order table seating\", \"know domino favorite visit store crowded good option choose online order table seating\", \"know domino favorite visit store crowded good option choose online order table seating\", \"know domino favorite visit store crowded good option choose online order table seating\", \"know domino favorite visit store crowded good option choose online order table seating\", \"know experience difference taste every domino store Anyways nice le seating fast service\", \"know experience difference taste every domino store Anyways nice le seating fast service\", \"know experience difference taste every domino store Anyways nice le seating fast service\", \"know experience difference taste every domino store Anyways nice le seating fast service\", \"know experience difference taste every domino store Anyways nice le seating fast service\", \"know experience difference taste every domino store Anyways nice le seating fast service\", \"know experience difference taste every domino store Anyways nice le seating fast service\", \"little space stand\", \"little space stand\", \"little space stand\", \"little space stand\", \"little space stand\", \"little space stand\", \"little space stand\", \"looking offer mentioned website order counter hardly offer promised official site Best order online take-away shop home\", \"looking offer mentioned website order counter hardly offer promised official site Best order online take-away shop home\", \"looking offer mentioned website order counter hardly offer promised official site Best order online take-away shop home\", \"looking offer mentioned website order counter hardly offer promised official site Best order online take-away shop home\", \"looking offer mentioned website order counter hardly offer promised official site Best order online take-away shop home\", \"looking offer mentioned website order counter hardly offer promised official site Best order online take-away shop home\", \"looking offer mentioned website order counter hardly offer promised official site Best order online take-away shop home\", \"love pizza Domino\", \"love pizza Domino\", \"love pizza Domino\", \"love pizza Domino\", \"love pizza Domino\", \"love pizza Domino\", \"love pizza Domino\", \"love place love pizzzzaaaasss cheese burst\", \"love place love pizzzzaaaasss cheese burst\", \"love place love pizzzzaaaasss cheese burst\", \"love place love pizzzzaaaasss cheese burst\", \"love place love pizzzzaaaasss cheese burst\", \"love place love pizzzzaaaasss cheese burst\", \"love place love pizzzzaaaasss cheese burst\", \"machine mostly working nearby\", \"machine mostly working nearby\", \"machine mostly working nearby\", \"machine mostly working nearby\", \"machine mostly working nearby\", \"machine mostly working nearby\", \"machine mostly working nearby\", \"nearby main road always get delivery time well service also good available till\", \"nearby main road always get delivery time well service also good available till\", \"nearby main road always get delivery time well service also good available till\", \"nearby main road always get delivery time well service also good available till\", \"nearby main road always get delivery time well service also good available till\", \"nearby main road always get delivery time well service also good available till\", \"nearby main road always get delivery time well service also good available till\", \"nonnveg Dominator Golden Delight Burger pizza \\u2764\\ufe0f\\u2764\\ufe0f\\u2764\\ufe0f\\u2763\\ufe0f\\u2763\\ufe0f\\ud83e\\udd24\\ud83e\\udd24\", \"nonnveg Dominator Golden Delight Burger pizza \\u2764\\ufe0f\\u2764\\ufe0f\\u2764\\ufe0f\\u2763\\ufe0f\\u2763\\ufe0f\\ud83e\\udd24\\ud83e\\udd24\", \"nonnveg Dominator Golden Delight Burger pizza \\u2764\\ufe0f\\u2764\\ufe0f\\u2764\\ufe0f\\u2763\\ufe0f\\u2763\\ufe0f\\ud83e\\udd24\\ud83e\\udd24\", \"nonnveg Dominator Golden Delight Burger pizza \\u2764\\ufe0f\\u2764\\ufe0f\\u2764\\ufe0f\\u2763\\ufe0f\\u2763\\ufe0f\\ud83e\\udd24\\ud83e\\udd24\", \"nonnveg Dominator Golden Delight Burger pizza \\u2764\\ufe0f\\u2764\\ufe0f\\u2764\\ufe0f\\u2763\\ufe0f\\u2763\\ufe0f\\ud83e\\udd24\\ud83e\\udd24\", \"nonnveg Dominator Golden Delight Burger pizza \\u2764\\ufe0f\\u2764\\ufe0f\\u2764\\ufe0f\\u2763\\ufe0f\\u2763\\ufe0f\\ud83e\\udd24\\ud83e\\udd24\", \"nonnveg Dominator Golden Delight Burger pizza \\u2764\\ufe0f\\u2764\\ufe0f\\u2764\\ufe0f\\u2763\\ufe0f\\u2763\\ufe0f\\ud83e\\udd24\\ud83e\\udd24\", \"okay home delivery much high\", \"okay home delivery much high\", \"okay home delivery much high\", \"okay home delivery much high\", \"okay home delivery much high\", \"okay home delivery much high\", \"okay home delivery much high\", \"online payment option like Gpay phone working\", \"online payment option like Gpay phone working\", \"online payment option like Gpay phone working\", \"online payment option like Gpay phone working\", \"online payment option like Gpay phone working\", \"online payment option like Gpay phone working\", \"online payment option like Gpay phone working\", \"order Pizza extravaganza awesome Garlic bread worst also provide Never order garlic bread otherwise pizza nice\", \"order Pizza extravaganza awesome Garlic bread worst also provide Never order garlic bread otherwise pizza nice\", \"order Pizza extravaganza awesome Garlic bread worst also provide Never order garlic bread otherwise pizza nice\", \"order Pizza extravaganza awesome Garlic bread worst also provide Never order garlic bread otherwise pizza nice\", \"order Pizza extravaganza awesome Garlic bread worst also provide Never order garlic bread otherwise pizza nice\", \"order Pizza extravaganza awesome Garlic bread worst also provide Never order garlic bread otherwise pizza nice\", \"order Pizza extravaganza awesome Garlic bread worst also provide Never order garlic bread otherwise pizza nice\", \"ordered home delivery payment debited submitted proof delivery handed pizza store call stating payment recieved Nitin store call extremely rude impolite\", \"ordered home delivery payment debited submitted proof delivery handed pizza store call stating payment recieved Nitin store call extremely rude impolite\", \"ordered home delivery payment debited submitted proof delivery handed pizza store call stating payment recieved Nitin store call extremely rude impolite\", \"ordered home delivery payment debited submitted proof delivery handed pizza store call stating payment recieved Nitin store call extremely rude impolite\", \"ordered home delivery payment debited submitted proof delivery handed pizza store call stating payment recieved Nitin store call extremely rude impolite\", \"ordered home delivery payment debited submitted proof delivery handed pizza store call stating payment recieved Nitin store call extremely rude impolite\", \"ordered home delivery payment debited submitted proof delivery handed pizza store call stating payment recieved Nitin store call extremely rude impolite\", \"outlet congested dine better order dine\", \"outlet congested dine better order dine\", \"outlet congested dine better order dine\", \"outlet congested dine better order dine\", \"outlet congested dine better order dine\", \"outlet congested dine better order dine\", \"outlet congested dine better order dine\", \"outlet mismanaged staff quality pizza served\", \"outlet mismanaged staff quality pizza served\", \"outlet mismanaged staff quality pizza served\", \"outlet mismanaged staff quality pizza served\", \"outlet mismanaged staff quality pizza served\", \"outlet mismanaged staff quality pizza served\", \"outlet mismanaged staff quality pizza served\", \"percentage good behaviour service delivery\", \"percentage good behaviour service delivery\", \"percentage good behaviour service delivery\", \"percentage good behaviour service delivery\", \"percentage good behaviour service delivery\", \"percentage good behaviour service delivery\", \"percentage good behaviour service delivery\", \"pizza along taco burgerpizza Garlic bread stick must cheesy Cheeseburst crust Overall amazing\\u2764\", \"pizza along taco burgerpizza Garlic bread stick must cheesy Cheeseburst crust Overall amazing\\u2764\", \"pizza along taco burgerpizza Garlic bread stick must cheesy Cheeseburst crust Overall amazing\\u2764\", \"pizza along taco burgerpizza Garlic bread stick must cheesy Cheeseburst crust Overall amazing\\u2764\", \"pizza along taco burgerpizza Garlic bread stick must cheesy Cheeseburst crust Overall amazing\\u2764\", \"pizza along taco burgerpizza Garlic bread stick must cheesy Cheeseburst crust Overall amazing\\u2764\", \"pizza along taco burgerpizza Garlic bread stick must cheesy Cheeseburst crust Overall amazing\\u2764\", \"pizza good price expensive\", \"pizza good price expensive\", \"pizza good price expensive\", \"pizza good price expensive\", \"pizza good price expensive\", \"pizza good price expensive\", \"pizza good price expensive\", \"pizza tasty\", \"pizza tasty\", \"pizza tasty\", \"pizza tasty\", \"pizza tasty\", \"pizza tasty\", \"pizza tasty\", \"place Food road Costly\", \"place Food road Costly\", \"place Food road Costly\", \"place Food road Costly\", \"place Food road Costly\", \"place Food road Costly\", \"place Food road Costly\", \"place available 24hrs visited place traveling hungry thought pizza guy open closed They said time limit nothing available even\", \"place available 24hrs visited place traveling hungry thought pizza guy open closed They said time limit nothing available even\", \"place available 24hrs visited place traveling hungry thought pizza guy open closed They said time limit nothing available even\", \"place available 24hrs visited place traveling hungry thought pizza guy open closed They said time limit nothing available even\", \"place available 24hrs visited place traveling hungry thought pizza guy open closed They said time limit nothing available even\", \"place available 24hrs visited place traveling hungry thought pizza guy open closed They said time limit nothing available even\", \"place available 24hrs visited place traveling hungry thought pizza guy open closed They said time limit nothing available even\", \"place awesome There Everyday Value offer pizza rupee think saving offered elsewhere Moreover assured quality food getting fear\", \"place awesome There Everyday Value offer pizza rupee think saving offered elsewhere Moreover assured quality food getting fear\", \"place awesome There Everyday Value offer pizza rupee think saving offered elsewhere Moreover assured quality food getting fear\", \"place awesome There Everyday Value offer pizza rupee think saving offered elsewhere Moreover assured quality food getting fear\", \"place awesome There Everyday Value offer pizza rupee think saving offered elsewhere Moreover assured quality food getting fear\", \"place awesome There Everyday Value offer pizza rupee think saving offered elsewhere Moreover assured quality food getting fear\", \"place awesome There Everyday Value offer pizza rupee think saving offered elsewhere Moreover assured quality food getting fear\", \"place small disappoint food quality\", \"place small disappoint food quality\", \"place small disappoint food quality\", \"place small disappoint food quality\", \"place small disappoint food quality\", \"place small disappoint food quality\", \"place small disappoint food quality\", \"place small matter food delicious\", \"place small matter food delicious\", \"place small matter food delicious\", \"place small matter food delicious\", \"place small matter food delicious\", \"place small matter food delicious\", \"place small matter food delicious\", \"poor hygiene\", \"poor hygiene\", \"poor hygiene\", \"poor hygiene\", \"poor hygiene\", \"poor hygiene\", \"poor hygiene\", \"rush cook well\", \"rush cook well\", \"rush cook well\", \"rush cook well\", \"rush cook well\", \"rush cook well\", \"rush cook well\", \"service ..... extra charge ketchup pouch ....\", \"service ..... extra charge ketchup pouch ....\", \"service ..... extra charge ketchup pouch ....\", \"service ..... extra charge ketchup pouch ....\", \"service ..... extra charge ketchup pouch ....\", \"service ..... extra charge ketchup pouch ....\", \"service ..... extra charge ketchup pouch ....\", \"small place waiting time\", \"small place waiting time\", \"small place waiting time\", \"small place waiting time\", \"small place waiting time\", \"small place waiting time\", \"small place waiting time\", \"space le although good service\", \"space le although good service\", \"space le although good service\", \"space le although good service\", \"space le although good service\", \"space le although good service\", \"space le although good service\", \"staff domino outlet amazing recommended pizza would right pocket number people\", \"staff domino outlet amazing recommended pizza would right pocket number people\", \"staff domino outlet amazing recommended pizza would right pocket number people\", \"staff domino outlet amazing recommended pizza would right pocket number people\", \"staff domino outlet amazing recommended pizza would right pocket number people\", \"staff domino outlet amazing recommended pizza would right pocket number people\", \"staff domino outlet amazing recommended pizza would right pocket number people\", \"star brand DOMINO service ordered boneless chicken wing gave barbeque chicken wing also place small loud traffic\", \"star brand DOMINO service ordered boneless chicken wing gave barbeque chicken wing also place small loud traffic\", \"star brand DOMINO service ordered boneless chicken wing gave barbeque chicken wing also place small loud traffic\", \"star brand DOMINO service ordered boneless chicken wing gave barbeque chicken wing also place small loud traffic\", \"star brand DOMINO service ordered boneless chicken wing gave barbeque chicken wing also place small loud traffic\", \"star brand DOMINO service ordered boneless chicken wing gave barbeque chicken wing also place small loud traffic\", \"star brand DOMINO service ordered boneless chicken wing gave barbeque chicken wing also place small loud traffic\", \"still stick mojo\", \"still stick mojo\", \"still stick mojo\", \"still stick mojo\", \"still stick mojo\", \"still stick mojo\", \"still stick mojo\", \"take away parcel service worst They interested providing online order people already theri doorstep order delivered late Food wise standard quality maintained\", \"take away parcel service worst They interested providing online order people already theri doorstep order delivered late Food wise standard quality maintained\", \"take away parcel service worst They interested providing online order people already theri doorstep order delivered late Food wise standard quality maintained\", \"take away parcel service worst They interested providing online order people already theri doorstep order delivered late Food wise standard quality maintained\", \"take away parcel service worst They interested providing online order people already theri doorstep order delivered late Food wise standard quality maintained\", \"take away parcel service worst They interested providing online order people already theri doorstep order delivered late Food wise standard quality maintained\", \"take away parcel service worst They interested providing online order people already theri doorstep order delivered late Food wise standard quality maintained\", \"take time given order speed domino\", \"take time given order speed domino\", \"take time given order speed domino\", \"take time given order speed domino\", \"take time given order speed domino\", \"take time given order speed domino\", \"take time given order speed domino\", \"think ketchup provided complimentary item give money\", \"think ketchup provided complimentary item give money\", \"think ketchup provided complimentary item give money\", \"think ketchup provided complimentary item give money\", \"think ketchup provided complimentary item give money\", \"think ketchup provided complimentary item give money\", \"think ketchup provided complimentary item give money\", \"usual Ossum Pizzaa Place Very congested le staff take order\", \"usual Ossum Pizzaa Place Very congested le staff take order\", \"usual Ossum Pizzaa Place Very congested le staff take order\", \"usual Ossum Pizzaa Place Very congested le staff take order\", \"usual Ossum Pizzaa Place Very congested le staff take order\", \"usual Ossum Pizzaa Place Very congested le staff take order\", \"usual Ossum Pizzaa Place Very congested le staff take order\", \"various pizza Domino kind diffrent uniqueness\", \"various pizza Domino kind diffrent uniqueness\", \"various pizza Domino kind diffrent uniqueness\", \"various pizza Domino kind diffrent uniqueness\", \"various pizza Domino kind diffrent uniqueness\", \"various pizza Domino kind diffrent uniqueness\", \"various pizza Domino kind diffrent uniqueness\", \"visiting food always good need take extra care cleanliness\", \"visiting food always good need take extra care cleanliness\", \"visiting food always good need take extra care cleanliness\", \"visiting food always good need take extra care cleanliness\", \"visiting food always good need take extra care cleanliness\", \"visiting food always good need take extra care cleanliness\", \"visiting food always good need take extra care cleanliness\", \"wash basin outlet\", \"wash basin outlet\", \"wash basin outlet\", \"wash basin outlet\", \"wash basin outlet\", \"wash basin outlet\", \"wash basin outlet\", \"water available drinking option bottled water\", \"water available drinking option bottled water\", \"water available drinking option bottled water\", \"water available drinking option bottled water\", \"water available drinking option bottled water\", \"water available drinking option bottled water\", \"water available drinking option bottled water\", \"went last week Koparkhairne.This place lack space like ambience.Hence recommend member together.Also place hygienic table cleaned.I prefer place take away hangout\", \"went last week Koparkhairne.This place lack space like ambience.Hence recommend member together.Also place hygienic table cleaned.I prefer place take away hangout\", \"went last week Koparkhairne.This place lack space like ambience.Hence recommend member together.Also place hygienic table cleaned.I prefer place take away hangout\", \"went last week Koparkhairne.This place lack space like ambience.Hence recommend member together.Also place hygienic table cleaned.I prefer place take away hangout\", \"went last week Koparkhairne.This place lack space like ambience.Hence recommend member together.Also place hygienic table cleaned.I prefer place take away hangout\", \"went last week Koparkhairne.This place lack space like ambience.Hence recommend member together.Also place hygienic table cleaned.I prefer place take away hangout\", \"went last week Koparkhairne.This place lack space like ambience.Hence recommend member together.Also place hygienic table cleaned.I prefer place take away hangout\", \"working super inside\", \"working super inside\", \"working super inside\", \"working super inside\", \"working super inside\", \"working super inside\", \"working super inside\", \"worst shop till date took decide take orders.After working.Table dirty\", \"worst shop till date took decide take orders.After working.Table dirty\", \"worst shop till date took decide take orders.After working.Table dirty\", \"worst shop till date took decide take orders.After working.Table dirty\", \"worst shop till date took decide take orders.After working.Table dirty\", \"worst shop till date took decide take orders.After working.Table dirty\", \"worst shop till date took decide take orders.After working.Table dirty\", \"would give star option available zomato allowing give star politics pathetic place charge ketchup also .... place .... worst place\", \"would give star option available zomato allowing give star politics pathetic place charge ketchup also .... place .... worst place\", \"would give star option available zomato allowing give star politics pathetic place charge ketchup also .... place .... worst place\", \"would give star option available zomato allowing give star politics pathetic place charge ketchup also .... place .... worst place\", \"would give star option available zomato allowing give star politics pathetic place charge ketchup also .... place .... worst place\", \"would give star option available zomato allowing give star politics pathetic place charge ketchup also .... place .... worst place\", \"would give star option available zomato allowing give star politics pathetic place charge ketchup also .... place .... worst place\", \"wrong Domino place sitting arrangement great mainly look like Domino Delivery\", \"wrong Domino place sitting arrangement great mainly look like Domino Delivery\", \"wrong Domino place sitting arrangement great mainly look like Domino Delivery\", \"wrong Domino place sitting arrangement great mainly look like Domino Delivery\", \"wrong Domino place sitting arrangement great mainly look like Domino Delivery\", \"wrong Domino place sitting arrangement great mainly look like Domino Delivery\", \"wrong Domino place sitting arrangement great mainly look like Domino Delivery\", \"yummy delicious pizza base soft cheese mind bobling\", \"yummy delicious pizza base soft cheese mind bobling\", \"yummy delicious pizza base soft cheese mind bobling\", \"yummy delicious pizza base soft cheese mind bobling\", \"yummy delicious pizza base soft cheese mind bobling\", \"yummy delicious pizza base soft cheese mind bobling\", \"yummy delicious pizza base soft cheese mind bobling\"]}, \"R\": 30, \"lambda.step\": 0.01, \"plot.opts\": {\"xlab\": \"PC1\", \"ylab\": \"PC2\"}, \"topic.order\": [6, 3, 7, 5, 4, 2, 1]};\n",
              "\n",
              "function LDAvis_load_lib(url, callback){\n",
              "  var s = document.createElement('script');\n",
              "  s.src = url;\n",
              "  s.async = true;\n",
              "  s.onreadystatechange = s.onload = callback;\n",
              "  s.onerror = function(){console.warn(\"failed to load library \" + url);};\n",
              "  document.getElementsByTagName(\"head\")[0].appendChild(s);\n",
              "}\n",
              "\n",
              "if(typeof(LDAvis) !== \"undefined\"){\n",
              "   // already loaded: just create the visualization\n",
              "   !function(LDAvis){\n",
              "       new LDAvis(\"#\" + \"ldavis_el6291406574199838889776210241\", ldavis_el6291406574199838889776210241_data);\n",
              "   }(LDAvis);\n",
              "}else if(typeof define === \"function\" && define.amd){\n",
              "   // require.js is available: use it to load d3/LDAvis\n",
              "   require.config({paths: {d3: \"https://d3js.org/d3.v5\"}});\n",
              "   require([\"d3\"], function(d3){\n",
              "      window.d3 = d3;\n",
              "      LDAvis_load_lib(\"https://cdn.jsdelivr.net/gh/bmabey/pyLDAvis@3.4.0/pyLDAvis/js/ldavis.v3.0.0.js\", function(){\n",
              "        new LDAvis(\"#\" + \"ldavis_el6291406574199838889776210241\", ldavis_el6291406574199838889776210241_data);\n",
              "      });\n",
              "    });\n",
              "}else{\n",
              "    // require.js not available: dynamically load d3 & LDAvis\n",
              "    LDAvis_load_lib(\"https://d3js.org/d3.v5.js\", function(){\n",
              "         LDAvis_load_lib(\"https://cdn.jsdelivr.net/gh/bmabey/pyLDAvis@3.4.0/pyLDAvis/js/ldavis.v3.0.0.js\", function(){\n",
              "                 new LDAvis(\"#\" + \"ldavis_el6291406574199838889776210241\", ldavis_el6291406574199838889776210241_data);\n",
              "            })\n",
              "         });\n",
              "}\n",
              "</script>"
            ]
          },
          "metadata": {},
          "execution_count": 66
        }
      ]
    }
  ]
}